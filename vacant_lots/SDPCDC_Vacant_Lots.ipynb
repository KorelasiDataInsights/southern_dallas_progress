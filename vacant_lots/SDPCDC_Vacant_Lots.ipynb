{
 "cells": [
  {
   "cell_type": "code",
   "execution_count": 1,
   "id": "0d29884f-d867-4261-ab09-87f04ee76fe9",
   "metadata": {},
   "outputs": [],
   "source": [
    "#import modules\n",
    "import pandas as pd\n",
    "import numpy as np\n",
    "from datetime import datetime\n",
    "#See max columns in a dataframe\n",
    "pd.set_option('display.max_columns', None)\n",
    "pd.set_option('display.max_rows', None)\n"
   ]
  },
  {
   "cell_type": "code",
   "execution_count": 2,
   "id": "c71a21bb-2c9b-4178-b3f4-9616fc728e03",
   "metadata": {},
   "outputs": [],
   "source": [
    "# Read the CSV file with specified data types and skipped first 4 rows\n",
    "vacant_lots_df = pd.read_csv(\"data/southern_dallas_progress_export_20230906.csv\")\n",
    "\n"
   ]
  },
  {
   "cell_type": "code",
   "execution_count": 3,
   "id": "c580d5a7-5550-4070-8232-30fd2dd47c83",
   "metadata": {},
   "outputs": [
    {
     "data": {
      "text/plain": [
       "(39645, 26)"
      ]
     },
     "execution_count": 3,
     "metadata": {},
     "output_type": "execute_result"
    }
   ],
   "source": [
    "#To see the rows before dropping duplicates\n",
    "vacant_lots_df.shape"
   ]
  },
  {
   "cell_type": "code",
   "execution_count": 4,
   "id": "10c1b72d-6849-48d5-ac1a-e07c5b19ef7d",
   "metadata": {},
   "outputs": [],
   "source": [
    "# Remove duplicates based on all columns\n",
    "vacant_lots_df = vacant_lots_df.drop_duplicates(subset=['Parcel ID'])\n"
   ]
  },
  {
   "cell_type": "code",
   "execution_count": 5,
   "id": "77f0c726-475c-4e35-a0bf-d9863d3d0c3b",
   "metadata": {},
   "outputs": [
    {
     "data": {
      "text/plain": [
       "(33941, 26)"
      ]
     },
     "execution_count": 5,
     "metadata": {},
     "output_type": "execute_result"
    }
   ],
   "source": [
    "#Rows after duplicates have been dropped\n",
    "vacant_lots_df.shape"
   ]
  },
  {
   "cell_type": "code",
   "execution_count": 6,
   "id": "87d7c358-15a3-47f4-a72f-c966dbeb5a1e",
   "metadata": {},
   "outputs": [],
   "source": [
    "# Recode 0 as NA in the \"Year Built\" column\n",
    "vacant_lots_df['Year Built'] = np.where(vacant_lots_df['Year Built'] == 0, np.nan, vacant_lots_df['Year Built'])"
   ]
  },
  {
   "cell_type": "code",
   "execution_count": 7,
   "id": "c77ab579-8630-4f35-b306-1c7143a6be07",
   "metadata": {},
   "outputs": [],
   "source": [
    "#Creates field Property Age Years in df\n",
    "\n",
    "#Assign a variable to the current year\n",
    "current_year = 2023\n",
    "\n",
    "# Calculate \"Property Age Years\" as the difference between 2023 and Year Built\n",
    "vacant_lots_df['Property Age Years'] = current_year - vacant_lots_df['Year Built']\n",
    "\n",
    "# Assign the calculated columns to variables for potential future use\n",
    "property_age_years = vacant_lots_df['Property Age Years']\n"
   ]
  },
  {
   "cell_type": "code",
   "execution_count": 8,
   "id": "156c7c13-8854-47f6-9e8f-3d07d7a3fcb8",
   "metadata": {},
   "outputs": [],
   "source": [
    "#Creates field Vacancy Days in df\n",
    "\n",
    "# Convert today's date to a Timestamp object\n",
    "today = pd.Timestamp(datetime.today().date())\n",
    "\n",
    "# Convert the 'Vacant Since' column to a Datetime column \n",
    "vacant_lots_df['Vacant Since'] = pd.to_datetime(vacant_lots_df['Vacant Since'])\n",
    "\n",
    "# Calculate \"Vacancy Days\" as the difference between today's date and \"Vacant Since\" date\n",
    "vacant_lots_df['Vacancy Days'] = (today - vacant_lots_df['Vacant Since']).dt.days\n",
    "\n",
    "# Assign the calculated columns to variables for potential future use\n",
    "vacancy_days = vacant_lots_df['Vacancy Days']"
   ]
  },
  {
   "cell_type": "code",
   "execution_count": 9,
   "id": "25c55694",
   "metadata": {},
   "outputs": [],
   "source": [
    "\n",
    "#For ending set of 3 questions use a function to map Single Family,Multi, and Commercial\n",
    "def zoning_triple_category(row):\n",
    "    zoning=row['Zoning']\n",
    "    \n",
    "    if pd.notna(zoning):#check if thed value is not NaN\n",
    "        if \"Single Family\" in zoning or \"Mobile Home\" in zoning:\n",
    "            return \"Single Family\"\n",
    "        elif any(keyword in zoning for keyword in [\"Multifamily\", \"Duplex\", \"Cluster Housing\", \"Townhouse\"]):\n",
    "            return \"Multifamily\"\n",
    "        elif \"Commercial\" in zoning or \"commercial\" in zoning:\n",
    "            return \"Commercial\"\n",
    "        return \"Other\" #Return \"Other\" for NaN or missing values\n",
    "vacant_lots_df['Zoning Category 3'] = vacant_lots_df.apply(zoning_triple_category, axis=1)  "
   ]
  },
  {
   "cell_type": "code",
   "execution_count": 10,
   "id": "d2e47ee8-082d-4bf1-9e6b-6a4fb3b8acac",
   "metadata": {},
   "outputs": [],
   "source": [
    "# Check if \"CHURCH\" is a partial match in the \"Current Use\" column and create the \"Owner is Church\" column\n",
    "vacant_lots_df['Owner is Church']=vacant_lots_df['Current Use'].str.contains('CHURCH', case=False, na=True)\n",
    "\n",
    "# Map the True/False values to 'Yes' and 'No' in the \"Owner is Church\" column\n",
    "vacant_lots_df['Owner is Church'] = vacant_lots_df['Owner is Church'].map({True: 'Yes', False: 'No'})\n",
    "\n",
    "owner_is_church=vacant_lots_df[\"Owner is Church\"]"
   ]
  },
  {
   "cell_type": "code",
   "execution_count": 11,
   "id": "676bc64e",
   "metadata": {},
   "outputs": [],
   "source": [
    "\n",
    "#Checks strings in zoning column and maps them\n",
    "def classify_zoning_category(row):\n",
    "    zoning = row['Zoning']\n",
    "    \n",
    "    if pd.notna(zoning):  # Check if the value is not NaN\n",
    "        if \"Central Area\" in zoning:\n",
    "            return \"Central Area\"\n",
    "        elif \"Retail\" in zoning or \"Neighborhood Service\" in zoning:\n",
    "            return \"Retail\"\n",
    "        elif any(keyword in zoning for keyword in [\"Single Family\", \"Multifamily\", \"Duplex\", \"Cluster Housing\", \"Townhouse\"]):\n",
    "            return \"Residential\"\n",
    "        elif \"Office\" in zoning:\n",
    "            return \"Office\"\n",
    "        elif \"Industrial\" in zoning:\n",
    "            return \"Industrial\"\n",
    "        elif \"Commercial\" in zoning or \"commercial\" in zoning:  # Handle the typo\n",
    "            return \"Commercial\"\n",
    "    return \"Other\"  # Return \"Other\" for NaN or missing values\n",
    "\n",
    "# Apply the function to create the \"Zoning Category\" column\n",
    "vacant_lots_df['Zoning Category'] = vacant_lots_df.apply(classify_zoning_category, axis=1)"
   ]
  },
  {
   "cell_type": "code",
   "execution_count": 12,
   "id": "2a4a21da-ae69-4230-a021-2e0b2b84540e",
   "metadata": {},
   "outputs": [],
   "source": [
    "# Define a function to apply the classification logic\n",
    "def classify_owner(row):\n",
    "    if pd.notna(row['Public Owner']):\n",
    "        return row['Public Owner']\n",
    "    elif row['Public Owner'] == 'City of Dallas':\n",
    "        return 'City of Dallas'\n",
    "    elif row['Public Owner'] == 'City of Dallas Housing Authority':\n",
    "        return 'City of Dallas Housing Authority'\n",
    "    elif row['Public Owner'] == 'County of Dallas':\n",
    "        return 'County of Dallas'  \n",
    "    elif row['Owner is Church'] == 'Yes':\n",
    "        return 'Church'\n",
    "    elif row['Owner is Business'] == 'Yes':\n",
    "        return 'Business'\n",
    "    elif row['Bank Owned Property'] == 'Yes':\n",
    "        return 'Bank'\n",
    "    else:\n",
    "        return 'Private Owner'\n",
    "\n",
    "# Apply the function to create the \"Owner\" column\n",
    "vacant_lots_df['Owner'] = vacant_lots_df.apply(classify_owner, axis=1)\n",
    "   "
   ]
  },
  {
   "cell_type": "code",
   "execution_count": 13,
   "id": "346aacf3-4f1d-4873-a36a-28661bf82124",
   "metadata": {},
   "outputs": [],
   "source": [
    "# Selecting columns of interest and filtering by 'Property Type' == 'Structure'\n",
    "structure_df = vacant_lots_df[vacant_lots_df['Property Type'] == 'Structure']\n",
    "\n",
    "# Selecting columns of interest and filtering by 'Property Type' == 'Land' for land dataframe\n",
    "land_df = vacant_lots_df[vacant_lots_df['Property Type'] == 'Land']\n",
    "\n",
    "# Filter residential properties\n",
    "residential_properties = vacant_lots_df[vacant_lots_df['Zoning Category'] == 'Residential']\n",
    "\n",
    "# Filter commercial properties used Zone Category 3 column for zoned single family residential, commercial and multifamily questions\n",
    "commercial_properties = vacant_lots_df[vacant_lots_df['Zoning Category 3'] == 'Commercial']\n"
   ]
  },
  {
   "cell_type": "code",
   "execution_count": 14,
   "id": "b1a0afd9-cfcb-4b62-9cb9-456b7e680a2a",
   "metadata": {},
   "outputs": [
    {
     "data": {
      "text/html": [
       "<div>\n",
       "<style scoped>\n",
       "    .dataframe tbody tr th:only-of-type {\n",
       "        vertical-align: middle;\n",
       "    }\n",
       "\n",
       "    .dataframe tbody tr th {\n",
       "        vertical-align: top;\n",
       "    }\n",
       "\n",
       "    .dataframe thead th {\n",
       "        text-align: right;\n",
       "    }\n",
       "</style>\n",
       "<table border=\"1\" class=\"dataframe\">\n",
       "  <thead>\n",
       "    <tr style=\"text-align: right;\">\n",
       "      <th></th>\n",
       "      <th>Parcel ID</th>\n",
       "      <th>Adddress</th>\n",
       "      <th>Owner</th>\n",
       "      <th>Is Vacant Property</th>\n",
       "      <th>Property Type</th>\n",
       "      <th>Current Use</th>\n",
       "      <th>Year Built</th>\n",
       "      <th>Average Year Built By Council District</th>\n",
       "      <th>Owner Location</th>\n",
       "      <th>Owner Property Count</th>\n",
       "      <th>Public Owner</th>\n",
       "      <th>City or County Owned</th>\n",
       "      <th>Owner is Business</th>\n",
       "      <th>Owner Occupied</th>\n",
       "      <th>Suspected Heir Property</th>\n",
       "      <th>Bank Owned Property</th>\n",
       "      <th>Taxes Delinquent Since</th>\n",
       "      <th>Delinquent Taxes</th>\n",
       "      <th>Is Tax Delinquent</th>\n",
       "      <th>Code Liens - Count</th>\n",
       "      <th>Code Liens - Amount</th>\n",
       "      <th>Zip Code</th>\n",
       "      <th>Zoning</th>\n",
       "      <th>Council District</th>\n",
       "      <th>Vacant Since</th>\n",
       "      <th>Land Size</th>\n",
       "      <th>Property Age Years</th>\n",
       "      <th>Vacancy Days</th>\n",
       "      <th>Zoning Category 3</th>\n",
       "      <th>Owner is Church</th>\n",
       "      <th>Zoning Category</th>\n",
       "    </tr>\n",
       "  </thead>\n",
       "  <tbody>\n",
       "    <tr>\n",
       "      <th>0</th>\n",
       "      <td>1.00561E+11</td>\n",
       "      <td>1109 WOOD ST, DALLAS, TX</td>\n",
       "      <td>Business</td>\n",
       "      <td>Yes</td>\n",
       "      <td>Land</td>\n",
       "      <td>C12 - COMMERCIAL - VACANT PLOTTED LOTS/TRACTS ...</td>\n",
       "      <td>NaN</td>\n",
       "      <td>1956.0</td>\n",
       "      <td>In City</td>\n",
       "      <td>20</td>\n",
       "      <td>NaN</td>\n",
       "      <td>No</td>\n",
       "      <td>Yes</td>\n",
       "      <td>No</td>\n",
       "      <td>No</td>\n",
       "      <td>No</td>\n",
       "      <td>NaN</td>\n",
       "      <td>NaN</td>\n",
       "      <td>No</td>\n",
       "      <td>NaN</td>\n",
       "      <td>NaN</td>\n",
       "      <td>75202</td>\n",
       "      <td>Central Area - CA-1(A)-Central Area</td>\n",
       "      <td>District 14</td>\n",
       "      <td>2022-04-01</td>\n",
       "      <td>0.124653</td>\n",
       "      <td>NaN</td>\n",
       "      <td>524.0</td>\n",
       "      <td>Other</td>\n",
       "      <td>No</td>\n",
       "      <td>Central Area</td>\n",
       "    </tr>\n",
       "    <tr>\n",
       "      <th>1</th>\n",
       "      <td>1.01971E+11</td>\n",
       "      <td>1908 ELM ST, DALLAS, TX</td>\n",
       "      <td>Private Owner</td>\n",
       "      <td>Yes</td>\n",
       "      <td>Structure</td>\n",
       "      <td>C12 - COMMERCIAL - VACANT PLOTTED LOTS/TRACTS ...</td>\n",
       "      <td>NaN</td>\n",
       "      <td>1956.0</td>\n",
       "      <td>In City</td>\n",
       "      <td>1</td>\n",
       "      <td>NaN</td>\n",
       "      <td>No</td>\n",
       "      <td>No</td>\n",
       "      <td>Unknown</td>\n",
       "      <td>No</td>\n",
       "      <td>No</td>\n",
       "      <td>NaN</td>\n",
       "      <td>NaN</td>\n",
       "      <td>No</td>\n",
       "      <td>NaN</td>\n",
       "      <td>NaN</td>\n",
       "      <td>75201</td>\n",
       "      <td>Other - PD-619</td>\n",
       "      <td>District 14</td>\n",
       "      <td>2023-06-01</td>\n",
       "      <td>0.122321</td>\n",
       "      <td>NaN</td>\n",
       "      <td>98.0</td>\n",
       "      <td>Other</td>\n",
       "      <td>No</td>\n",
       "      <td>Other</td>\n",
       "    </tr>\n",
       "    <tr>\n",
       "      <th>2</th>\n",
       "      <td>1.01995E+11</td>\n",
       "      <td>1913 COMMERCE ST, DALLAS, TX</td>\n",
       "      <td>City of Dallas</td>\n",
       "      <td>Yes</td>\n",
       "      <td>Land</td>\n",
       "      <td>C12 - COMMERCIAL - VACANT PLOTTED LOTS/TRACTS ...</td>\n",
       "      <td>NaN</td>\n",
       "      <td>1956.0</td>\n",
       "      <td>In City</td>\n",
       "      <td>2926</td>\n",
       "      <td>City of Dallas</td>\n",
       "      <td>Yes</td>\n",
       "      <td>No</td>\n",
       "      <td>No</td>\n",
       "      <td>No</td>\n",
       "      <td>No</td>\n",
       "      <td>NaN</td>\n",
       "      <td>NaN</td>\n",
       "      <td>No</td>\n",
       "      <td>NaN</td>\n",
       "      <td>NaN</td>\n",
       "      <td>75201</td>\n",
       "      <td>Other - PD-619</td>\n",
       "      <td>District 14</td>\n",
       "      <td>2022-04-01</td>\n",
       "      <td>0.117204</td>\n",
       "      <td>NaN</td>\n",
       "      <td>524.0</td>\n",
       "      <td>Other</td>\n",
       "      <td>No</td>\n",
       "      <td>Other</td>\n",
       "    </tr>\n",
       "    <tr>\n",
       "      <th>3</th>\n",
       "      <td>1.03702E+11</td>\n",
       "      <td>2523 MAIN ST, DALLAS, TX</td>\n",
       "      <td>Business</td>\n",
       "      <td>Yes</td>\n",
       "      <td>Land</td>\n",
       "      <td>C12 - COMMERCIAL - VACANT PLOTTED LOTS/TRACTS ...</td>\n",
       "      <td>NaN</td>\n",
       "      <td>1925.0</td>\n",
       "      <td>In City</td>\n",
       "      <td>90</td>\n",
       "      <td>NaN</td>\n",
       "      <td>No</td>\n",
       "      <td>Yes</td>\n",
       "      <td>No</td>\n",
       "      <td>No</td>\n",
       "      <td>No</td>\n",
       "      <td>NaN</td>\n",
       "      <td>NaN</td>\n",
       "      <td>No</td>\n",
       "      <td>NaN</td>\n",
       "      <td>NaN</td>\n",
       "      <td>75226</td>\n",
       "      <td>Other - PD-269</td>\n",
       "      <td>District 2</td>\n",
       "      <td>2022-04-01</td>\n",
       "      <td>0.126854</td>\n",
       "      <td>NaN</td>\n",
       "      <td>524.0</td>\n",
       "      <td>Other</td>\n",
       "      <td>No</td>\n",
       "      <td>Other</td>\n",
       "    </tr>\n",
       "    <tr>\n",
       "      <th>4</th>\n",
       "      <td>1.0372E+11</td>\n",
       "      <td>2619 MAIN ST, DALLAS, TX</td>\n",
       "      <td>Business</td>\n",
       "      <td>Yes</td>\n",
       "      <td>Land</td>\n",
       "      <td>C12 - COMMERCIAL - VACANT PLOTTED LOTS/TRACTS ...</td>\n",
       "      <td>NaN</td>\n",
       "      <td>1925.0</td>\n",
       "      <td>Out of State</td>\n",
       "      <td>43</td>\n",
       "      <td>NaN</td>\n",
       "      <td>No</td>\n",
       "      <td>Yes</td>\n",
       "      <td>No</td>\n",
       "      <td>No</td>\n",
       "      <td>No</td>\n",
       "      <td>NaN</td>\n",
       "      <td>NaN</td>\n",
       "      <td>No</td>\n",
       "      <td>NaN</td>\n",
       "      <td>NaN</td>\n",
       "      <td>75226</td>\n",
       "      <td>Other - PD-269</td>\n",
       "      <td>District 2</td>\n",
       "      <td>2022-04-01</td>\n",
       "      <td>0.114955</td>\n",
       "      <td>NaN</td>\n",
       "      <td>524.0</td>\n",
       "      <td>Other</td>\n",
       "      <td>No</td>\n",
       "      <td>Other</td>\n",
       "    </tr>\n",
       "  </tbody>\n",
       "</table>\n",
       "</div>"
      ],
      "text/plain": [
       "     Parcel ID                      Adddress           Owner  \\\n",
       "0  1.00561E+11      1109 WOOD ST, DALLAS, TX        Business   \n",
       "1  1.01971E+11       1908 ELM ST, DALLAS, TX   Private Owner   \n",
       "2  1.01995E+11  1913 COMMERCE ST, DALLAS, TX  City of Dallas   \n",
       "3  1.03702E+11      2523 MAIN ST, DALLAS, TX        Business   \n",
       "4   1.0372E+11      2619 MAIN ST, DALLAS, TX        Business   \n",
       "\n",
       "  Is Vacant Property Property Type  \\\n",
       "0                Yes          Land   \n",
       "1                Yes     Structure   \n",
       "2                Yes          Land   \n",
       "3                Yes          Land   \n",
       "4                Yes          Land   \n",
       "\n",
       "                                         Current Use  Year Built  \\\n",
       "0  C12 - COMMERCIAL - VACANT PLOTTED LOTS/TRACTS ...         NaN   \n",
       "1  C12 - COMMERCIAL - VACANT PLOTTED LOTS/TRACTS ...         NaN   \n",
       "2  C12 - COMMERCIAL - VACANT PLOTTED LOTS/TRACTS ...         NaN   \n",
       "3  C12 - COMMERCIAL - VACANT PLOTTED LOTS/TRACTS ...         NaN   \n",
       "4  C12 - COMMERCIAL - VACANT PLOTTED LOTS/TRACTS ...         NaN   \n",
       "\n",
       "   Average Year Built By Council District Owner Location  \\\n",
       "0                                  1956.0        In City   \n",
       "1                                  1956.0        In City   \n",
       "2                                  1956.0        In City   \n",
       "3                                  1925.0        In City   \n",
       "4                                  1925.0   Out of State   \n",
       "\n",
       "   Owner Property Count    Public Owner City or County Owned  \\\n",
       "0                    20             NaN                   No   \n",
       "1                     1             NaN                   No   \n",
       "2                  2926  City of Dallas                  Yes   \n",
       "3                    90             NaN                   No   \n",
       "4                    43             NaN                   No   \n",
       "\n",
       "  Owner is Business Owner Occupied Suspected Heir Property  \\\n",
       "0               Yes             No                      No   \n",
       "1                No        Unknown                      No   \n",
       "2                No             No                      No   \n",
       "3               Yes             No                      No   \n",
       "4               Yes             No                      No   \n",
       "\n",
       "  Bank Owned Property Taxes Delinquent Since  Delinquent Taxes  \\\n",
       "0                  No                    NaN               NaN   \n",
       "1                  No                    NaN               NaN   \n",
       "2                  No                    NaN               NaN   \n",
       "3                  No                    NaN               NaN   \n",
       "4                  No                    NaN               NaN   \n",
       "\n",
       "  Is Tax Delinquent  Code Liens - Count  Code Liens - Amount  Zip Code  \\\n",
       "0                No                 NaN                  NaN     75202   \n",
       "1                No                 NaN                  NaN     75201   \n",
       "2                No                 NaN                  NaN     75201   \n",
       "3                No                 NaN                  NaN     75226   \n",
       "4                No                 NaN                  NaN     75226   \n",
       "\n",
       "                                Zoning Council District Vacant Since  \\\n",
       "0  Central Area - CA-1(A)-Central Area      District 14   2022-04-01   \n",
       "1                       Other - PD-619      District 14   2023-06-01   \n",
       "2                       Other - PD-619      District 14   2022-04-01   \n",
       "3                       Other - PD-269       District 2   2022-04-01   \n",
       "4                       Other - PD-269       District 2   2022-04-01   \n",
       "\n",
       "   Land Size  Property Age Years  Vacancy Days Zoning Category 3  \\\n",
       "0   0.124653                 NaN         524.0             Other   \n",
       "1   0.122321                 NaN          98.0             Other   \n",
       "2   0.117204                 NaN         524.0             Other   \n",
       "3   0.126854                 NaN         524.0             Other   \n",
       "4   0.114955                 NaN         524.0             Other   \n",
       "\n",
       "  Owner is Church Zoning Category  \n",
       "0              No    Central Area  \n",
       "1              No           Other  \n",
       "2              No           Other  \n",
       "3              No           Other  \n",
       "4              No           Other  "
      ]
     },
     "execution_count": 14,
     "metadata": {},
     "output_type": "execute_result"
    }
   ],
   "source": [
    "vacant_lots_df.head()"
   ]
  },
  {
   "cell_type": "code",
   "execution_count": 16,
   "id": "381ee7ab-ac43-4248-b5eb-ee732aa4309e",
   "metadata": {},
   "outputs": [
    {
     "name": "stdout",
     "output_type": "stream",
     "text": [
      "<class 'pandas.core.frame.DataFrame'>\n",
      "Index: 33941 entries, 0 to 39644\n",
      "Data columns (total 31 columns):\n",
      " #   Column                                  Non-Null Count  Dtype         \n",
      "---  ------                                  --------------  -----         \n",
      " 0   Parcel ID                               33941 non-null  object        \n",
      " 1   Adddress                                33941 non-null  object        \n",
      " 2   Owner                                   33941 non-null  object        \n",
      " 3   Is Vacant Property                      33941 non-null  object        \n",
      " 4   Property Type                           32890 non-null  object        \n",
      " 5   Current Use                             33941 non-null  object        \n",
      " 6   Year Built                              8564 non-null   float64       \n",
      " 7   Average Year Built By Council District  33931 non-null  float64       \n",
      " 8   Owner Location                          33941 non-null  object        \n",
      " 9   Owner Property Count                    33941 non-null  int64         \n",
      " 10  Public Owner                            2417 non-null   object        \n",
      " 11  City or County Owned                    33941 non-null  object        \n",
      " 12  Owner is Business                       33941 non-null  object        \n",
      " 13  Owner Occupied                          33941 non-null  object        \n",
      " 14  Suspected Heir Property                 33941 non-null  object        \n",
      " 15  Bank Owned Property                     33941 non-null  object        \n",
      " 16  Taxes Delinquent Since                  4370 non-null   object        \n",
      " 17  Delinquent Taxes                        4370 non-null   float64       \n",
      " 18  Is Tax Delinquent                       33941 non-null  object        \n",
      " 19  Code Liens - Count                      5625 non-null   float64       \n",
      " 20  Code Liens - Amount                     5625 non-null   float64       \n",
      " 21  Zip Code                                33941 non-null  int64         \n",
      " 22  Zoning                                  26953 non-null  object        \n",
      " 23  Council District                        33931 non-null  object        \n",
      " 24  Vacant Since                            33939 non-null  datetime64[ns]\n",
      " 25  Land Size                               33941 non-null  float64       \n",
      " 26  Property Age Years                      8564 non-null   float64       \n",
      " 27  Vacancy Days                            33939 non-null  float64       \n",
      " 28  Zoning Category 3                       26953 non-null  object        \n",
      " 29  Owner is Church                         33941 non-null  object        \n",
      " 30  Zoning Category                         33941 non-null  object        \n",
      "dtypes: datetime64[ns](1), float64(8), int64(2), object(20)\n",
      "memory usage: 8.3+ MB\n"
     ]
    }
   ],
   "source": [
    "vacant_lots_df.info()"
   ]
  },
  {
   "cell_type": "code",
   "execution_count": 17,
   "id": "f12f07d8-678f-4cfc-98d8-fd3b4a00871f",
   "metadata": {},
   "outputs": [
    {
     "data": {
      "text/plain": [
       "Parcel ID                                     0\n",
       "Adddress                                      0\n",
       "Owner                                         0\n",
       "Is Vacant Property                            0\n",
       "Property Type                              1051\n",
       "Current Use                                   0\n",
       "Year Built                                25377\n",
       "Average Year Built By Council District       10\n",
       "Owner Location                                0\n",
       "Owner Property Count                          0\n",
       "Public Owner                              31524\n",
       "City or County Owned                          0\n",
       "Owner is Business                             0\n",
       "Owner Occupied                                0\n",
       "Suspected Heir Property                       0\n",
       "Bank Owned Property                           0\n",
       "Taxes Delinquent Since                    29571\n",
       "Delinquent Taxes                          29571\n",
       "Is Tax Delinquent                             0\n",
       "Code Liens - Count                        28316\n",
       "Code Liens - Amount                       28316\n",
       "Zip Code                                      0\n",
       "Zoning                                     6988\n",
       "Council District                             10\n",
       "Vacant Since                                  2\n",
       "Land Size                                     0\n",
       "Property Age Years                        25377\n",
       "Vacancy Days                                  2\n",
       "Zoning Category 3                          6988\n",
       "Owner is Church                               0\n",
       "Zoning Category                               0\n",
       "dtype: int64"
      ]
     },
     "execution_count": 17,
     "metadata": {},
     "output_type": "execute_result"
    }
   ],
   "source": [
    "vacant_lots_df.isnull().sum()"
   ]
  },
  {
   "cell_type": "code",
   "execution_count": 18,
   "id": "197c9cfc-7393-4543-9922-8aca00bce068",
   "metadata": {
    "scrolled": true
   },
   "outputs": [
    {
     "data": {
      "text/plain": [
       "Index(['Parcel ID', 'Adddress', 'Owner', 'Is Vacant Property', 'Property Type',\n",
       "       'Current Use', 'Year Built', 'Average Year Built By Council District',\n",
       "       'Owner Location', 'Owner Property Count', 'Public Owner',\n",
       "       'City or County Owned', 'Owner is Business', 'Owner Occupied',\n",
       "       'Suspected Heir Property', 'Bank Owned Property',\n",
       "       'Taxes Delinquent Since', 'Delinquent Taxes', 'Is Tax Delinquent',\n",
       "       'Code Liens - Count', 'Code Liens - Amount', 'Zip Code', 'Zoning',\n",
       "       'Council District', 'Vacant Since', 'Land Size', 'Property Age Years',\n",
       "       'Vacancy Days', 'Zoning Category 3', 'Owner is Church',\n",
       "       'Zoning Category'],\n",
       "      dtype='object')"
      ]
     },
     "execution_count": 18,
     "metadata": {},
     "output_type": "execute_result"
    }
   ],
   "source": [
    "vacant_lots_df.columns"
   ]
  },
  {
   "cell_type": "code",
   "execution_count": 19,
   "id": "e35df33f-c326-41d0-8484-2b2c2cb343e0",
   "metadata": {},
   "outputs": [],
   "source": [
    "#Sets results for dict\n",
    "results = {}"
   ]
  },
  {
   "cell_type": "code",
   "execution_count": 20,
   "id": "d7dc2da6-898a-48fd-a8c3-30062001ae17",
   "metadata": {},
   "outputs": [],
   "source": [
    "#1.How many vacant lots are in each council district?\n",
    "\n",
    "#Groups Council distrcits column and \n",
    "vacant_lots_counts_by_district  = land_df.groupby('Council District').size()\n"
   ]
  },
  {
   "cell_type": "code",
   "execution_count": 21,
   "id": "dbd151ae-57aa-481d-a6af-5cb3a7fc8da1",
   "metadata": {},
   "outputs": [
    {
     "data": {
      "text/plain": [
       "{'question_number': 1,\n",
       " 'value': Council District\n",
       " District 1     1159\n",
       " District 10     296\n",
       " District 11     311\n",
       " District 12      99\n",
       " District 13     392\n",
       " District 14     967\n",
       " District 2     2150\n",
       " District 3     1144\n",
       " District 4     3435\n",
       " District 5     1459\n",
       " District 6     3745\n",
       " District 7     4426\n",
       " District 8     2310\n",
       " District 9      195\n",
       " dtype: int64}"
      ]
     },
     "execution_count": 21,
     "metadata": {},
     "output_type": "execute_result"
    }
   ],
   "source": [
    "#dictonary that starts the result values\n",
    "results[\"How many vacant lots are in each council district?\"] = {\n",
    "    'question_number': 1,\n",
    "    'value': vacant_lots_counts_by_district\n",
    "}\n",
    "\n",
    "results[\"How many vacant lots are in each council district?\"]\n"
   ]
  },
  {
   "cell_type": "code",
   "execution_count": 22,
   "id": "52264ec8-f5a8-4027-a3c5-bc646de98b51",
   "metadata": {},
   "outputs": [],
   "source": [
    "#2 How long have the vacant lots in each council district been vacant? \n",
    "vacant_lots_stats = land_df.groupby('Council District')['Vacancy Days'].agg(['min','median', 'mean', 'max'])\n",
    "\n",
    "# Rename the columns for clarity\n",
    "vacant_lots_stats.columns = ['Min Days', 'Median Days', 'Mean Days', 'Max Days']\n"
   ]
  },
  {
   "cell_type": "code",
   "execution_count": 23,
   "id": "112868d3-cd7b-42ea-9942-18b298b9eeb8",
   "metadata": {},
   "outputs": [
    {
     "data": {
      "text/plain": [
       "{'question_number': 2,\n",
       " 'value':                   Min Days  Median Days   Mean Days  Max Days\n",
       " Council District                                             \n",
       " District 1            98.0        524.0  501.861087     524.0\n",
       " District 10           98.0        524.0  506.871622     524.0\n",
       " District 11           98.0        524.0  502.186495     524.0\n",
       " District 12           98.0        524.0  516.858586     524.0\n",
       " District 13           98.0        524.0  515.683673     524.0\n",
       " District 14           71.0        524.0  510.965874     524.0\n",
       " District 2            98.0        524.0  512.792558     524.0\n",
       " District 3            98.0        524.0  520.027122     524.0\n",
       " District 4            98.0        524.0  513.671325     524.0\n",
       " District 5            98.0        524.0  518.831391     524.0\n",
       " District 6            98.0        524.0  511.835514     524.0\n",
       " District 7            98.0        524.0  517.581563     524.0\n",
       " District 8            98.0        524.0  517.618615     524.0\n",
       " District 9            98.0        524.0  510.543590     524.0}"
      ]
     },
     "execution_count": 23,
     "metadata": {},
     "output_type": "execute_result"
    }
   ],
   "source": [
    "\n",
    "results[\"How long have the vacant lots in each council district been vacant?\"] = {\n",
    "    'question_number': 2,\n",
    "    'value': vacant_lots_stats\n",
    "}\n",
    "\n",
    "\n",
    "results[\"How long have the vacant lots in each council district been vacant?\"]"
   ]
  },
  {
   "cell_type": "code",
   "execution_count": 24,
   "id": "db4cd3c8-6dd1-4c37-b7e4-8d8302429eea",
   "metadata": {},
   "outputs": [],
   "source": [
    "# 3 How many are zoned single family residential, commercial and multifamily? <-- rows are council District; columns are counts within each of the 3 zoning types\n",
    "\n",
    "# Group by 'Council District' and 'Zoning Category', then count occurrences\n",
    "#zoning_category_counts = vacant_lots_df.groupby(['Council District', 'Zoning Category']).size().unstack(fill_value=0)\n"
   ]
  },
  {
   "cell_type": "code",
   "execution_count": 25,
   "id": "c4c2fdee-5cae-4247-8cec-2d9fbb65b8b8",
   "metadata": {},
   "outputs": [
    {
     "data": {
      "text/plain": [
       "'results[\" How many are zoned single family residential, commercial and multifamily? <-- rows are council District; columns are counts within each of the 3 zoning types\"] = {\\n    \\'question_number\\': 3,\\n    \\'value\\': zoning_category_counts\\n}\\n\\nresults'"
      ]
     },
     "execution_count": 25,
     "metadata": {},
     "output_type": "execute_result"
    }
   ],
   "source": [
    "\n",
    "'''results[\" How many are zoned single family residential, commercial and multifamily? <-- rows are council District; columns are counts within each of the 3 zoning types\"] = {\n",
    "    'question_number': 3,\n",
    "    'value': zoning_category_counts\n",
    "}\n",
    "\n",
    "results'''"
   ]
  },
  {
   "cell_type": "code",
   "execution_count": 26,
   "id": "c9fd405d",
   "metadata": {},
   "outputs": [],
   "source": [
    "#3 How many vacant lots in each council district are zoned single family residential, commercial and multifamily \n",
    "\n",
    "# Group by 'Council District' and 'Zoning Category', then count occurrences\n",
    "zoning_category_counts_3 = land_df.groupby(['Council District', 'Zoning Category 3']).size().unstack(fill_value=0)\n"
   ]
  },
  {
   "cell_type": "code",
   "execution_count": 27,
   "id": "42dfb6e9",
   "metadata": {},
   "outputs": [
    {
     "data": {
      "text/plain": [
       "{'question_number': 3,\n",
       " 'value': Zoning Category 3  Commercial  Multifamily  Other  Single Family\n",
       " Council District                                                \n",
       " District 1                  3           65    832            213\n",
       " District 10                 8           54    158             34\n",
       " District 11                 0           15    228             68\n",
       " District 12                 0           18     51             30\n",
       " District 13                 1           65    164            136\n",
       " District 14                 1           92    608              5\n",
       " District 2                182          223   1267            111\n",
       " District 3                 22           42    435            620\n",
       " District 4                 93          254   1284           1802\n",
       " District 5                 12           41    582            824\n",
       " District 6                112           91   1594           1257\n",
       " District 7                149          236    760            370\n",
       " District 8                129           71    634           1471\n",
       " District 9                  5           11     85             16}"
      ]
     },
     "execution_count": 27,
     "metadata": {},
     "output_type": "execute_result"
    }
   ],
   "source": [
    "\n",
    "results[\"How many are zoned single family residential, commercial and multifamily?\"] = {\n",
    "    'question_number': 3,\n",
    "    'value': zoning_category_counts_3\n",
    "}\n",
    "\n",
    "\n",
    "results[\"How many are zoned single family residential, commercial and multifamily?\"]"
   ]
  },
  {
   "cell_type": "code",
   "execution_count": 28,
   "id": "9ecbb9bd-a926-4212-adfc-ecf66ad3baf0",
   "metadata": {},
   "outputs": [],
   "source": [
    "# 4. How many vacant structures are in each council district?\n",
    "\n",
    "# Groups Council District by structure and vacant property\n",
    "\n",
    "# Grouping by 'Council District' and counting occurrences\n",
    "vacant_structure_count = structure_df.groupby('Council District').size()"
   ]
  },
  {
   "cell_type": "code",
   "execution_count": 29,
   "id": "f1cf0e4c-f202-41ea-8b10-7eb7716161d2",
   "metadata": {},
   "outputs": [
    {
     "data": {
      "text/plain": [
       "{'question_number': 4,\n",
       " 'value': Council District\n",
       " District 1      574\n",
       " District 10     294\n",
       " District 11     280\n",
       " District 12      68\n",
       " District 13     963\n",
       " District 14     716\n",
       " District 2     1232\n",
       " District 3      378\n",
       " District 4     1728\n",
       " District 5      588\n",
       " District 6     1477\n",
       " District 7     1170\n",
       " District 8      653\n",
       " District 9      671\n",
       " dtype: int64}"
      ]
     },
     "execution_count": 29,
     "metadata": {},
     "output_type": "execute_result"
    }
   ],
   "source": [
    "\n",
    "results[\"How many vacant structures are in each council district?\"] = {\n",
    "    'question_number': 4,\n",
    "    'value': vacant_structure_count\n",
    "}\n",
    "\n",
    "results[\"How many vacant structures are in each council district?\"]"
   ]
  },
  {
   "cell_type": "code",
   "execution_count": 30,
   "id": "ba28cd70-5bb8-48f9-8fe2-bdc53dbae63c",
   "metadata": {},
   "outputs": [],
   "source": [
    "#5 How long have the vacant structures in each council district been vacant? (see question 2)\n",
    "vacant_structure_count_days = structure_df.groupby('Council District')['Vacancy Days'].agg(['min','median', 'mean', 'max'])\n",
    "\n",
    "# Rename the columns for clarity\n",
    "vacant_structure_count_days.columns = ['Min Days', 'Median Days', 'Mean Days', 'Max Days']\n"
   ]
  },
  {
   "cell_type": "code",
   "execution_count": 31,
   "id": "51203e53-d0f5-4d2e-9e44-711222f64f73",
   "metadata": {},
   "outputs": [
    {
     "data": {
      "text/plain": [
       "{'question_number': 5,\n",
       " 'value':                   Min Days  Median Days   Mean Days  Max Days\n",
       " Council District                                             \n",
       " District 1            98.0        524.0  454.083624     524.0\n",
       " District 10           98.0        524.0  363.874150     524.0\n",
       " District 11           98.0        524.0  393.510714     524.0\n",
       " District 12           98.0        243.0  295.808824     524.0\n",
       " District 13           98.0        524.0  424.689512     524.0\n",
       " District 14           98.0        524.0  394.997207     524.0\n",
       " District 2            98.0        524.0  424.135552     524.0\n",
       " District 3            98.0        524.0  447.264550     524.0\n",
       " District 4            98.0        524.0  437.689236     524.0\n",
       " District 5            98.0        524.0  461.197279     524.0\n",
       " District 6            98.0        524.0  446.817874     524.0\n",
       " District 7            98.0        524.0  439.519658     524.0\n",
       " District 8            98.0        524.0  469.808576     524.0\n",
       " District 9            98.0        524.0  384.307004     524.0}"
      ]
     },
     "execution_count": 31,
     "metadata": {},
     "output_type": "execute_result"
    }
   ],
   "source": [
    "\n",
    "results[\"How long have the vacant structures in each council district been vacant? (see question 2)\"] = {\n",
    "    'question_number': 5,\n",
    "    'value': vacant_structure_count_days\n",
    "}\n",
    "\n",
    "results[\"How long have the vacant structures in each council district been vacant? (see question 2)\"]"
   ]
  },
  {
   "cell_type": "code",
   "execution_count": 32,
   "id": "9d0600cb-c7b9-41a8-98fe-c245992e90d5",
   "metadata": {},
   "outputs": [],
   "source": [
    "\n",
    "#6 How many vacant structures in each council district are zoned single family residential, commercial and multifamily? (see question 3)\n",
    "\n",
    "zoning_category_counts_structure = structure_df.groupby(['Council District', 'Zoning Category 3']).size().unstack(fill_value=0)\n"
   ]
  },
  {
   "cell_type": "code",
   "execution_count": 33,
   "id": "30adcbe3-2cf3-4ba6-a86f-c9339fd6088b",
   "metadata": {},
   "outputs": [
    {
     "data": {
      "text/plain": [
       "{'question_number': 6,\n",
       " 'value': Zoning Category 3  Commercial  Multifamily  Other  Single Family\n",
       " Council District                                                \n",
       " District 1                  4           30    281            228\n",
       " District 10                 6           18    140             45\n",
       " District 11                 0           27     95            158\n",
       " District 12                 0           15     17             36\n",
       " District 13                 0           35    237            671\n",
       " District 14                 1           89    277             24\n",
       " District 2                 47          164    437             48\n",
       " District 3                  5           12     80            279\n",
       " District 4                 12           75    272           1368\n",
       " District 5                  6           31     92            459\n",
       " District 6                 16           59    518            615\n",
       " District 7                 26           81     95            224\n",
       " District 8                 11           13     76            553\n",
       " District 9                  1           39    120             42}"
      ]
     },
     "execution_count": 33,
     "metadata": {},
     "output_type": "execute_result"
    }
   ],
   "source": [
    "\n",
    "results[\"How many vacant structures in each council district are zoned single family residential, commercial and multifamily? (see question 3)\"] = {\n",
    "    'question_number': 6,\n",
    "    'value': zoning_category_counts_structure\n",
    "}\n",
    "\n",
    "results[\"How many vacant structures in each council district are zoned single family residential, commercial and multifamily? (see question 3)\"] \n"
   ]
  },
  {
   "cell_type": "code",
   "execution_count": 34,
   "id": "6947266c-2298-44b0-8bb1-8c3acc09e34f",
   "metadata": {},
   "outputs": [],
   "source": [
    "#7.How many vacant lots are in each zip code?\n",
    "\n",
    "# Groups the zip code and if property is vacant and produces the count \n",
    "vacant_lots_counts_by_zip = land_df.groupby('Zip Code').size()\n",
    "\n",
    "# Convert index (zip codes) to integers to remove the .0 decimal part\n",
    "vacant_lots_counts_by_zip.index = vacant_lots_counts_by_zip.index.astype(int)"
   ]
  },
  {
   "cell_type": "code",
   "execution_count": 35,
   "id": "131cfafc-4138-4d5e-ada7-503068707ced",
   "metadata": {},
   "outputs": [
    {
     "data": {
      "text/plain": [
       "{'question_number': 7,\n",
       " 'value': Zip Code\n",
       " 75006       4\n",
       " 75019      19\n",
       " 75041       1\n",
       " 75043       5\n",
       " 75050       1\n",
       " 75051       5\n",
       " 75060       1\n",
       " 75062       1\n",
       " 75063       2\n",
       " 75080       9\n",
       " 75081       2\n",
       " 75141       4\n",
       " 75149       9\n",
       " 75150       4\n",
       " 75159       3\n",
       " 75182       1\n",
       " 75201     324\n",
       " 75202     121\n",
       " 75203    2054\n",
       " 75204     443\n",
       " 75205      35\n",
       " 75206     225\n",
       " 75207     206\n",
       " 75208     796\n",
       " 75209     106\n",
       " 75210     976\n",
       " 75211     693\n",
       " 75212    2336\n",
       " 75214     113\n",
       " 75215    2687\n",
       " 75216    1845\n",
       " 75217    1640\n",
       " 75218      83\n",
       " 75219     311\n",
       " 75220     355\n",
       " 75223     796\n",
       " 75224     219\n",
       " 75225      90\n",
       " 75226     437\n",
       " 75227     499\n",
       " 75228     167\n",
       " 75229     316\n",
       " 75230     155\n",
       " 75231     137\n",
       " 75232     260\n",
       " 75233     153\n",
       " 75234      18\n",
       " 75235     289\n",
       " 75236     222\n",
       " 75237     248\n",
       " 75238      69\n",
       " 75240      70\n",
       " 75241    1427\n",
       " 75243     210\n",
       " 75244      12\n",
       " 75246     124\n",
       " 75247     242\n",
       " 75248     120\n",
       " 75249      58\n",
       " 75251       7\n",
       " 75252      18\n",
       " 75253     269\n",
       " 75254      44\n",
       " 75270       1\n",
       " 75287       1\n",
       " dtype: int64}"
      ]
     },
     "execution_count": 35,
     "metadata": {},
     "output_type": "execute_result"
    }
   ],
   "source": [
    "\n",
    "results[\"How many vacant lots are in each zip code?\"] = {\n",
    "    'question_number': 7,\n",
    "    'value': vacant_lots_counts_by_zip\n",
    "}\n",
    "\n",
    "results[\"How many vacant lots are in each zip code?\"]"
   ]
  },
  {
   "cell_type": "code",
   "execution_count": 36,
   "id": "20706e3a-5456-4881-b1b7-d9c7e23e15ff",
   "metadata": {},
   "outputs": [],
   "source": [
    "#8 How long have the vacant lots in each zip code been vacant?\n",
    "vacant_zips_count_days = land_df.groupby('Zip Code')['Vacancy Days'].agg(['min','median', 'mean', 'max'])\n",
    "\n",
    "# Convert index (zip codes) to integers to remove the .0 decimal part\n",
    "vacant_zips_count_days.index = vacant_zips_count_days.index.astype(int)\n",
    "\n",
    "# Rename the columns for clarity\n",
    "vacant_zips_count_days.columns = ['Min Days', 'Median Days', 'Mean Days', 'Max Days']"
   ]
  },
  {
   "cell_type": "code",
   "execution_count": 37,
   "id": "ce8c6eed-e3bd-485f-a1b7-2b55425c77cb",
   "metadata": {},
   "outputs": [
    {
     "data": {
      "text/plain": [
       "{'question_number': 8,\n",
       " 'value':           Min Days  Median Days   Mean Days  Max Days\n",
       " Zip Code                                             \n",
       " 75006        524.0        524.0  524.000000     524.0\n",
       " 75019         98.0        524.0  479.157895     524.0\n",
       " 75041        524.0        524.0  524.000000     524.0\n",
       " 75043        524.0        524.0  524.000000     524.0\n",
       " 75050        524.0        524.0  524.000000     524.0\n",
       " 75051        524.0        524.0  524.000000     524.0\n",
       " 75060        524.0        524.0  524.000000     524.0\n",
       " 75062        524.0        524.0  524.000000     524.0\n",
       " 75063        524.0        524.0  524.000000     524.0\n",
       " 75080        524.0        524.0  524.000000     524.0\n",
       " 75081        524.0        524.0  524.000000     524.0\n",
       " 75141        524.0        524.0  524.000000     524.0\n",
       " 75149        243.0        524.0  492.777778     524.0\n",
       " 75150        371.0        524.0  485.750000     524.0\n",
       " 75159        524.0        524.0  524.000000     524.0\n",
       " 75182        524.0        524.0  524.000000     524.0\n",
       " 75201         98.0        524.0  512.820988     524.0\n",
       " 75202         98.0        524.0  486.033058     524.0\n",
       " 75203         98.0        524.0  508.660175     524.0\n",
       " 75204         98.0        524.0  508.577878     524.0\n",
       " 75205        190.0        524.0  514.457143     524.0\n",
       " 75206         71.0        524.0  513.737778     524.0\n",
       " 75207         98.0        524.0  510.368932     524.0\n",
       " 75208         98.0        524.0  496.130653     524.0\n",
       " 75209         98.0        524.0  516.490566     524.0\n",
       " 75210         98.0        524.0  520.945697     524.0\n",
       " 75211         98.0        524.0  516.479076     524.0\n",
       " 75212         98.0        524.0  513.611729     524.0\n",
       " 75214         98.0        524.0  512.123894     524.0\n",
       " 75215         98.0        524.0  517.990696     524.0\n",
       " 75216         98.0        524.0  514.125745     524.0\n",
       " 75217         98.0        524.0  518.422561     524.0\n",
       " 75218         98.0        524.0  512.530120     524.0\n",
       " 75219         98.0        524.0  518.604502     524.0\n",
       " 75220         98.0        524.0  516.030986     524.0\n",
       " 75223         98.0        524.0  512.341709     524.0\n",
       " 75224         98.0        524.0  518.164384     524.0\n",
       " 75225         98.0        524.0  519.266667     524.0\n",
       " 75226         98.0        524.0  521.075515     524.0\n",
       " 75227         98.0        524.0  518.677355     524.0\n",
       " 75228         98.0        524.0  506.431138     524.0\n",
       " 75229         98.0        524.0  509.468354     524.0\n",
       " 75230         98.0        524.0  512.419355     524.0\n",
       " 75231         98.0        524.0  514.671533     524.0\n",
       " 75232         98.0        524.0  517.426923     524.0\n",
       " 75233         98.0        524.0  521.215686     524.0\n",
       " 75234         98.0        524.0  476.666667     524.0\n",
       " 75235         98.0        524.0  519.266436     524.0\n",
       " 75236         98.0        524.0  522.072398     524.0\n",
       " 75237         98.0        524.0  522.282258     524.0\n",
       " 75238         98.0        524.0  508.565217     524.0\n",
       " 75240         98.0        524.0  507.500000     524.0\n",
       " 75241         98.0        524.0  517.388928     524.0\n",
       " 75243         98.0        524.0  502.900000     524.0\n",
       " 75244        190.0        524.0  496.166667     524.0\n",
       " 75246         98.0        524.0  512.459677     524.0\n",
       " 75247         98.0        524.0  507.380165     524.0\n",
       " 75248         98.0        524.0  514.558333     524.0\n",
       " 75249        524.0        524.0  524.000000     524.0\n",
       " 75251         98.0        524.0  341.428571     524.0\n",
       " 75252        524.0        524.0  524.000000     524.0\n",
       " 75253         98.0        524.0  515.921933     524.0\n",
       " 75254         98.0        524.0  494.954545     524.0\n",
       " 75270        524.0        524.0  524.000000     524.0\n",
       " 75287        524.0        524.0  524.000000     524.0}"
      ]
     },
     "execution_count": 37,
     "metadata": {},
     "output_type": "execute_result"
    }
   ],
   "source": [
    "\n",
    "results[\"How long have the vacant lots in each zip code been vacant?\"] = {\n",
    "    'question_number': 8,\n",
    "    'value': vacant_zips_count_days\n",
    "}\n",
    "\n",
    "results[\"How long have the vacant lots in each zip code been vacant?\"] "
   ]
  },
  {
   "cell_type": "code",
   "execution_count": 38,
   "id": "bbae9fff-9c6f-457c-be12-964af06e0b40",
   "metadata": {},
   "outputs": [],
   "source": [
    "#9 How many vacant lots in each zip code are zoned single family residential, commercial and multifamily?\n",
    "\n",
    "\n",
    "zoning_category_counts_zip = land_df.groupby(['Zip Code', 'Zoning Category 3']).size().unstack(fill_value=0)\n",
    "\n",
    "# Convert index (zip codes) to integers to remove the .0 decimal part\n",
    "zoning_category_counts_zip.index = zoning_category_counts_zip.index.astype(int)"
   ]
  },
  {
   "cell_type": "code",
   "execution_count": 39,
   "id": "5229a787-4836-43ff-ad77-a3172e291564",
   "metadata": {},
   "outputs": [
    {
     "data": {
      "text/plain": [
       "{'question_number': 9,\n",
       " 'value': Zoning Category 3  Commercial  Multifamily  Other  Single Family\n",
       " Zip Code                                                        \n",
       " 75006                       0            0      4              0\n",
       " 75019                       0            0      3              0\n",
       " 75043                       0            0      4              0\n",
       " 75051                       0            0      1              4\n",
       " 75060                       0            0      1              0\n",
       " 75062                       0            0      1              0\n",
       " 75080                       0            0      9              0\n",
       " 75081                       0            1      1              0\n",
       " 75141                       0            0      4              0\n",
       " 75149                       0            0      9              0\n",
       " 75150                       0            0      2              0\n",
       " 75159                       0            0      1              2\n",
       " 75182                       0            0      1              0\n",
       " 75201                       0            0    235              0\n",
       " 75202                       0            0    112              0\n",
       " 75203                      25          183   1249            593\n",
       " 75204                       0          110    275             10\n",
       " 75205                       0            0      4              0\n",
       " 75206                       1           70    146              4\n",
       " 75207                       1            0    153              0\n",
       " 75208                       9           22    641            107\n",
       " 75209                       1            3     56             25\n",
       " 75210                       1            3     62             34\n",
       " 75211                      22           34    207            403\n",
       " 75212                      77           72   1015           1171\n",
       " 75214                       0           34     34             10\n",
       " 75215                       1            0    684             12\n",
       " 75216                     121           60    406           1258\n",
       " 75217                      23           51    611            955\n",
       " 75218                       4            4     34              6\n",
       " 75219                       0            0     10              0\n",
       " 75220                      25           20    109             20\n",
       " 75223                     229          243    214            110\n",
       " 75224                       2           36     83             98\n",
       " 75225                       0            0     59             31\n",
       " 75226                      25           19    353              0\n",
       " 75227                       6           46    158            289\n",
       " 75228                       4           29     73             19\n",
       " 75229                       2            2     65             48\n",
       " 75230                       0            5    106             44\n",
       " 75231                       0           55     66              0\n",
       " 75232                       0            7     63            190\n",
       " 75233                       0            4     54             95\n",
       " 75234                       0            1     15              1\n",
       " 75235                       7            7    116             14\n",
       " 75236                       1           24    132             63\n",
       " 75237                       1            6    126            115\n",
       " 75238                       6            7     34              0\n",
       " 75240                       0            9     49             12\n",
       " 75241                      83           43    343            953\n",
       " 75243                       3           40    117             34\n",
       " 75244                       0            2      3              7\n",
       " 75246                       2            0    106             16\n",
       " 75247                       0            0     36              0\n",
       " 75248                       0           15     70             35\n",
       " 75249                       0            1     31              3\n",
       " 75251                       0            0      7              0\n",
       " 75252                       0            6      6              6\n",
       " 75253                      36            4     84            145\n",
       " 75254                       0            0     28             16\n",
       " 75270                       0            0      1              0\n",
       " 75287                       0            0      1              0}"
      ]
     },
     "execution_count": 39,
     "metadata": {},
     "output_type": "execute_result"
    }
   ],
   "source": [
    "\n",
    "results[\"How many vacant lots in each zip code are zoned single family residential, commercial and multifamily?\"] = {\n",
    "    'question_number': 9,\n",
    "    'value': zoning_category_counts_zip\n",
    "}\n",
    "\n",
    "results[\"How many vacant lots in each zip code are zoned single family residential, commercial and multifamily?\"]"
   ]
  },
  {
   "cell_type": "code",
   "execution_count": 40,
   "id": "fc1bca64-5ad5-4dbd-b77c-e0b67b19a97c",
   "metadata": {},
   "outputs": [],
   "source": [
    "#10 How many vacant structures are in each zip code?\n",
    "\n",
    "# Groups the zip code and if property is vacant and produces the count \n",
    "vacant_structure_counts_by_zip = structure_df.groupby('Zip Code').size()\n",
    "\n",
    "# Convert index (zip codes) to integers to remove the .0 decimal part\n",
    "vacant_structure_counts_by_zip.index = vacant_structure_counts_by_zip.index.astype(int)"
   ]
  },
  {
   "cell_type": "code",
   "execution_count": 41,
   "id": "e4ed8647-bed0-4add-9275-b11db710d698",
   "metadata": {},
   "outputs": [
    {
     "data": {
      "text/plain": [
       "{'question_number': 10,\n",
       " 'value': Zip Code\n",
       " 75006       1\n",
       " 75042       1\n",
       " 75063       1\n",
       " 75080       1\n",
       " 75081       1\n",
       " 75115       1\n",
       " 75150       1\n",
       " 75201     129\n",
       " 75202      37\n",
       " 75203     394\n",
       " 75204     204\n",
       " 75205      63\n",
       " 75206     255\n",
       " 75207     167\n",
       " 75208     317\n",
       " 75209     316\n",
       " 75210     241\n",
       " 75211     304\n",
       " 75212     676\n",
       " 75214     270\n",
       " 75215     521\n",
       " 75216    1403\n",
       " 75217     508\n",
       " 75218     331\n",
       " 75219     246\n",
       " 75220     328\n",
       " 75223     175\n",
       " 75224     119\n",
       " 75225     142\n",
       " 75226      66\n",
       " 75227     392\n",
       " 75228     663\n",
       " 75229     457\n",
       " 75230     215\n",
       " 75231     126\n",
       " 75232     180\n",
       " 75233      52\n",
       " 75234      19\n",
       " 75235     184\n",
       " 75236      46\n",
       " 75237      44\n",
       " 75238     103\n",
       " 75240      65\n",
       " 75241     449\n",
       " 75243     158\n",
       " 75244      63\n",
       " 75246      33\n",
       " 75247      83\n",
       " 75248     117\n",
       " 75249      18\n",
       " 75251       9\n",
       " 75252       2\n",
       " 75253      71\n",
       " 75254      24\n",
       " dtype: int64}"
      ]
     },
     "execution_count": 41,
     "metadata": {},
     "output_type": "execute_result"
    }
   ],
   "source": [
    "\n",
    "results[\"How many vacant structures are in each zip code?\"] = {\n",
    "    'question_number': 10,\n",
    "    'value': vacant_structure_counts_by_zip\n",
    "}\n",
    "\n",
    "results[\"How many vacant structures are in each zip code?\"]"
   ]
  },
  {
   "cell_type": "code",
   "execution_count": 42,
   "id": "564c83a9-61eb-47a2-8d13-0fea38539967",
   "metadata": {},
   "outputs": [],
   "source": [
    "#11 How long have the vacant structures in each zip code been vacant? (see question 8)\n",
    "vacant_zips_structure_count_days = structure_df.groupby('Zip Code')['Vacancy Days'].agg(['min','median', 'mean', 'max'])\n",
    "\n",
    "# Convert index (zip codes) to integers to remove the .0 decimal part\n",
    "vacant_zips_structure_count_days.index = vacant_zips_structure_count_days.index.astype(int)\n",
    "\n",
    "# Rename the columns for clarity\n",
    "vacant_zips_structure_count_days.columns = ['Min Days', 'Median Days', 'Mean Days', 'Max Days']"
   ]
  },
  {
   "cell_type": "code",
   "execution_count": 43,
   "id": "66e226fb-ad62-434d-8e54-84db58f33b15",
   "metadata": {},
   "outputs": [
    {
     "data": {
      "text/plain": [
       "{'question_number': 11,\n",
       " 'value':           Min Days  Median Days   Mean Days  Max Days\n",
       " Zip Code                                             \n",
       " 75006        524.0        524.0  524.000000     524.0\n",
       " 75042         98.0         98.0   98.000000      98.0\n",
       " 75063        524.0        524.0  524.000000     524.0\n",
       " 75080         98.0         98.0   98.000000      98.0\n",
       " 75081        524.0        524.0  524.000000     524.0\n",
       " 75115        336.0        336.0  336.000000     336.0\n",
       " 75150        371.0        371.0  371.000000     371.0\n",
       " 75201         98.0        243.0  321.085271     524.0\n",
       " 75202         98.0        190.0  306.918919     524.0\n",
       " 75203         98.0        524.0  444.758883     524.0\n",
       " 75204         98.0        524.0  438.137255     524.0\n",
       " 75205         98.0        524.0  435.968254     524.0\n",
       " 75206         98.0        524.0  430.901961     524.0\n",
       " 75207         98.0        524.0  423.233533     524.0\n",
       " 75208         98.0        524.0  450.611987     524.0\n",
       " 75209         98.0        524.0  444.506329     524.0\n",
       " 75210         98.0        524.0  473.858921     524.0\n",
       " 75211         98.0        524.0  470.684211     524.0\n",
       " 75212         98.0        524.0  488.170118     524.0\n",
       " 75214         98.0        524.0  404.096296     524.0\n",
       " 75215         98.0        524.0  458.692898     524.0\n",
       " 75216         98.0        524.0  436.016393     524.0\n",
       " 75217         98.0        524.0  473.864173     524.0\n",
       " 75218         98.0        524.0  402.867069     524.0\n",
       " 75219         98.0        524.0  430.609756     524.0\n",
       " 75220         98.0        524.0  418.487805     524.0\n",
       " 75223         98.0        524.0  463.394286     524.0\n",
       " 75224         98.0        524.0  429.689076     524.0\n",
       " 75225         98.0        524.0  402.781690     524.0\n",
       " 75226         98.0        524.0  453.818182     524.0\n",
       " 75227         98.0        524.0  440.614796     524.0\n",
       " 75228         98.0        433.0  348.408748     524.0\n",
       " 75229         98.0        524.0  393.135667     524.0\n",
       " 75230         98.0        524.0  470.455814     524.0\n",
       " 75231         98.0        524.0  390.658730     524.0\n",
       " 75232         98.0        524.0  405.966667     524.0\n",
       " 75233         98.0        524.0  474.865385     524.0\n",
       " 75234         98.0        524.0  410.315789     524.0\n",
       " 75235         98.0        524.0  460.646739     524.0\n",
       " 75236         98.0        524.0  497.391304     524.0\n",
       " 75237         98.0        524.0  388.318182     524.0\n",
       " 75238         98.0        524.0  357.291262     524.0\n",
       " 75240         98.0        524.0  355.400000     524.0\n",
       " 75241         98.0        524.0  464.890869     524.0\n",
       " 75243         98.0        336.0  342.474684     524.0\n",
       " 75244         98.0        524.0  393.714286     524.0\n",
       " 75246         98.0        524.0  349.696970     524.0\n",
       " 75247         98.0        524.0  449.192771     524.0\n",
       " 75248         98.0        279.0  316.452991     524.0\n",
       " 75249         98.0        524.0  486.777778     524.0\n",
       " 75251         98.0         98.0  181.888889     524.0\n",
       " 75252         98.0        311.0  311.000000     524.0\n",
       " 75253         98.0        524.0  514.042254     524.0\n",
       " 75254         98.0        279.0  323.583333     524.0}"
      ]
     },
     "execution_count": 43,
     "metadata": {},
     "output_type": "execute_result"
    }
   ],
   "source": [
    "\n",
    "results[\"How long have the vacant structures in each zip code been vacant? (see question 8)\"] = {\n",
    "    'question_number': 11,\n",
    "    'value': vacant_zips_structure_count_days\n",
    "}\n",
    "\n",
    "results[\"How long have the vacant structures in each zip code been vacant? (see question 8)\"]"
   ]
  },
  {
   "cell_type": "code",
   "execution_count": 44,
   "id": "51207db8-c9aa-4ba4-af47-23e4814932a8",
   "metadata": {},
   "outputs": [],
   "source": [
    "#12 How many vacant structures in each zip code are zoned single family residential, commercial and multifamily? (see question 9)\n",
    "\n",
    "zoning_category_counts_structure_zip = structure_df.groupby(['Zip Code', 'Zoning Category 3']).size().unstack(fill_value=0)\n",
    "\n",
    "# Convert index (zip codes) to integers to remove the .0 decimal part\n",
    "zoning_category_counts_structure_zip.index = zoning_category_counts_structure_zip.index.astype(int)"
   ]
  },
  {
   "cell_type": "code",
   "execution_count": 45,
   "id": "ed4a74e1-f150-4b69-90c3-896f7460c829",
   "metadata": {},
   "outputs": [
    {
     "data": {
      "text/plain": [
       "{'question_number': 12,\n",
       " 'value': Zoning Category 3  Commercial  Multifamily  Other  Single Family\n",
       " Zip Code                                                        \n",
       " 75006                       0            0      1              0\n",
       " 75042                       0            0      1              0\n",
       " 75080                       0            0      0              1\n",
       " 75081                       0            0      1              0\n",
       " 75115                       0            0      1              0\n",
       " 75150                       0            0      1              0\n",
       " 75201                       0            0     80              0\n",
       " 75202                       0            0     37              0\n",
       " 75203                       1           28    207            157\n",
       " 75204                       4           95     87              1\n",
       " 75205                       0            1      2              0\n",
       " 75206                       1           92    115             19\n",
       " 75207                       0            0    121              0\n",
       " 75208                       7           10    203             75\n",
       " 75209                       0            6    190            101\n",
       " 75210                       0            3      7             11\n",
       " 75211                       4           19     63            209\n",
       " 75212                       5           45    181            445\n",
       " 75214                       0           34     34             15\n",
       " 75215                       0            0     75              0\n",
       " 75216                      21           45    137           1200\n",
       " 75217                       9           14     75            410\n",
       " 75218                       1           25     62             25\n",
       " 75219                       0            0      9              0\n",
       " 75220                       6            6     46            222\n",
       " 75223                      33           28     69             45\n",
       " 75224                       0            9     28             82\n",
       " 75225                       0            9     41             92\n",
       " 75226                       7            2     55              0\n",
       " 75227                       0           65     62            265\n",
       " 75228                      14           25     88              6\n",
       " 75229                       1            5     97            268\n",
       " 75230                       0           10     32            173\n",
       " 75231                       0           16     96              3\n",
       " 75232                       0            7     15            158\n",
       " 75233                       0            0      9             43\n",
       " 75234                       0            0      5             14\n",
       " 75235                       5           20     50             18\n",
       " 75236                       1           11     18             16\n",
       " 75237                       0            0     27             17\n",
       " 75238                       5            2     30              0\n",
       " 75240                       0            3     42             20\n",
       " 75241                       5            4     35            405\n",
       " 75243                       1           13     83             42\n",
       " 75244                       0            3     11             49\n",
       " 75246                       0            0     30              3\n",
       " 75247                       1            0     15              0\n",
       " 75248                       0           22     33             62\n",
       " 75249                       0            0      1             15\n",
       " 75251                       0            0      9              0\n",
       " 75252                       0            0      1              1\n",
       " 75253                       3            1     12             55\n",
       " 75254                       0           10      7              7}"
      ]
     },
     "execution_count": 45,
     "metadata": {},
     "output_type": "execute_result"
    }
   ],
   "source": [
    "\n",
    "results[\"How many vacant structures in each zip code are zoned single family residential, commercial and multifamily? (see question 9)\"] = {\n",
    "    'question_number': 12,\n",
    "    'value': zoning_category_counts_structure_zip\n",
    "}\n",
    "\n",
    "results[\"How many vacant structures in each zip code are zoned single family residential, commercial and multifamily? (see question 9)\"]\n"
   ]
  },
  {
   "cell_type": "code",
   "execution_count": 46,
   "id": "0185e0b6-1ee0-4075-bfea-f404306edcf2",
   "metadata": {},
   "outputs": [],
   "source": [
    "#13 What is the total amount of back taxes owed on vacant land in each City Council District?\n",
    "\n",
    "# Grouping and calculating the total amount of back taxes owed on vacant land by City Council District\n",
    "#Remove vacant prop yes filter\n",
    "back_taxes_total_by_district = land_df.groupby('Council District')['Delinquent Taxes'].sum()"
   ]
  },
  {
   "cell_type": "code",
   "execution_count": 47,
   "id": "bc8d5eef-6569-4104-b574-721daa8b45f4",
   "metadata": {},
   "outputs": [
    {
     "data": {
      "text/plain": [
       "{'question_number': 13,\n",
       " 'value': Council District\n",
       " District 1      686.88\n",
       " District 10      73.07\n",
       " District 11      36.63\n",
       " District 12      12.38\n",
       " District 13    3349.69\n",
       " District 14    1166.07\n",
       " District 2     2729.34\n",
       " District 3     1047.80\n",
       " District 4     2489.74\n",
       " District 5      737.64\n",
       " District 6     2722.43\n",
       " District 7     2072.02\n",
       " District 8     1661.75\n",
       " District 9       34.73\n",
       " Name: Delinquent Taxes, dtype: float64}"
      ]
     },
     "execution_count": 47,
     "metadata": {},
     "output_type": "execute_result"
    }
   ],
   "source": [
    "\n",
    "results[\"What is the total amount of back taxes owed on vacant land in each City Council District?\"] = {\n",
    "    'question_number': 13,\n",
    "    'value': back_taxes_total_by_district\n",
    "}\n",
    "\n",
    "results[\"What is the total amount of back taxes owed on vacant land in each City Council District?\"] "
   ]
  },
  {
   "cell_type": "code",
   "execution_count": 48,
   "id": "163430d4-f1e9-45b5-9ac0-dcc47eb24ecb",
   "metadata": {},
   "outputs": [],
   "source": [
    "#14 What is the total amount of back taxes owed on vacant land in each zip code?\n",
    "\n",
    "# Grouping and calculating the total amount of back taxes owed on vacant land by Zip Code\n",
    "back_taxes_total_by_zip = land_df.groupby('Zip Code')['Delinquent Taxes'].sum()\n",
    "\n",
    "# Convert index (zip codes) to integers to remove the .0 decimal part\n",
    "back_taxes_total_by_zip.index = back_taxes_total_by_zip.index.astype(int)\n"
   ]
  },
  {
   "cell_type": "code",
   "execution_count": 49,
   "id": "707c12d0-845b-46a3-8520-986517785859",
   "metadata": {},
   "outputs": [
    {
     "data": {
      "text/plain": [
       "{'question_number': 14,\n",
       " 'value': Zip Code\n",
       " 75006       0.00\n",
       " 75019       0.05\n",
       " 75041       0.00\n",
       " 75043       0.00\n",
       " 75050       0.00\n",
       " 75051       3.82\n",
       " 75060       0.00\n",
       " 75062       0.00\n",
       " 75063       0.00\n",
       " 75080       0.01\n",
       " 75081       0.16\n",
       " 75141       0.00\n",
       " 75149       0.00\n",
       " 75150       0.02\n",
       " 75159       0.00\n",
       " 75182       0.00\n",
       " 75201     670.36\n",
       " 75202      47.63\n",
       " 75203    1061.66\n",
       " 75204     511.79\n",
       " 75205      12.85\n",
       " 75206     114.97\n",
       " 75207      52.91\n",
       " 75208     715.16\n",
       " 75209     102.16\n",
       " 75210     350.29\n",
       " 75211     397.62\n",
       " 75212    1924.93\n",
       " 75214      70.88\n",
       " 75215    1590.29\n",
       " 75216    1466.31\n",
       " 75217     945.77\n",
       " 75218       0.57\n",
       " 75219     410.38\n",
       " 75220    3033.48\n",
       " 75223     463.30\n",
       " 75224     151.16\n",
       " 75225      66.34\n",
       " 75226    1114.80\n",
       " 75227     343.15\n",
       " 75228      73.90\n",
       " 75229      43.41\n",
       " 75230       1.52\n",
       " 75231     554.58\n",
       " 75232     349.80\n",
       " 75233     105.12\n",
       " 75234       0.00\n",
       " 75235     179.47\n",
       " 75236     143.34\n",
       " 75237     536.98\n",
       " 75238       9.92\n",
       " 75240      30.22\n",
       " 75241     980.39\n",
       " 75243      41.60\n",
       " 75244       0.00\n",
       " 75246       2.53\n",
       " 75247      22.14\n",
       " 75248       5.18\n",
       " 75249       8.59\n",
       " 75251       0.00\n",
       " 75252      11.71\n",
       " 75253      96.45\n",
       " 75254       0.55\n",
       " 75270       0.00\n",
       " 75287       0.00\n",
       " Name: Delinquent Taxes, dtype: float64}"
      ]
     },
     "execution_count": 49,
     "metadata": {},
     "output_type": "execute_result"
    }
   ],
   "source": [
    "\n",
    "results[\"What is the total amount of back taxes owed on vacant land in each zip code?\"] = {\n",
    "    'question_number': 14,\n",
    "    'value': back_taxes_total_by_zip\n",
    "}\n",
    "\n",
    "results[\"What is the total amount of back taxes owed on vacant land in each zip code?\"] "
   ]
  },
  {
   "cell_type": "code",
   "execution_count": 50,
   "id": "3f8fe436-2a56-4eeb-8707-60d935f51e9d",
   "metadata": {},
   "outputs": [],
   "source": [
    "#15 What is the total amount of back taxes owed on vacant structures in each City Council District?\n",
    "\n",
    "# Grouping and calculating the total amount of back taxes owed on vacant land by City Council District\n",
    "back_taxes_total_by_district_by_structure = structure_df.groupby('Council District')['Delinquent Taxes'].sum()\n"
   ]
  },
  {
   "cell_type": "code",
   "execution_count": 51,
   "id": "6ee349b0-234f-49a6-9894-7bbb31a17c8a",
   "metadata": {},
   "outputs": [
    {
     "data": {
      "text/plain": [
       "{'question_number': 15,\n",
       " 'value': Council District\n",
       " District 1      595.25\n",
       " District 10     157.51\n",
       " District 11     675.19\n",
       " District 12     105.98\n",
       " District 13    3978.19\n",
       " District 14    2212.51\n",
       " District 2     1108.95\n",
       " District 3      443.67\n",
       " District 4     1804.12\n",
       " District 5      677.84\n",
       " District 6     2080.38\n",
       " District 7      836.17\n",
       " District 8      540.02\n",
       " District 9      866.64\n",
       " Name: Delinquent Taxes, dtype: float64}"
      ]
     },
     "execution_count": 51,
     "metadata": {},
     "output_type": "execute_result"
    }
   ],
   "source": [
    "\n",
    "results[\"What is the total amount of back taxes owed on vacant structures in each City Council District?\"] = {\n",
    "    'question_number': 15,\n",
    "    'value': back_taxes_total_by_district_by_structure\n",
    "}\n",
    "\n",
    "results[\"What is the total amount of back taxes owed on vacant structures in each City Council District?\"]"
   ]
  },
  {
   "cell_type": "code",
   "execution_count": 52,
   "id": "e2faa9aa-22ad-4e5c-9dd9-a53b3bacdcfe",
   "metadata": {},
   "outputs": [],
   "source": [
    "#16 What is the total amount of back taxes owed on vacant structures in each zip code?\n",
    "\n",
    "# Grouping and calculating the total amount of back taxes owed on vacant land by Zip Code\n",
    "back_taxes_total_by_zip_by_structure = structure_df.groupby('Zip Code')['Delinquent Taxes'].sum()\n",
    "\n",
    "# Convert index (zip codes) to integers to remove the .0 decimal part\n",
    "back_taxes_total_by_zip_by_structure.index = back_taxes_total_by_zip_by_structure.index.astype(int)\n"
   ]
  },
  {
   "cell_type": "code",
   "execution_count": 53,
   "id": "11d176ff-b992-4559-9184-61226261fa81",
   "metadata": {},
   "outputs": [
    {
     "data": {
      "text/plain": [
       "{'question_number': 16,\n",
       " 'value': Zip Code\n",
       " 75006       0.00\n",
       " 75042       0.00\n",
       " 75063       0.00\n",
       " 75080       0.00\n",
       " 75081       0.00\n",
       " 75115      48.01\n",
       " 75150       0.01\n",
       " 75201    1042.72\n",
       " 75202       0.00\n",
       " 75203     399.33\n",
       " 75204     299.72\n",
       " 75205     179.92\n",
       " 75206     377.25\n",
       " 75207     206.54\n",
       " 75208     524.42\n",
       " 75209     940.60\n",
       " 75210     199.91\n",
       " 75211     256.09\n",
       " 75212     506.37\n",
       " 75214     456.50\n",
       " 75215     293.40\n",
       " 75216    1406.63\n",
       " 75217     543.47\n",
       " 75218     595.17\n",
       " 75219     238.44\n",
       " 75220    1708.26\n",
       " 75223     468.43\n",
       " 75224      60.67\n",
       " 75225     471.83\n",
       " 75226       5.69\n",
       " 75227     491.98\n",
       " 75228     419.99\n",
       " 75229    1404.10\n",
       " 75230     658.43\n",
       " 75231     495.71\n",
       " 75232     166.81\n",
       " 75233      88.56\n",
       " 75234       0.00\n",
       " 75235      71.04\n",
       " 75236       7.20\n",
       " 75237      56.99\n",
       " 75238      59.41\n",
       " 75240      27.56\n",
       " 75241     380.76\n",
       " 75243     127.37\n",
       " 75244      71.40\n",
       " 75246      81.20\n",
       " 75247       6.56\n",
       " 75248     116.08\n",
       " 75249      15.40\n",
       " 75251       0.00\n",
       " 75252       0.00\n",
       " 75253      51.94\n",
       " 75254      54.55\n",
       " Name: Delinquent Taxes, dtype: float64}"
      ]
     },
     "execution_count": 53,
     "metadata": {},
     "output_type": "execute_result"
    }
   ],
   "source": [
    "\n",
    "results[\"What is the total amount of back taxes owed on vacant structures in each zip code?\"] = {\n",
    "    'question_number': 16,\n",
    "    'value': back_taxes_total_by_zip_by_structure\n",
    "}\n",
    "\n",
    "results[\"What is the total amount of back taxes owed on vacant structures in each zip code?\"] "
   ]
  },
  {
   "cell_type": "code",
   "execution_count": 54,
   "id": "3442b4b1-f574-4f54-9dcb-95c7e898f694",
   "metadata": {},
   "outputs": [],
   "source": [
    "#17 What is the average age of residential properties in each council district?\n",
    "\n",
    "#avg_age__prop_District=vacant_lots_df.groupby('Council District')['Property Age Years'].mean()\n",
    "# Calculate the average age of residential properties\n",
    "\n",
    "residential_avg_age_prop_District = residential_properties.groupby('Council District')['Property Age Years'].mean()"
   ]
  },
  {
   "cell_type": "code",
   "execution_count": 55,
   "id": "cc42acb2-2ac1-4f36-b854-cd6a63906872",
   "metadata": {},
   "outputs": [
    {
     "data": {
      "text/plain": [
       "{'question_number': 17,\n",
       " 'value': Council District\n",
       " District 1     65.523810\n",
       " District 10    50.153846\n",
       " District 11    37.125000\n",
       " District 12    42.511111\n",
       " District 13    27.321053\n",
       " District 14    20.376623\n",
       " District 2     27.183432\n",
       " District 3     41.467181\n",
       " District 4     54.242220\n",
       " District 5     53.925258\n",
       " District 6     23.497984\n",
       " District 7     39.169811\n",
       " District 8     29.733591\n",
       " District 9     55.355932\n",
       " Name: Property Age Years, dtype: float64}"
      ]
     },
     "execution_count": 55,
     "metadata": {},
     "output_type": "execute_result"
    }
   ],
   "source": [
    "\n",
    "results[\"What is the average age of residential properties in each council district?\"] = {\n",
    "    'question_number': 17,\n",
    "    'value': residential_avg_age_prop_District\n",
    "}\n",
    "\n",
    "results[\"What is the average age of residential properties in each council district?\"]"
   ]
  },
  {
   "cell_type": "code",
   "execution_count": 56,
   "id": "44a50ff7-175a-473b-b614-3c290d04f6fd",
   "metadata": {},
   "outputs": [],
   "source": [
    "#18 What is the average age of residential properties in each zip code?\n",
    "avg_age__prop_zip = residential_properties.groupby('Zip Code')['Property Age Years'].mean()\n",
    "#Fills na values with 0\n",
    "avg_age__prop_zip=avg_age__prop_zip.fillna(0)\n",
    "\n",
    "#converts avg age to int data type to remve decimals\n",
    "avg_age__prop_zip.index=avg_age__prop_zip.index.astype(int)\n"
   ]
  },
  {
   "cell_type": "code",
   "execution_count": 57,
   "id": "2de7746b-87be-4903-8a1a-9859b5c526a0",
   "metadata": {},
   "outputs": [
    {
     "data": {
      "text/plain": [
       "{'question_number': 18,\n",
       " 'value': Zip Code\n",
       " 75051     0.000000\n",
       " 75080     0.000000\n",
       " 75081     0.000000\n",
       " 75159     0.000000\n",
       " 75203    51.617450\n",
       " 75204    13.553846\n",
       " 75205     0.000000\n",
       " 75206    16.200000\n",
       " 75208    60.619048\n",
       " 75209    25.297619\n",
       " 75210    52.200000\n",
       " 75211    59.631868\n",
       " 75212    18.623229\n",
       " 75214    40.268293\n",
       " 75215     0.000000\n",
       " 75216    51.042927\n",
       " 75217    37.030848\n",
       " 75218    64.270270\n",
       " 75220    24.234973\n",
       " 75223    53.152542\n",
       " 75224    66.818182\n",
       " 75225    22.158537\n",
       " 75226     1.285714\n",
       " 75227    52.782178\n",
       " 75228    57.846154\n",
       " 75229    36.723502\n",
       " 75230    18.044444\n",
       " 75231    35.866667\n",
       " 75232    47.106383\n",
       " 75233    25.971429\n",
       " 75234    61.250000\n",
       " 75235    21.952381\n",
       " 75236    25.157895\n",
       " 75237     8.555556\n",
       " 75238    38.500000\n",
       " 75240    51.777778\n",
       " 75241    42.383929\n",
       " 75243    50.782609\n",
       " 75244    36.840000\n",
       " 75246     1.666667\n",
       " 75248    45.075949\n",
       " 75249    44.250000\n",
       " 75252     0.000000\n",
       " 75253    10.555556\n",
       " 75254    49.153846\n",
       " Name: Property Age Years, dtype: float64}"
      ]
     },
     "execution_count": 57,
     "metadata": {},
     "output_type": "execute_result"
    }
   ],
   "source": [
    "\n",
    "results[\"What is the average age of residential properties in each zip code?\"] = {\n",
    "    'question_number': 18,\n",
    "    'value': avg_age__prop_zip\n",
    "}\n",
    "\n",
    "results[\"What is the average age of residential properties in each zip code?\"]"
   ]
  },
  {
   "cell_type": "code",
   "execution_count": 58,
   "id": "28d82526-ac9f-4d66-9d83-0900541c84c9",
   "metadata": {},
   "outputs": [],
   "source": [
    "#19 What is the average size of residential properties in each council district?\n",
    "\n",
    "\n",
    "# Group by council district and calculate the average property size\n",
    "average_size_by_district = residential_properties.groupby('Council District')['Land Size'].mean()"
   ]
  },
  {
   "cell_type": "code",
   "execution_count": 59,
   "id": "5029a779-7fef-4b1f-a48c-d5d9488a2ba8",
   "metadata": {
    "scrolled": true
   },
   "outputs": [
    {
     "data": {
      "text/plain": [
       "{'question_number': 19,\n",
       " 'value': Council District\n",
       " District 1     0.334292\n",
       " District 10    1.778136\n",
       " District 11    1.520976\n",
       " District 12    1.611201\n",
       " District 13    1.063923\n",
       " District 14    0.296096\n",
       " District 2     0.278586\n",
       " District 3     1.058363\n",
       " District 4     0.317044\n",
       " District 5     0.737821\n",
       " District 6     0.220295\n",
       " District 7     1.129251\n",
       " District 8     1.484604\n",
       " District 9     0.699083\n",
       " Name: Land Size, dtype: float64}"
      ]
     },
     "execution_count": 59,
     "metadata": {},
     "output_type": "execute_result"
    }
   ],
   "source": [
    "\n",
    "results[\"What is the average size of residential properties in each council district?\"] = {\n",
    "    'question_number': 19,\n",
    "    'value': average_size_by_district\n",
    "}\n",
    "\n",
    "results[\"What is the average size of residential properties in each council district?\"]"
   ]
  },
  {
   "cell_type": "code",
   "execution_count": 60,
   "id": "c7e9bdbe",
   "metadata": {},
   "outputs": [],
   "source": [
    "#20 What is the average size of residential properties in each zip code?\n",
    "\n",
    "# Group by council district and calculate the average property size\n",
    "average_size_by_zip = residential_properties.groupby('Zip Code')['Land Size'].mean()\n",
    "\n",
    "# Convert index (zip codes) to integers to remove the .0 decimal part\n",
    "average_size_by_zip.index = average_size_by_zip.index.astype(int)\n"
   ]
  },
  {
   "cell_type": "code",
   "execution_count": 61,
   "id": "56492244",
   "metadata": {},
   "outputs": [
    {
     "data": {
      "text/plain": [
       "{'question_number': 20,\n",
       " 'value': Zip Code\n",
       " 75051     4.935997\n",
       " 75080    21.995701\n",
       " 75081     0.107777\n",
       " 75159     0.230563\n",
       " 75203     0.229260\n",
       " 75204     0.184217\n",
       " 75205     0.155813\n",
       " 75206     0.314645\n",
       " 75208     0.274553\n",
       " 75209     0.774986\n",
       " 75210     1.280558\n",
       " 75211     0.661935\n",
       " 75212     0.195813\n",
       " 75214     0.477058\n",
       " 75215    35.864064\n",
       " 75216     0.351181\n",
       " 75217     1.084001\n",
       " 75218     0.474402\n",
       " 75220     0.501091\n",
       " 75223     0.243278\n",
       " 75224     0.628213\n",
       " 75225     0.533070\n",
       " 75226     0.205823\n",
       " 75227     0.945864\n",
       " 75228     1.463396\n",
       " 75229     0.715911\n",
       " 75230     0.590945\n",
       " 75231     5.730431\n",
       " 75232     0.959853\n",
       " 75233     0.712694\n",
       " 75234     0.197529\n",
       " 75235     0.194761\n",
       " 75236     2.566795\n",
       " 75237     1.577490\n",
       " 75238     0.402267\n",
       " 75240     1.337079\n",
       " 75241     1.191478\n",
       " 75243     1.988550\n",
       " 75244     0.463680\n",
       " 75246     0.260339\n",
       " 75248     1.412633\n",
       " 75249     0.518870\n",
       " 75252     0.846749\n",
       " 75253     1.758012\n",
       " 75254     5.563971\n",
       " Name: Land Size, dtype: float64}"
      ]
     },
     "execution_count": 61,
     "metadata": {},
     "output_type": "execute_result"
    }
   ],
   "source": [
    "\n",
    "results[\"What is the average size of residential properties in each zip code?\"] = {\n",
    "    'question_number': 20,\n",
    "    'value': average_size_by_zip\n",
    "}\n",
    "\n",
    "results[\"What is the average size of residential properties in each zip code?\"]"
   ]
  },
  {
   "cell_type": "code",
   "execution_count": 62,
   "id": "8e3b51d6",
   "metadata": {},
   "outputs": [],
   "source": [
    "#21 What is the average age of commercial properties in each council district?\n",
    "\n",
    "# Group by council district and calculate the average property size by commercial prop\n",
    "average_age_by_district_commercial = commercial_properties.groupby('Council District')['Property Age Years'].mean()\n"
   ]
  },
  {
   "cell_type": "code",
   "execution_count": 63,
   "id": "0a7c5b2e",
   "metadata": {},
   "outputs": [
    {
     "data": {
      "text/plain": [
       "{'question_number': 21,\n",
       " 'value': Council District\n",
       " District 1     56.500000\n",
       " District 10    39.800000\n",
       " District 13          NaN\n",
       " District 14    97.000000\n",
       " District 2     59.344828\n",
       " District 3      9.000000\n",
       " District 4     72.571429\n",
       " District 5     37.333333\n",
       " District 6     55.400000\n",
       " District 7     67.157895\n",
       " District 8     43.000000\n",
       " District 9     65.000000\n",
       " Name: Property Age Years, dtype: float64}"
      ]
     },
     "execution_count": 63,
     "metadata": {},
     "output_type": "execute_result"
    }
   ],
   "source": [
    "\n",
    "results[\"What is the average age of commercial properties in each council district?\"] = {\n",
    "    'question_number': 21,\n",
    "    'value': average_age_by_district_commercial\n",
    "}\n",
    "\n",
    "results[\"What is the average age of commercial properties in each council district?\"]"
   ]
  },
  {
   "cell_type": "code",
   "execution_count": 64,
   "id": "50304653-765a-480d-bae0-3f48ef290165",
   "metadata": {},
   "outputs": [],
   "source": [
    "#22 What is the average age of commercial properties in each zip code?\n",
    "\n",
    "average_age_by_zip_commercial = commercial_properties.groupby('Zip Code')['Property Age Years'].mean()\n",
    "\n",
    "# Convert index (zip codes) to integers to remove the .0 decimal part\n",
    "average_age_by_zip_commercial.index = average_age_by_zip_commercial.index.astype(int)"
   ]
  },
  {
   "cell_type": "code",
   "execution_count": 65,
   "id": "163dd26e-9f1a-4a4e-b24e-286665e445e5",
   "metadata": {},
   "outputs": [
    {
     "data": {
      "text/plain": [
       "{'question_number': 22,\n",
       " 'value': Zip Code\n",
       " 75203    88.000000\n",
       " 75204    75.750000\n",
       " 75206    97.000000\n",
       " 75207          NaN\n",
       " 75208    56.000000\n",
       " 75209          NaN\n",
       " 75210          NaN\n",
       " 75211    13.500000\n",
       " 75212    75.000000\n",
       " 75215          NaN\n",
       " 75216    63.500000\n",
       " 75217    38.750000\n",
       " 75218    65.000000\n",
       " 75220    28.000000\n",
       " 75223    59.882353\n",
       " 75224          NaN\n",
       " 75226    74.000000\n",
       " 75227          NaN\n",
       " 75228    61.000000\n",
       " 75229          NaN\n",
       " 75235    68.500000\n",
       " 75236     0.000000\n",
       " 75237          NaN\n",
       " 75238    40.000000\n",
       " 75241          NaN\n",
       " 75243    39.000000\n",
       " 75246          NaN\n",
       " 75247    63.000000\n",
       " 75253          NaN\n",
       " Name: Property Age Years, dtype: float64}"
      ]
     },
     "execution_count": 65,
     "metadata": {},
     "output_type": "execute_result"
    }
   ],
   "source": [
    "results[\"What is the average age of commercial properties in each zip code?\"] = {\n",
    "    'question_number': 22,\n",
    "    'value': average_age_by_zip_commercial\n",
    "}\n",
    "\n",
    "results[\"What is the average age of commercial properties in each zip code?\"]"
   ]
  },
  {
   "cell_type": "code",
   "execution_count": 66,
   "id": "b0812922-b178-48c9-82a2-a6f6ca6cf7bd",
   "metadata": {},
   "outputs": [],
   "source": [
    "#23 What is the total amount of city liens owed on vacant land in each City Council District?\n",
    "\n",
    "# Grouping and calculating the total amount of city liens owed on vacant land by City Council District\n",
    "city_liens_total_by_district = land_df.groupby('Council District')['Code Liens - Amount'].sum()\n"
   ]
  },
  {
   "cell_type": "code",
   "execution_count": 67,
   "id": "28aec28c-0225-4b2a-b454-f959c73aa223",
   "metadata": {},
   "outputs": [
    {
     "data": {
      "text/plain": [
       "{'question_number': 23,\n",
       " 'value': Council District\n",
       " District 1      103530.19\n",
       " District 10       5504.10\n",
       " District 11       9571.56\n",
       " District 12          0.00\n",
       " District 13       3531.70\n",
       " District 14      23623.42\n",
       " District 2      271934.23\n",
       " District 3      153084.99\n",
       " District 4     2370252.74\n",
       " District 5      548893.25\n",
       " District 6      518491.43\n",
       " District 7     5400356.45\n",
       " District 8      746219.63\n",
       " District 9       10579.79\n",
       " Name: Code Liens - Amount, dtype: float64}"
      ]
     },
     "execution_count": 67,
     "metadata": {},
     "output_type": "execute_result"
    }
   ],
   "source": [
    "\n",
    "results[\"What is the total amount of city liens owed on vacant land in each City Council District?\"] = {\n",
    "    'question_number': 23,\n",
    "    'value': city_liens_total_by_district\n",
    "}\n",
    "\n",
    "results[\"What is the total amount of city liens owed on vacant land in each City Council District?\"]"
   ]
  },
  {
   "cell_type": "code",
   "execution_count": 68,
   "id": "23780cc5-04ff-467b-bcee-3938ce70e530",
   "metadata": {},
   "outputs": [],
   "source": [
    "#24 What is the total amount of city liens owed on vacant land in each zip code?\n",
    "\n",
    "# Grouping and calculating the total amount of city liens owed on vacant land by City Council District\n",
    "city_liens_total_by_zip = land_df.groupby('Zip Code')['Code Liens - Amount'].sum()\n",
    "\n",
    "# Convert index (zip codes) to integers to remove the .0 decimal part\n",
    "city_liens_total_by_zip.index = city_liens_total_by_zip.index.astype(int)\n"
   ]
  },
  {
   "cell_type": "code",
   "execution_count": 69,
   "id": "31e75faf-f555-4d43-a429-25e09bf73438",
   "metadata": {},
   "outputs": [
    {
     "data": {
      "text/plain": [
       "{'question_number': 24,\n",
       " 'value': Zip Code\n",
       " 75006          0.00\n",
       " 75019          0.00\n",
       " 75041          0.00\n",
       " 75043          0.00\n",
       " 75050          0.00\n",
       " 75051        529.14\n",
       " 75060          0.00\n",
       " 75062          0.00\n",
       " 75063          0.00\n",
       " 75080          0.00\n",
       " 75081          0.00\n",
       " 75141          0.00\n",
       " 75149        171.41\n",
       " 75150          0.00\n",
       " 75159          0.00\n",
       " 75182          0.00\n",
       " 75201          0.00\n",
       " 75202          0.00\n",
       " 75203     883999.05\n",
       " 75204      61924.96\n",
       " 75205          0.00\n",
       " 75206       6015.15\n",
       " 75207       3035.14\n",
       " 75208      42396.10\n",
       " 75209       6726.82\n",
       " 75210    1441588.02\n",
       " 75211      80063.23\n",
       " 75212     449338.43\n",
       " 75214       7111.97\n",
       " 75215    3443115.72\n",
       " 75216    1637717.43\n",
       " 75217     581928.74\n",
       " 75218       4161.43\n",
       " 75219      11045.10\n",
       " 75220      34000.09\n",
       " 75223     380387.86\n",
       " 75224      72192.63\n",
       " 75225        239.61\n",
       " 75226      70241.85\n",
       " 75227      85960.74\n",
       " 75228      13774.09\n",
       " 75229       3692.99\n",
       " 75230       2692.20\n",
       " 75231          0.00\n",
       " 75232     109812.48\n",
       " 75233      23014.74\n",
       " 75234       4468.10\n",
       " 75235       2825.58\n",
       " 75236      38829.32\n",
       " 75237      16224.70\n",
       " 75238        203.54\n",
       " 75240       5598.32\n",
       " 75241     588324.06\n",
       " 75243       5300.56\n",
       " 75244          0.00\n",
       " 75246      10864.55\n",
       " 75247       8514.74\n",
       " 75248          0.00\n",
       " 75249       4331.89\n",
       " 75251       1419.52\n",
       " 75252          0.00\n",
       " 75253      21962.89\n",
       " 75254          0.00\n",
       " 75270          0.00\n",
       " 75287          0.00\n",
       " Name: Code Liens - Amount, dtype: float64}"
      ]
     },
     "execution_count": 69,
     "metadata": {},
     "output_type": "execute_result"
    }
   ],
   "source": [
    "\n",
    "results[\"What is the total amount of city liens owed on vacant land in each zip code?\"] = {\n",
    "    'question_number': 24,\n",
    "    'value': city_liens_total_by_zip\n",
    "}\n",
    "\n",
    "results[\"What is the total amount of city liens owed on vacant land in each zip code?\"]"
   ]
  },
  {
   "cell_type": "code",
   "execution_count": 70,
   "id": "bc0ae79b-f28a-4312-852d-6cad0f3455f1",
   "metadata": {},
   "outputs": [],
   "source": [
    "#25 What is the total amount of city liens owed on vacant structures in each City Council District?\n",
    "\n",
    "# Grouping and calculating the total amount of city liens owed on vacant structures by City Council District\n",
    "city_liens_total_by_district_by_structure = structure_df.groupby('Council District')['Code Liens - Amount'].sum()\n"
   ]
  },
  {
   "cell_type": "code",
   "execution_count": 71,
   "id": "29fb7953-a1fe-4237-87d5-2ac203783222",
   "metadata": {},
   "outputs": [
    {
     "data": {
      "text/plain": [
       "{'question_number': 25,\n",
       " 'value': Council District\n",
       " District 1      50196.85\n",
       " District 10      2680.68\n",
       " District 11     32389.45\n",
       " District 12     49869.82\n",
       " District 13      8414.82\n",
       " District 14     15862.81\n",
       " District 2      67556.76\n",
       " District 3      81955.43\n",
       " District 4     825379.21\n",
       " District 5     115061.87\n",
       " District 6     133324.19\n",
       " District 7     484660.67\n",
       " District 8     174351.60\n",
       " District 9      38464.13\n",
       " Name: Code Liens - Amount, dtype: float64}"
      ]
     },
     "execution_count": 71,
     "metadata": {},
     "output_type": "execute_result"
    }
   ],
   "source": [
    "\n",
    "results[\"What is the total amount of city liens owed on vacant structures in each City Council District?\"] = {\n",
    "    'question_number': 25,\n",
    "    'value': city_liens_total_by_district_by_structure\n",
    "}\n",
    "\n",
    "results[\"What is the total amount of city liens owed on vacant structures in each City Council District?\"]"
   ]
  },
  {
   "cell_type": "code",
   "execution_count": 72,
   "id": "bfe20bd2-a3ca-483e-9ad5-f374ca48e160",
   "metadata": {},
   "outputs": [],
   "source": [
    "#26 How many properties are in the name of heirship in the City of Dallas?\n",
    "\n",
    "#Use suspected heir prop col and combine with public owner filter\n",
    "# Filter the DataFrame for properties in the City of Dallas with 'Suspected Heir Property' == 'Yes'\n",
    "#Would get zero combined with City of Dallas filter\n",
    "dallas_heirship_properties = (vacant_lots_df['Suspected Heir Property'] == 'Yes').sum()\n",
    "\n"
   ]
  },
  {
   "cell_type": "code",
   "execution_count": 73,
   "id": "f5b329bc-644c-4b8f-b749-2a91c9a13937",
   "metadata": {},
   "outputs": [
    {
     "data": {
      "text/plain": [
       "{'question_number': 26, 'value': 248}"
      ]
     },
     "execution_count": 73,
     "metadata": {},
     "output_type": "execute_result"
    }
   ],
   "source": [
    "\n",
    "results[\"How many properties are in the name of heirship in the City of Dallas?\"] = {\n",
    "    'question_number': 26,\n",
    "    'value': dallas_heirship_properties\n",
    "}\n",
    "\n",
    "results[\"How many properties are in the name of heirship in the City of Dallas?\"] "
   ]
  },
  {
   "cell_type": "code",
   "execution_count": 74,
   "id": "072041b4-338c-46f4-95ee-813f1f998144",
   "metadata": {},
   "outputs": [],
   "source": [
    "#27 How many properties in the name of heirship in the City of Dallas are vacant in each zip code?\n",
    "\n",
    "#apply Suspected heir to Yes and group by zip code\n",
    "dallas_heirship_zip = vacant_lots_df[vacant_lots_df['Suspected Heir Property'] == 'Yes'].groupby('Zip Code').size()\n",
    "\n",
    "# Convert index (zip codes) to integers to remove the .0 decimal part\n",
    "dallas_heirship_zip.index = dallas_heirship_zip.index.astype(int)\n"
   ]
  },
  {
   "cell_type": "code",
   "execution_count": 75,
   "id": "017b49e5-3104-4044-9365-f1fb7573c051",
   "metadata": {},
   "outputs": [
    {
     "data": {
      "text/plain": [
       "{'question_number': 27,\n",
       " 'value': Zip Code\n",
       " 75201     4\n",
       " 75203    21\n",
       " 75206     2\n",
       " 75207     1\n",
       " 75208     3\n",
       " 75209     1\n",
       " 75210    13\n",
       " 75211     3\n",
       " 75212    21\n",
       " 75214     3\n",
       " 75215    35\n",
       " 75216    48\n",
       " 75217    11\n",
       " 75218     3\n",
       " 75220     2\n",
       " 75223     5\n",
       " 75224     1\n",
       " 75225     3\n",
       " 75226     4\n",
       " 75227     9\n",
       " 75228     9\n",
       " 75230     1\n",
       " 75231     2\n",
       " 75232     4\n",
       " 75233     1\n",
       " 75235     1\n",
       " 75237     4\n",
       " 75238     1\n",
       " 75241    24\n",
       " 75243     1\n",
       " 75246     1\n",
       " 75248     1\n",
       " 75253     5\n",
       " dtype: int64}"
      ]
     },
     "execution_count": 75,
     "metadata": {},
     "output_type": "execute_result"
    }
   ],
   "source": [
    "\n",
    "results[\"How many properties in the name of heirship in the City of Dallas are vacant in each zip code?\"] = {\n",
    "    'question_number': 27,\n",
    "    'value': dallas_heirship_zip\n",
    "}\n",
    "\n",
    "results[\"How many properties in the name of heirship in the City of Dallas are vacant in each zip code?\"] "
   ]
  },
  {
   "cell_type": "code",
   "execution_count": 76,
   "id": "e3e4bd84-ec6d-4d8e-89bf-56992451fce6",
   "metadata": {},
   "outputs": [],
   "source": [
    "#28 How many properties in the name of heirship in the City of Dallas are vacant in each council district?\n",
    "\n",
    "#apply Suspected heir to Yes and group by council distrcit\n",
    "dallas_heirship_District = vacant_lots_df[vacant_lots_df['Suspected Heir Property'] == 'Yes'].groupby('Council District').size()\n"
   ]
  },
  {
   "cell_type": "code",
   "execution_count": 77,
   "id": "fe279792-0528-4286-b475-9756b584afe3",
   "metadata": {},
   "outputs": [
    {
     "data": {
      "text/plain": [
       "{'question_number': 28,\n",
       " 'value': Council District\n",
       " District 1      4\n",
       " District 10     4\n",
       " District 11     2\n",
       " District 13     4\n",
       " District 14     8\n",
       " District 2     12\n",
       " District 3     10\n",
       " District 4     58\n",
       " District 5     16\n",
       " District 6     24\n",
       " District 7     69\n",
       " District 8     31\n",
       " District 9      6\n",
       " dtype: int64}"
      ]
     },
     "execution_count": 77,
     "metadata": {},
     "output_type": "execute_result"
    }
   ],
   "source": [
    "\n",
    "results[\"How many properties in the name of heirship in the City of Dallas are vacant in each council district?\"] = {\n",
    "    'question_number': 28,\n",
    "    'value': dallas_heirship_District\n",
    "}\n",
    "\n",
    "results[\"How many properties in the name of heirship in the City of Dallas are vacant in each council district?\"] "
   ]
  },
  {
   "cell_type": "code",
   "execution_count": 78,
   "id": "1cb1fffe-1c92-43b0-b81d-9bcb5e41887b",
   "metadata": {},
   "outputs": [],
   "source": [
    "#29 How many private owners have five or more vacant properties in the City of Dallas?\n",
    "owner_vacant_property_counts = vacant_lots_df[\n",
    "    (vacant_lots_df['Owner'] == 'Private Owner') &\n",
    "    (vacant_lots_df['Owner Property Count'] >= 5)\n",
    "]\n",
    "\n",
    "owner_vacant_property_counts_view = owner_vacant_property_counts.shape[0]\n"
   ]
  },
  {
   "cell_type": "code",
   "execution_count": 79,
   "id": "6f5acee6-9f72-4c3b-a1d9-509245508d35",
   "metadata": {},
   "outputs": [
    {
     "data": {
      "text/plain": [
       "{'question_number': 29, 'value': 6702}"
      ]
     },
     "execution_count": 79,
     "metadata": {},
     "output_type": "execute_result"
    }
   ],
   "source": [
    "\n",
    "results[\"How many private owners have five or more vacant properties in the City of Dallas?\"] = {\n",
    "    'question_number': 29,\n",
    "    'value': owner_vacant_property_counts_view\n",
    "}\n",
    "\n",
    "results[\"How many private owners have five or more vacant properties in the City of Dallas?\"] "
   ]
  },
  {
   "cell_type": "code",
   "execution_count": 80,
   "id": "b15eb07f-ceaa-4c9c-ab0e-cdc6ddc95a5b",
   "metadata": {},
   "outputs": [],
   "source": [
    "#30 How many private owners with five or more vacant properties in the City of Dallas are in each zip code?\n",
    "\n",
    "private_5_zip = owner_vacant_property_counts.groupby('Zip Code').size()\n",
    "\n",
    "# Convert index (zip codes) to integers to remove the .0 decimal part\n",
    "private_5_zip.index = private_5_zip.index.astype(int)\n"
   ]
  },
  {
   "cell_type": "code",
   "execution_count": 81,
   "id": "1836dca4-e2af-4bbd-8050-a08467860916",
   "metadata": {},
   "outputs": [
    {
     "data": {
      "text/plain": [
       "{'question_number': 30,\n",
       " 'value': Zip Code\n",
       " 75006      1\n",
       " 75019      8\n",
       " 75043      1\n",
       " 75050      1\n",
       " 75051      1\n",
       " 75063      1\n",
       " 75080      1\n",
       " 75081      1\n",
       " 75149      1\n",
       " 75182      1\n",
       " 75201     55\n",
       " 75202     21\n",
       " 75203    562\n",
       " 75204     86\n",
       " 75205     12\n",
       " 75206     70\n",
       " 75207     49\n",
       " 75208    217\n",
       " 75209     57\n",
       " 75210    231\n",
       " 75211    305\n",
       " 75212    900\n",
       " 75214     33\n",
       " 75215    653\n",
       " 75216    663\n",
       " 75217    412\n",
       " 75218     60\n",
       " 75219     63\n",
       " 75220    119\n",
       " 75223    216\n",
       " 75224     61\n",
       " 75225     66\n",
       " 75226    163\n",
       " 75227    172\n",
       " 75228     96\n",
       " 75229    114\n",
       " 75230    109\n",
       " 75231     36\n",
       " 75232     76\n",
       " 75233     51\n",
       " 75234      4\n",
       " 75235    145\n",
       " 75236     50\n",
       " 75237     96\n",
       " 75238     17\n",
       " 75240      9\n",
       " 75241    315\n",
       " 75243     91\n",
       " 75244      8\n",
       " 75246     57\n",
       " 75247     62\n",
       " 75248     24\n",
       " 75249     12\n",
       " 75251      2\n",
       " 75252      8\n",
       " 75253     53\n",
       " 75254      4\n",
       " dtype: int64}"
      ]
     },
     "execution_count": 81,
     "metadata": {},
     "output_type": "execute_result"
    }
   ],
   "source": [
    "\n",
    "results[\"How many private owners with five or more vacant properties in the City of Dallas are in each zip code?\"] = {\n",
    "    'question_number': 30,\n",
    "    'value': private_5_zip\n",
    "}\n",
    "\n",
    "results[\"How many private owners with five or more vacant properties in the City of Dallas are in each zip code?\"]"
   ]
  },
  {
   "cell_type": "code",
   "execution_count": 82,
   "id": "17947467-e49a-4782-9f56-9aa09c6b5f9b",
   "metadata": {},
   "outputs": [],
   "source": [
    "#31 How many private owners with five or more vacant properties in the City of Dallas are in each council district?\n",
    "\n",
    "private_5_district=owner_vacant_property_counts.groupby('Council District').size()"
   ]
  },
  {
   "cell_type": "code",
   "execution_count": 83,
   "id": "feec09fe-7e1e-4f44-9921-4f4f59af3fa4",
   "metadata": {},
   "outputs": [
    {
     "data": {
      "text/plain": [
       "{'question_number': 31,\n",
       " 'value': Council District\n",
       " District 1      416\n",
       " District 10     121\n",
       " District 11     121\n",
       " District 12      30\n",
       " District 13     168\n",
       " District 14     251\n",
       " District 2      607\n",
       " District 3      397\n",
       " District 4     1026\n",
       " District 5      409\n",
       " District 6     1375\n",
       " District 7     1175\n",
       " District 8      500\n",
       " District 9      103\n",
       " dtype: int64}"
      ]
     },
     "execution_count": 83,
     "metadata": {},
     "output_type": "execute_result"
    }
   ],
   "source": [
    "\n",
    "results[\"How many private owners with five or more vacant properties in the City of Dallas are in each council district?\"] = {\n",
    "    'question_number': 31,\n",
    "    'value': private_5_district\n",
    "}\n",
    "\n",
    "results[\"How many private owners with five or more vacant properties in the City of Dallas are in each council district?\"]"
   ]
  },
  {
   "cell_type": "code",
   "execution_count": 84,
   "id": "f12169b9-a02d-4b97-887b-0b732e75d7b7",
   "metadata": {},
   "outputs": [],
   "source": [
    "#32 How many churches own vacant properties in the City of Dallas?\n",
    "\n",
    "church_owners = vacant_lots_df[vacant_lots_df['Owner is Church'] == 'Yes']\n",
    "\n",
    "num_church_properties = church_owners.shape[0]\n",
    "\n"
   ]
  },
  {
   "cell_type": "code",
   "execution_count": 85,
   "id": "0093d188-02da-4088-b1bc-2bf52b37e207",
   "metadata": {},
   "outputs": [
    {
     "data": {
      "text/plain": [
       "{'question_number': 32, 'value': 35}"
      ]
     },
     "execution_count": 85,
     "metadata": {},
     "output_type": "execute_result"
    }
   ],
   "source": [
    "\n",
    "results[\"How many churches own vacant properties in the City of Dallas?\"] = {\n",
    "    'question_number': 32,\n",
    "    'value': num_church_properties\n",
    "}\n",
    "\n",
    "results[\"How many churches own vacant properties in the City of Dallas?\"] "
   ]
  },
  {
   "cell_type": "code",
   "execution_count": 86,
   "id": "3b71d40c-cd86-46fb-83e3-ca0e7ed7dcf8",
   "metadata": {},
   "outputs": [],
   "source": [
    "#33 How many churches owned vacant properties in the City of Dallas are in each zip code?\n",
    "\n",
    "church_prop_zip = vacant_lots_df[vacant_lots_df['Owner is Church'] == 'Yes'].groupby('Zip Code').size()\n",
    "\n",
    "# Convert index (zip codes) to integers to remove the .0 decimal part\n",
    "church_prop_zip.index = church_prop_zip.index.astype(int)\n"
   ]
  },
  {
   "cell_type": "code",
   "execution_count": 87,
   "id": "65893273-0715-43cf-a377-aed3fe2315af",
   "metadata": {},
   "outputs": [
    {
     "data": {
      "text/plain": [
       "{'question_number': 33,\n",
       " 'value': Zip Code\n",
       " 75203    2\n",
       " 75211    2\n",
       " 75212    4\n",
       " 75215    2\n",
       " 75216    6\n",
       " 75217    3\n",
       " 75223    1\n",
       " 75224    2\n",
       " 75226    2\n",
       " 75227    3\n",
       " 75228    1\n",
       " 75238    1\n",
       " 75241    6\n",
       " dtype: int64}"
      ]
     },
     "execution_count": 87,
     "metadata": {},
     "output_type": "execute_result"
    }
   ],
   "source": [
    "\n",
    "results[\"How many churches owned vacant properties in the City of Dallas are in each zip code?\"] = {\n",
    "    'question_number': 33,\n",
    "    'value': church_prop_zip\n",
    "}\n",
    "\n",
    "results[\"How many churches owned vacant properties in the City of Dallas are in each zip code?\"] "
   ]
  },
  {
   "cell_type": "code",
   "execution_count": 88,
   "id": "8ebc3627-efc2-4ec2-9876-4e30c23cb52b",
   "metadata": {},
   "outputs": [],
   "source": [
    "#34 How many are in each council district\n",
    "\n",
    "church_prop_district = vacant_lots_df[vacant_lots_df['Owner is Church'] == 'Yes'].groupby('Council District').size()\n"
   ]
  },
  {
   "cell_type": "code",
   "execution_count": 89,
   "id": "06b00f1f-26f7-40a8-bca0-714e6e0f75a4",
   "metadata": {},
   "outputs": [
    {
     "data": {
      "text/plain": [
       "{'question_number': 34,\n",
       " 'value': Council District\n",
       " District 1     1\n",
       " District 2     1\n",
       " District 3     1\n",
       " District 4     8\n",
       " District 5     2\n",
       " District 6     4\n",
       " District 7    10\n",
       " District 8     7\n",
       " District 9     1\n",
       " dtype: int64}"
      ]
     },
     "execution_count": 89,
     "metadata": {},
     "output_type": "execute_result"
    }
   ],
   "source": [
    "\n",
    "results[\"How many are in each council district\"] = {\n",
    "    'question_number': 34,\n",
    "    'value': church_prop_district\n",
    "}\n",
    "\n",
    "results[\"How many are in each council district\"]"
   ]
  }
 ],
 "metadata": {
  "kernelspec": {
   "display_name": "Python 3 (ipykernel)",
   "language": "python",
   "name": "python3"
  },
  "language_info": {
   "codemirror_mode": {
    "name": "ipython",
    "version": 3
   },
   "file_extension": ".py",
   "mimetype": "text/x-python",
   "name": "python",
   "nbconvert_exporter": "python",
   "pygments_lexer": "ipython3",
   "version": "3.10.6"
  }
 },
 "nbformat": 4,
 "nbformat_minor": 5
}
