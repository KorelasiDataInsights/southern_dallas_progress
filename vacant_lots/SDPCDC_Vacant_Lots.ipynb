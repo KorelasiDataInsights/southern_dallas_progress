{
 "cells": [
  {
   "cell_type": "code",
   "execution_count": 1,
   "id": "0d29884f-d867-4261-ab09-87f04ee76fe9",
   "metadata": {},
   "outputs": [],
   "source": [
    "#import modules\n",
    "import pandas as pd\n",
    "import numpy as np\n",
    "from datetime import datetime\n",
    "#See max columns in a dataframe\n",
    "pd.set_option('display.max_columns', None)\n",
    "pd.set_option('display.max_rows', None)\n"
   ]
  },
  {
   "cell_type": "code",
   "execution_count": 2,
   "id": "c71a21bb-2c9b-4178-b3f4-9616fc728e03",
   "metadata": {},
   "outputs": [
    {
     "data": {
      "text/html": [
       "<div>\n",
       "<style scoped>\n",
       "    .dataframe tbody tr th:only-of-type {\n",
       "        vertical-align: middle;\n",
       "    }\n",
       "\n",
       "    .dataframe tbody tr th {\n",
       "        vertical-align: top;\n",
       "    }\n",
       "\n",
       "    .dataframe thead th {\n",
       "        text-align: right;\n",
       "    }\n",
       "</style>\n",
       "<table border=\"1\" class=\"dataframe\">\n",
       "  <thead>\n",
       "    <tr style=\"text-align: right;\">\n",
       "      <th></th>\n",
       "      <th>Parcel ID</th>\n",
       "      <th>Adddress</th>\n",
       "      <th>Owner</th>\n",
       "      <th>Is Vacant Property</th>\n",
       "      <th>Property Type</th>\n",
       "      <th>Current Use</th>\n",
       "      <th>Year Built</th>\n",
       "      <th>Average Year Built By Council District</th>\n",
       "      <th>Owner Location</th>\n",
       "      <th>Owner Property Count</th>\n",
       "      <th>Public Owner</th>\n",
       "      <th>City or County Owned</th>\n",
       "      <th>Owner is Business</th>\n",
       "      <th>Owner Occupied</th>\n",
       "      <th>Suspected Heir Property</th>\n",
       "      <th>Bank Owned Property</th>\n",
       "      <th>Taxes Delinquent Since</th>\n",
       "      <th>Delinquent Taxes</th>\n",
       "      <th>Is Tax Delinquent</th>\n",
       "      <th>Code Liens - Count</th>\n",
       "      <th>Code Liens - Amount</th>\n",
       "      <th>Zip Code</th>\n",
       "      <th>Zoning</th>\n",
       "      <th>Council District</th>\n",
       "      <th>Vacant Since</th>\n",
       "      <th>Land Size</th>\n",
       "      <th>Unnamed: 26</th>\n",
       "      <th>Unnamed: 27</th>\n",
       "    </tr>\n",
       "  </thead>\n",
       "  <tbody>\n",
       "    <tr>\n",
       "      <th>0</th>\n",
       "      <td>100561000000</td>\n",
       "      <td>1109 WOOD ST, DALLAS, TX</td>\n",
       "      <td>BUNTING PARTNERS LP</td>\n",
       "      <td>Yes</td>\n",
       "      <td>Land</td>\n",
       "      <td>C12 - COMMERCIAL - VACANT PLOTTED LOTS/TRACTS ...</td>\n",
       "      <td>0.0</td>\n",
       "      <td>1956.0</td>\n",
       "      <td>In City</td>\n",
       "      <td>20</td>\n",
       "      <td>NaN</td>\n",
       "      <td>No</td>\n",
       "      <td>Yes</td>\n",
       "      <td>No</td>\n",
       "      <td>No</td>\n",
       "      <td>No</td>\n",
       "      <td>NaN</td>\n",
       "      <td>NaN</td>\n",
       "      <td>No</td>\n",
       "      <td>NaN</td>\n",
       "      <td>NaN</td>\n",
       "      <td>75202</td>\n",
       "      <td>Central Area - CA-1(A)-Central Area</td>\n",
       "      <td>District 14</td>\n",
       "      <td>2022-04-01</td>\n",
       "      <td>0.124653</td>\n",
       "      <td>NaN</td>\n",
       "      <td>NaN</td>\n",
       "    </tr>\n",
       "    <tr>\n",
       "      <th>1</th>\n",
       "      <td>101971000000</td>\n",
       "      <td>1908 ELM ST, DALLAS, TX</td>\n",
       "      <td>JARVIS BARNEY W JR TR &amp; MARY LOU TR</td>\n",
       "      <td>Yes</td>\n",
       "      <td>Structure</td>\n",
       "      <td>C12 - COMMERCIAL - VACANT PLOTTED LOTS/TRACTS ...</td>\n",
       "      <td>0.0</td>\n",
       "      <td>1956.0</td>\n",
       "      <td>In City</td>\n",
       "      <td>1</td>\n",
       "      <td>NaN</td>\n",
       "      <td>No</td>\n",
       "      <td>No</td>\n",
       "      <td>Unknown</td>\n",
       "      <td>No</td>\n",
       "      <td>No</td>\n",
       "      <td>NaN</td>\n",
       "      <td>NaN</td>\n",
       "      <td>No</td>\n",
       "      <td>NaN</td>\n",
       "      <td>NaN</td>\n",
       "      <td>75201</td>\n",
       "      <td>Other - PD-619</td>\n",
       "      <td>District 14</td>\n",
       "      <td>2023-06-01</td>\n",
       "      <td>0.122321</td>\n",
       "      <td>NaN</td>\n",
       "      <td>NaN</td>\n",
       "    </tr>\n",
       "    <tr>\n",
       "      <th>2</th>\n",
       "      <td>101995000000</td>\n",
       "      <td>1913 COMMERCE ST, DALLAS, TX</td>\n",
       "      <td>DALLAS CITY OF</td>\n",
       "      <td>Yes</td>\n",
       "      <td>Land</td>\n",
       "      <td>C12 - COMMERCIAL - VACANT PLOTTED LOTS/TRACTS ...</td>\n",
       "      <td>0.0</td>\n",
       "      <td>1956.0</td>\n",
       "      <td>In City</td>\n",
       "      <td>2926</td>\n",
       "      <td>City of Dallas</td>\n",
       "      <td>Yes</td>\n",
       "      <td>No</td>\n",
       "      <td>No</td>\n",
       "      <td>No</td>\n",
       "      <td>No</td>\n",
       "      <td>NaN</td>\n",
       "      <td>NaN</td>\n",
       "      <td>No</td>\n",
       "      <td>NaN</td>\n",
       "      <td>NaN</td>\n",
       "      <td>75201</td>\n",
       "      <td>Other - PD-619</td>\n",
       "      <td>District 14</td>\n",
       "      <td>2022-04-01</td>\n",
       "      <td>0.117204</td>\n",
       "      <td>NaN</td>\n",
       "      <td>NaN</td>\n",
       "    </tr>\n",
       "    <tr>\n",
       "      <th>3</th>\n",
       "      <td>103702000000</td>\n",
       "      <td>2523 MAIN ST, DALLAS, TX</td>\n",
       "      <td>WESTDALE MAIN LTD</td>\n",
       "      <td>Yes</td>\n",
       "      <td>Land</td>\n",
       "      <td>C12 - COMMERCIAL - VACANT PLOTTED LOTS/TRACTS ...</td>\n",
       "      <td>0.0</td>\n",
       "      <td>1925.0</td>\n",
       "      <td>In City</td>\n",
       "      <td>90</td>\n",
       "      <td>NaN</td>\n",
       "      <td>No</td>\n",
       "      <td>Yes</td>\n",
       "      <td>No</td>\n",
       "      <td>No</td>\n",
       "      <td>No</td>\n",
       "      <td>NaN</td>\n",
       "      <td>NaN</td>\n",
       "      <td>No</td>\n",
       "      <td>NaN</td>\n",
       "      <td>NaN</td>\n",
       "      <td>75226</td>\n",
       "      <td>Other - PD-269</td>\n",
       "      <td>District 2</td>\n",
       "      <td>2022-04-01</td>\n",
       "      <td>0.126854</td>\n",
       "      <td>NaN</td>\n",
       "      <td>NaN</td>\n",
       "    </tr>\n",
       "    <tr>\n",
       "      <th>4</th>\n",
       "      <td>103720000000</td>\n",
       "      <td>2619 MAIN ST, DALLAS, TX</td>\n",
       "      <td>AP DEEP ELLUM LLC</td>\n",
       "      <td>Yes</td>\n",
       "      <td>Land</td>\n",
       "      <td>C12 - COMMERCIAL - VACANT PLOTTED LOTS/TRACTS ...</td>\n",
       "      <td>0.0</td>\n",
       "      <td>1925.0</td>\n",
       "      <td>Out of State</td>\n",
       "      <td>43</td>\n",
       "      <td>NaN</td>\n",
       "      <td>No</td>\n",
       "      <td>Yes</td>\n",
       "      <td>No</td>\n",
       "      <td>No</td>\n",
       "      <td>No</td>\n",
       "      <td>NaN</td>\n",
       "      <td>NaN</td>\n",
       "      <td>No</td>\n",
       "      <td>NaN</td>\n",
       "      <td>NaN</td>\n",
       "      <td>75226</td>\n",
       "      <td>Other - PD-269</td>\n",
       "      <td>District 2</td>\n",
       "      <td>2022-04-01</td>\n",
       "      <td>0.114955</td>\n",
       "      <td>NaN</td>\n",
       "      <td>NaN</td>\n",
       "    </tr>\n",
       "  </tbody>\n",
       "</table>\n",
       "</div>"
      ],
      "text/plain": [
       "      Parcel ID                      Adddress  \\\n",
       "0  100561000000      1109 WOOD ST, DALLAS, TX   \n",
       "1  101971000000       1908 ELM ST, DALLAS, TX   \n",
       "2  101995000000  1913 COMMERCE ST, DALLAS, TX   \n",
       "3  103702000000      2523 MAIN ST, DALLAS, TX   \n",
       "4  103720000000      2619 MAIN ST, DALLAS, TX   \n",
       "\n",
       "                                 Owner Is Vacant Property Property Type  \\\n",
       "0                  BUNTING PARTNERS LP                Yes          Land   \n",
       "1  JARVIS BARNEY W JR TR & MARY LOU TR                Yes     Structure   \n",
       "2                       DALLAS CITY OF                Yes          Land   \n",
       "3                    WESTDALE MAIN LTD                Yes          Land   \n",
       "4                    AP DEEP ELLUM LLC                Yes          Land   \n",
       "\n",
       "                                         Current Use  Year Built  \\\n",
       "0  C12 - COMMERCIAL - VACANT PLOTTED LOTS/TRACTS ...         0.0   \n",
       "1  C12 - COMMERCIAL - VACANT PLOTTED LOTS/TRACTS ...         0.0   \n",
       "2  C12 - COMMERCIAL - VACANT PLOTTED LOTS/TRACTS ...         0.0   \n",
       "3  C12 - COMMERCIAL - VACANT PLOTTED LOTS/TRACTS ...         0.0   \n",
       "4  C12 - COMMERCIAL - VACANT PLOTTED LOTS/TRACTS ...         0.0   \n",
       "\n",
       "   Average Year Built By Council District Owner Location  \\\n",
       "0                                  1956.0        In City   \n",
       "1                                  1956.0        In City   \n",
       "2                                  1956.0        In City   \n",
       "3                                  1925.0        In City   \n",
       "4                                  1925.0   Out of State   \n",
       "\n",
       "   Owner Property Count    Public Owner City or County Owned  \\\n",
       "0                    20             NaN                   No   \n",
       "1                     1             NaN                   No   \n",
       "2                  2926  City of Dallas                  Yes   \n",
       "3                    90             NaN                   No   \n",
       "4                    43             NaN                   No   \n",
       "\n",
       "  Owner is Business Owner Occupied Suspected Heir Property  \\\n",
       "0               Yes             No                      No   \n",
       "1                No        Unknown                      No   \n",
       "2                No             No                      No   \n",
       "3               Yes             No                      No   \n",
       "4               Yes             No                      No   \n",
       "\n",
       "  Bank Owned Property Taxes Delinquent Since  Delinquent Taxes  \\\n",
       "0                  No                    NaN               NaN   \n",
       "1                  No                    NaN               NaN   \n",
       "2                  No                    NaN               NaN   \n",
       "3                  No                    NaN               NaN   \n",
       "4                  No                    NaN               NaN   \n",
       "\n",
       "  Is Tax Delinquent  Code Liens - Count  Code Liens - Amount  Zip Code  \\\n",
       "0                No                 NaN                  NaN     75202   \n",
       "1                No                 NaN                  NaN     75201   \n",
       "2                No                 NaN                  NaN     75201   \n",
       "3                No                 NaN                  NaN     75226   \n",
       "4                No                 NaN                  NaN     75226   \n",
       "\n",
       "                                Zoning Council District Vacant Since  \\\n",
       "0  Central Area - CA-1(A)-Central Area      District 14   2022-04-01   \n",
       "1                       Other - PD-619      District 14   2023-06-01   \n",
       "2                       Other - PD-619      District 14   2022-04-01   \n",
       "3                       Other - PD-269       District 2   2022-04-01   \n",
       "4                       Other - PD-269       District 2   2022-04-01   \n",
       "\n",
       "   Land Size  Unnamed: 26  Unnamed: 27  \n",
       "0   0.124653          NaN          NaN  \n",
       "1   0.122321          NaN          NaN  \n",
       "2   0.117204          NaN          NaN  \n",
       "3   0.126854          NaN          NaN  \n",
       "4   0.114955          NaN          NaN  "
      ]
     },
     "execution_count": 2,
     "metadata": {},
     "output_type": "execute_result"
    }
   ],
   "source": [
    "# Read the CSV file with specified data types and skipped first 4 rows\n",
    "vacant_lots_df = pd.read_csv(\"data/southern_dallas_progress_export_20230906.csv\")\n",
    "vacant_lots_df.head()\n"
   ]
  },
  {
   "cell_type": "code",
   "execution_count": 3,
   "id": "c580d5a7-5550-4070-8232-30fd2dd47c83",
   "metadata": {},
   "outputs": [
    {
     "data": {
      "text/plain": [
       "(39645, 28)"
      ]
     },
     "execution_count": 3,
     "metadata": {},
     "output_type": "execute_result"
    }
   ],
   "source": [
    "#To see the rows before dropping duplicates\n",
    "vacant_lots_df.shape"
   ]
  },
  {
   "cell_type": "code",
   "execution_count": 4,
   "id": "10c1b72d-6849-48d5-ac1a-e07c5b19ef7d",
   "metadata": {},
   "outputs": [],
   "source": [
    "# Remove duplicates based on all columns\n",
    "vacant_lots_df = vacant_lots_df.drop_duplicates(subset=['Parcel ID'])"
   ]
  },
  {
   "cell_type": "code",
   "execution_count": 5,
   "id": "77f0c726-475c-4e35-a0bf-d9863d3d0c3b",
   "metadata": {},
   "outputs": [
    {
     "data": {
      "text/plain": [
       "(37465, 28)"
      ]
     },
     "execution_count": 5,
     "metadata": {},
     "output_type": "execute_result"
    }
   ],
   "source": [
    "#Rows after duplicates have been dropped\n",
    "vacant_lots_df.shape"
   ]
  },
  {
   "cell_type": "code",
   "execution_count": 6,
   "id": "87d7c358-15a3-47f4-a72f-c966dbeb5a1e",
   "metadata": {},
   "outputs": [],
   "source": [
    "# Recode 0 as NA in the \"Year Built\" column\n",
    "vacant_lots_df['Year Built'] = np.where(vacant_lots_df['Year Built'] == 0, np.nan, vacant_lots_df['Year Built'])"
   ]
  },
  {
   "cell_type": "code",
   "execution_count": 7,
   "id": "c77ab579-8630-4f35-b306-1c7143a6be07",
   "metadata": {},
   "outputs": [],
   "source": [
    "#Creates field Property Age Years in df\n",
    "\n",
    "#Assign a variable to the current year\n",
    "current_year = 2023\n",
    "\n",
    "# Calculate \"Property Age Years\" as the difference between 2023 and Year Built\n",
    "vacant_lots_df['Property Age Years'] = current_year - vacant_lots_df['Year Built']\n",
    "\n",
    "# Assign the calculated columns to variables for potential future use\n",
    "property_age_years = vacant_lots_df['Property Age Years']\n"
   ]
  },
  {
   "cell_type": "code",
   "execution_count": 8,
   "id": "156c7c13-8854-47f6-9e8f-3d07d7a3fcb8",
   "metadata": {},
   "outputs": [
    {
     "data": {
      "text/plain": [
       "count    37458.000000\n",
       "mean       474.049309\n",
       "std        126.480581\n",
       "min         70.000000\n",
       "25%        523.000000\n",
       "50%        523.000000\n",
       "75%        523.000000\n",
       "max        523.000000\n",
       "Name: Vacancy Days, dtype: float64"
      ]
     },
     "execution_count": 8,
     "metadata": {},
     "output_type": "execute_result"
    }
   ],
   "source": [
    "#Creates field Vacancy Days in df\n",
    "\n",
    "# Convert today's date to a Timestamp object\n",
    "# today = pd.Timestamp(datetime.today().date())\n",
    "\n",
    "reference_date = pd.Timestamp('2023-09-06')\n",
    "\n",
    "# Convert the 'Vacant Since' column to a Datetime column \n",
    "vacant_lots_df['Vacant Since'] = pd.to_datetime(vacant_lots_df['Vacant Since'])\n",
    "\n",
    "# Calculate \"Vacancy Days\" as the difference between reference date and \"Vacant Since\" date\n",
    "vacant_lots_df['Vacancy Days'] = (reference_date - vacant_lots_df['Vacant Since']).dt.days\n",
    "\n",
    "# Assign the calculated columns to variables for potential future use\n",
    "vacancy_days = vacant_lots_df['Vacancy Days']\n",
    "\n",
    "vacancy_days.describe()"
   ]
  },
  {
   "cell_type": "code",
   "execution_count": 9,
   "id": "25c55694",
   "metadata": {},
   "outputs": [],
   "source": [
    "\n",
    "#For ending set of 3 questions use a function to map Single Family,Multi, and Commercial\n",
    "def zoning_triple_category(row):\n",
    "    zoning=row['Zoning']\n",
    "    \n",
    "    if pd.notna(zoning):#check if thed value is not NaN\n",
    "        if \"Single Family\" in zoning or \"Mobile Home\" in zoning:\n",
    "            return \"Single Family\"\n",
    "        elif any(keyword in zoning for keyword in [\"Multifamily\", \"Duplex\", \"Cluster Housing\", \"Townhouse\"]):\n",
    "            return \"Multifamily\"\n",
    "        elif \"Commercial\" in zoning or \"commercial\" in zoning:\n",
    "            return \"Commercial\"\n",
    "        return \"Other\" #Return \"Other\" for NaN or missing values\n",
    "vacant_lots_df['Zoning Category 3'] = vacant_lots_df.apply(zoning_triple_category, axis=1)  "
   ]
  },
  {
   "cell_type": "code",
   "execution_count": 10,
   "id": "d2e47ee8-082d-4bf1-9e6b-6a4fb3b8acac",
   "metadata": {},
   "outputs": [],
   "source": [
    "# Check if \"CHURCH\" is a partial match in the \"Current Use\" column and create the \"Owner is Church\" column\n",
    "vacant_lots_df['Owner is Church']=vacant_lots_df['Current Use'].str.contains('CHURCH', case=False, na=True)\n",
    "\n",
    "# Map the True/False values to 'Yes' and 'No' in the \"Owner is Church\" column\n",
    "vacant_lots_df['Owner is Church'] = vacant_lots_df['Owner is Church'].map({True: 'Yes', False: 'No'})\n",
    "\n",
    "owner_is_church=vacant_lots_df[\"Owner is Church\"]"
   ]
  },
  {
   "cell_type": "code",
   "execution_count": 11,
   "id": "676bc64e",
   "metadata": {},
   "outputs": [],
   "source": [
    "\n",
    "#Checks strings in zoning column and maps them\n",
    "def classify_zoning_category(row):\n",
    "    zoning = row['Zoning']\n",
    "    \n",
    "    if pd.notna(zoning):  # Check if the value is not NaN\n",
    "        if \"Central Area\" in zoning:\n",
    "            return \"Central Area\"\n",
    "        elif \"Retail\" in zoning or \"Neighborhood Service\" in zoning:\n",
    "            return \"Retail\"\n",
    "        elif any(keyword in zoning for keyword in [\"Single Family\", \"Multifamily\", \"Duplex\", \"Cluster Housing\", \"Townhouse\"]):\n",
    "            return \"Residential\"\n",
    "        elif \"Office\" in zoning:\n",
    "            return \"Office\"\n",
    "        elif \"Industrial\" in zoning:\n",
    "            return \"Industrial\"\n",
    "        elif \"Commercial\" in zoning or \"commercial\" in zoning:  # Handle the typo\n",
    "            return \"Commercial\"\n",
    "    return \"Other\"  # Return \"Other\" for NaN or missing values\n",
    "\n",
    "# Apply the function to create the \"Zoning Category\" column\n",
    "vacant_lots_df['Zoning Category'] = vacant_lots_df.apply(classify_zoning_category, axis=1)"
   ]
  },
  {
   "cell_type": "code",
   "execution_count": 12,
   "id": "2a4a21da-ae69-4230-a021-2e0b2b84540e",
   "metadata": {},
   "outputs": [],
   "source": [
    "# Define a function to apply the classification logic\n",
    "def classify_owner(row):\n",
    "    if pd.notna(row['Public Owner']):\n",
    "        return row['Public Owner']\n",
    "    elif row['Public Owner'] == 'City of Dallas':\n",
    "        return 'City of Dallas'\n",
    "    elif row['Public Owner'] == 'City of Dallas Housing Authority':\n",
    "        return 'City of Dallas Housing Authority'\n",
    "    elif row['Public Owner'] == 'County of Dallas':\n",
    "        return 'County of Dallas'  \n",
    "    elif row['Owner is Church'] == 'Yes':\n",
    "        return 'Church'\n",
    "    elif row['Owner is Business'] == 'Yes':\n",
    "        return 'Business'\n",
    "    elif row['Bank Owned Property'] == 'Yes':\n",
    "        return 'Bank'\n",
    "    else:\n",
    "        return 'Private Owner'\n",
    "\n",
    "# Apply the function to create the \"Owner\" column\n",
    "vacant_lots_df['Owner'] = vacant_lots_df.apply(classify_owner, axis=1)\n",
    "   "
   ]
  },
  {
   "cell_type": "code",
   "execution_count": 13,
   "id": "346aacf3-4f1d-4873-a36a-28661bf82124",
   "metadata": {},
   "outputs": [],
   "source": [
    "# Selecting columns of interest and filtering by 'Property Type' == 'Structure'\n",
    "structure_df = vacant_lots_df[vacant_lots_df['Property Type'] == 'Structure']\n",
    "\n",
    "# Selecting columns of interest and filtering by 'Property Type' == 'Land' for land dataframe\n",
    "land_df = vacant_lots_df[vacant_lots_df['Property Type'] == 'Land']\n",
    "\n",
    "# Filter residential properties\n",
    "residential_properties = vacant_lots_df[vacant_lots_df['Zoning Category'] == 'Residential']\n",
    "\n",
    "# Filter commercial properties used Zone Category 3 column for zoned single family residential, commercial and multifamily questions\n",
    "commercial_properties = vacant_lots_df[vacant_lots_df['Zoning Category 3'] == 'Commercial']\n"
   ]
  },
  {
   "cell_type": "code",
   "execution_count": 14,
   "id": "5f526549",
   "metadata": {},
   "outputs": [
    {
     "data": {
      "text/plain": [
       "Property Type\n",
       "Land         24605\n",
       "Structure    11630\n",
       "Name: Property Type, dtype: int64"
      ]
     },
     "execution_count": 14,
     "metadata": {},
     "output_type": "execute_result"
    }
   ],
   "source": [
    "vacant_lots_df.groupby('Property Type')['Property Type'].count()"
   ]
  },
  {
   "cell_type": "code",
   "execution_count": 15,
   "id": "b1a0afd9-cfcb-4b62-9cb9-456b7e680a2a",
   "metadata": {},
   "outputs": [
    {
     "data": {
      "text/plain": [
       "(37465, 33)"
      ]
     },
     "execution_count": 15,
     "metadata": {},
     "output_type": "execute_result"
    }
   ],
   "source": [
    "vacant_lots_df.shape"
   ]
  },
  {
   "cell_type": "code",
   "execution_count": 16,
   "id": "381ee7ab-ac43-4248-b5eb-ee732aa4309e",
   "metadata": {},
   "outputs": [
    {
     "name": "stdout",
     "output_type": "stream",
     "text": [
      "<class 'pandas.core.frame.DataFrame'>\n",
      "Index: 37465 entries, 0 to 39644\n",
      "Data columns (total 33 columns):\n",
      " #   Column                                  Non-Null Count  Dtype         \n",
      "---  ------                                  --------------  -----         \n",
      " 0   Parcel ID                               37465 non-null  object        \n",
      " 1   Adddress                                37465 non-null  object        \n",
      " 2   Owner                                   37465 non-null  object        \n",
      " 3   Is Vacant Property                      37465 non-null  object        \n",
      " 4   Property Type                           36235 non-null  object        \n",
      " 5   Current Use                             37465 non-null  object        \n",
      " 6   Year Built                              9119 non-null   float64       \n",
      " 7   Average Year Built By Council District  37444 non-null  float64       \n",
      " 8   Owner Location                          37465 non-null  object        \n",
      " 9   Owner Property Count                    37465 non-null  int64         \n",
      " 10  Public Owner                            2655 non-null   object        \n",
      " 11  City or County Owned                    37465 non-null  object        \n",
      " 12  Owner is Business                       37465 non-null  object        \n",
      " 13  Owner Occupied                          37465 non-null  object        \n",
      " 14  Suspected Heir Property                 37465 non-null  object        \n",
      " 15  Bank Owned Property                     37465 non-null  object        \n",
      " 16  Taxes Delinquent Since                  4695 non-null   object        \n",
      " 17  Delinquent Taxes                        4695 non-null   float64       \n",
      " 18  Is Tax Delinquent                       37465 non-null  object        \n",
      " 19  Code Liens - Count                      5881 non-null   float64       \n",
      " 20  Code Liens - Amount                     5881 non-null   float64       \n",
      " 21  Zip Code                                37465 non-null  int64         \n",
      " 22  Zoning                                  30218 non-null  object        \n",
      " 23  Council District                        37444 non-null  object        \n",
      " 24  Vacant Since                            37458 non-null  datetime64[ns]\n",
      " 25  Land Size                               37465 non-null  float64       \n",
      " 26  Unnamed: 26                             0 non-null      float64       \n",
      " 27  Unnamed: 27                             0 non-null      float64       \n",
      " 28  Property Age Years                      9119 non-null   float64       \n",
      " 29  Vacancy Days                            37458 non-null  float64       \n",
      " 30  Zoning Category 3                       30218 non-null  object        \n",
      " 31  Owner is Church                         37465 non-null  object        \n",
      " 32  Zoning Category                         37465 non-null  object        \n",
      "dtypes: datetime64[ns](1), float64(10), int64(2), object(20)\n",
      "memory usage: 9.7+ MB\n"
     ]
    }
   ],
   "source": [
    "vacant_lots_df.info()"
   ]
  },
  {
   "cell_type": "code",
   "execution_count": 17,
   "id": "f12f07d8-678f-4cfc-98d8-fd3b4a00871f",
   "metadata": {},
   "outputs": [
    {
     "data": {
      "text/plain": [
       "Parcel ID                                     0\n",
       "Adddress                                      0\n",
       "Owner                                         0\n",
       "Is Vacant Property                            0\n",
       "Property Type                              1230\n",
       "Current Use                                   0\n",
       "Year Built                                28346\n",
       "Average Year Built By Council District       21\n",
       "Owner Location                                0\n",
       "Owner Property Count                          0\n",
       "Public Owner                              34810\n",
       "City or County Owned                          0\n",
       "Owner is Business                             0\n",
       "Owner Occupied                                0\n",
       "Suspected Heir Property                       0\n",
       "Bank Owned Property                           0\n",
       "Taxes Delinquent Since                    32770\n",
       "Delinquent Taxes                          32770\n",
       "Is Tax Delinquent                             0\n",
       "Code Liens - Count                        31584\n",
       "Code Liens - Amount                       31584\n",
       "Zip Code                                      0\n",
       "Zoning                                     7247\n",
       "Council District                             21\n",
       "Vacant Since                                  7\n",
       "Land Size                                     0\n",
       "Unnamed: 26                               37465\n",
       "Unnamed: 27                               37465\n",
       "Property Age Years                        28346\n",
       "Vacancy Days                                  7\n",
       "Zoning Category 3                          7247\n",
       "Owner is Church                               0\n",
       "Zoning Category                               0\n",
       "dtype: int64"
      ]
     },
     "execution_count": 17,
     "metadata": {},
     "output_type": "execute_result"
    }
   ],
   "source": [
    "vacant_lots_df.isnull().sum()"
   ]
  },
  {
   "cell_type": "code",
   "execution_count": 18,
   "id": "197c9cfc-7393-4543-9922-8aca00bce068",
   "metadata": {
    "scrolled": true
   },
   "outputs": [
    {
     "data": {
      "text/plain": [
       "Index(['Parcel ID', 'Adddress', 'Owner', 'Is Vacant Property', 'Property Type',\n",
       "       'Current Use', 'Year Built', 'Average Year Built By Council District',\n",
       "       'Owner Location', 'Owner Property Count', 'Public Owner',\n",
       "       'City or County Owned', 'Owner is Business', 'Owner Occupied',\n",
       "       'Suspected Heir Property', 'Bank Owned Property',\n",
       "       'Taxes Delinquent Since', 'Delinquent Taxes', 'Is Tax Delinquent',\n",
       "       'Code Liens - Count', 'Code Liens - Amount', 'Zip Code', 'Zoning',\n",
       "       'Council District', 'Vacant Since', 'Land Size', 'Unnamed: 26',\n",
       "       'Unnamed: 27', 'Property Age Years', 'Vacancy Days',\n",
       "       'Zoning Category 3', 'Owner is Church', 'Zoning Category'],\n",
       "      dtype='object')"
      ]
     },
     "execution_count": 18,
     "metadata": {},
     "output_type": "execute_result"
    }
   ],
   "source": [
    "vacant_lots_df.columns"
   ]
  },
  {
   "cell_type": "markdown",
   "id": "51e21aa1",
   "metadata": {},
   "source": [
    "# Check vacancy dates"
   ]
  },
  {
   "cell_type": "code",
   "execution_count": 27,
   "id": "96ac4530",
   "metadata": {},
   "outputs": [
    {
     "data": {
      "text/plain": [
       "count    37465.000000\n",
       "mean         1.051189\n",
       "std          6.771811\n",
       "min          0.000003\n",
       "25%          0.134328\n",
       "50%          0.179281\n",
       "75%          0.365356\n",
       "max        566.754442\n",
       "Name: Land Size, dtype: float64"
      ]
     },
     "execution_count": 27,
     "metadata": {},
     "output_type": "execute_result"
    }
   ],
   "source": [
    "vacant_lots_df['Land Size'].describe()"
   ]
  },
  {
   "cell_type": "code",
   "execution_count": 25,
   "id": "d443fec1",
   "metadata": {},
   "outputs": [
    {
     "data": {
      "text/plain": [
       "array(['2022-04-01T00:00:00.000000000', '2023-06-01T00:00:00.000000000',\n",
       "       '2023-03-01T00:00:00.000000000', '2023-01-07T00:00:00.000000000',\n",
       "       '2022-07-01T00:00:00.000000000', '2022-10-06T00:00:00.000000000',\n",
       "       '2022-09-01T00:00:00.000000000', '2022-12-02T00:00:00.000000000',\n",
       "       '2023-05-01T00:00:00.000000000', '2023-06-28T00:00:00.000000000',\n",
       "                                 'NaT'], dtype='datetime64[ns]')"
      ]
     },
     "execution_count": 25,
     "metadata": {},
     "output_type": "execute_result"
    }
   ],
   "source": [
    "pd.unique(vacant_lots_df['Vacant Since'])"
   ]
  },
  {
   "cell_type": "code",
   "execution_count": 26,
   "id": "9ef560c2",
   "metadata": {},
   "outputs": [
    {
     "data": {
      "text/plain": [
       "Vacant Since\n",
       "2022-04-01    31952\n",
       "2022-07-01      481\n",
       "2022-09-01      426\n",
       "2022-10-06      280\n",
       "2022-12-02      379\n",
       "2023-01-07      388\n",
       "2023-03-01      437\n",
       "2023-05-01       92\n",
       "2023-06-01     3022\n",
       "2023-06-28        1\n",
       "NaT               7\n",
       "Name: count, dtype: int64"
      ]
     },
     "execution_count": 26,
     "metadata": {},
     "output_type": "execute_result"
    }
   ],
   "source": [
    "vacant_lots_df['Vacant Since'].value_counts(dropna=False, sort=False).sort_index()"
   ]
  },
  {
   "cell_type": "code",
   "execution_count": null,
   "id": "a6372063",
   "metadata": {},
   "outputs": [],
   "source": []
  },
  {
   "cell_type": "markdown",
   "id": "ff11c319",
   "metadata": {},
   "source": [
    "# Analyses"
   ]
  },
  {
   "cell_type": "code",
   "execution_count": 19,
   "id": "e35df33f-c326-41d0-8484-2b2c2cb343e0",
   "metadata": {},
   "outputs": [],
   "source": [
    "#Sets results for dict\n",
    "results = {}"
   ]
  },
  {
   "cell_type": "code",
   "execution_count": 20,
   "id": "d7dc2da6-898a-48fd-a8c3-30062001ae17",
   "metadata": {},
   "outputs": [],
   "source": [
    "#1.How many vacant lots are in each council district?\n",
    "\n",
    "#Groups Council distrcits column and \n",
    "vacant_lots_counts_by_district  = land_df.groupby('Council District').size()\n"
   ]
  },
  {
   "cell_type": "code",
   "execution_count": 20,
   "id": "dbd151ae-57aa-481d-a6af-5cb3a7fc8da1",
   "metadata": {},
   "outputs": [
    {
     "data": {
      "text/plain": [
       "{'question_number': 1,\n",
       " 'value': Council District\n",
       " District 1     1233\n",
       " District 10     355\n",
       " District 11     368\n",
       " District 12     187\n",
       " District 13     442\n",
       " District 14     999\n",
       " District 2     2227\n",
       " District 3     1625\n",
       " District 4     3507\n",
       " District 5     1540\n",
       " District 6     4152\n",
       " District 7     4578\n",
       " District 8     3121\n",
       " District 9      251\n",
       " dtype: int64}"
      ]
     },
     "execution_count": 20,
     "metadata": {},
     "output_type": "execute_result"
    }
   ],
   "source": [
    "#dictonary that starts the result values\n",
    "results[\"How many vacant lots are in each council district?\"] = {\n",
    "    'question_number': 1,\n",
    "    'value': vacant_lots_counts_by_district\n",
    "}\n",
    "\n",
    "results[\"How many vacant lots are in each council district?\"]\n"
   ]
  },
  {
   "cell_type": "code",
   "execution_count": 21,
   "id": "52264ec8-f5a8-4027-a3c5-bc646de98b51",
   "metadata": {},
   "outputs": [],
   "source": [
    "#2 How long have the vacant lots in each council district been vacant? \n",
    "vacant_lots_stats = land_df.groupby('Council District')['Vacancy Days'].agg(['min','median', 'mean', 'max'])\n",
    "\n",
    "# Rename the columns for clarity\n",
    "vacant_lots_stats.columns = ['Min Days', 'Median Days', 'Mean Days', 'Max Days']\n"
   ]
  },
  {
   "cell_type": "code",
   "execution_count": 22,
   "id": "112868d3-cd7b-42ea-9942-18b298b9eeb8",
   "metadata": {},
   "outputs": [
    {
     "data": {
      "text/plain": [
       "{'question_number': 2,\n",
       " 'value':                   Min Days  Median Days   Mean Days  Max Days\n",
       " Council District                                             \n",
       " District 1            97.0        523.0  501.991079     523.0\n",
       " District 10           97.0        523.0  505.118310     523.0\n",
       " District 11           97.0        523.0  503.407609     523.0\n",
       " District 12           97.0        523.0  516.941176     523.0\n",
       " District 13           97.0        523.0  513.904977     523.0\n",
       " District 14           70.0        523.0  509.956957     523.0\n",
       " District 2            97.0        523.0  511.537494     523.0\n",
       " District 3            97.0        523.0  519.735837     523.0\n",
       " District 4            97.0        523.0  512.640433     523.0\n",
       " District 5            97.0        523.0  518.103247     523.0\n",
       " District 6            97.0        523.0  510.756503     523.0\n",
       " District 7            97.0        523.0  516.482088     523.0\n",
       " District 8            97.0        523.0  516.256649     523.0\n",
       " District 9            97.0        523.0  506.705179     523.0}"
      ]
     },
     "execution_count": 22,
     "metadata": {},
     "output_type": "execute_result"
    }
   ],
   "source": [
    "\n",
    "results[\"How long have the vacant lots in each council district been vacant?\"] = {\n",
    "    'question_number': 2,\n",
    "    'value': vacant_lots_stats\n",
    "}\n",
    "\n",
    "\n",
    "results[\"How long have the vacant lots in each council district been vacant?\"]"
   ]
  },
  {
   "cell_type": "code",
   "execution_count": 23,
   "id": "db4cd3c8-6dd1-4c37-b7e4-8d8302429eea",
   "metadata": {},
   "outputs": [],
   "source": [
    "# 3 How many are zoned single family residential, commercial and multifamily? <-- rows are council District; columns are counts within each of the 3 zoning types\n",
    "\n",
    "# Group by 'Council District' and 'Zoning Category', then count occurrences\n",
    "#zoning_category_counts = vacant_lots_df.groupby(['Council District', 'Zoning Category']).size().unstack(fill_value=0)\n"
   ]
  },
  {
   "cell_type": "code",
   "execution_count": 24,
   "id": "c4c2fdee-5cae-4247-8cec-2d9fbb65b8b8",
   "metadata": {},
   "outputs": [
    {
     "data": {
      "text/plain": [
       "'results[\" How many are zoned single family residential, commercial and multifamily? <-- rows are council District; columns are counts within each of the 3 zoning types\"] = {\\n    \\'question_number\\': 3,\\n    \\'value\\': zoning_category_counts\\n}\\n\\nresults'"
      ]
     },
     "execution_count": 24,
     "metadata": {},
     "output_type": "execute_result"
    }
   ],
   "source": [
    "\n",
    "'''results[\" How many are zoned single family residential, commercial and multifamily? <-- rows are council District; columns are counts within each of the 3 zoning types\"] = {\n",
    "    'question_number': 3,\n",
    "    'value': zoning_category_counts\n",
    "}\n",
    "\n",
    "results'''"
   ]
  },
  {
   "cell_type": "code",
   "execution_count": 25,
   "id": "c9fd405d",
   "metadata": {},
   "outputs": [],
   "source": [
    "#3 How many vacant lots in each council district are zoned single family residential, commercial and multifamily \n",
    "\n",
    "# Group by 'Council District' and 'Zoning Category', then count occurrences\n",
    "zoning_category_counts_3 = land_df.groupby(['Council District', 'Zoning Category 3']).size().unstack(fill_value=0)\n"
   ]
  },
  {
   "cell_type": "code",
   "execution_count": 26,
   "id": "42dfb6e9",
   "metadata": {},
   "outputs": [
    {
     "data": {
      "text/plain": [
       "{'question_number': 3,\n",
       " 'value': Zoning Category 3  Commercial  Multifamily  Other  Single Family\n",
       " Council District                                                \n",
       " District 1                  3           67    892            225\n",
       " District 10                 8           54    207             43\n",
       " District 11                 0           22    264             82\n",
       " District 12                 0           27     96             64\n",
       " District 13                 2           71    191            152\n",
       " District 14                 1           97    635              5\n",
       " District 2                188          235   1317            111\n",
       " District 3                 23          108    799            668\n",
       " District 4                 97          271   1316           1821\n",
       " District 5                 15           42    622            861\n",
       " District 6                115           92   1879           1276\n",
       " District 7                151          284    821            382\n",
       " District 8                220           99    875           1918\n",
       " District 9                 11           12    103             42}"
      ]
     },
     "execution_count": 26,
     "metadata": {},
     "output_type": "execute_result"
    }
   ],
   "source": [
    "\n",
    "results[\"How many are zoned single family residential, commercial and multifamily?\"] = {\n",
    "    'question_number': 3,\n",
    "    'value': zoning_category_counts_3\n",
    "}\n",
    "\n",
    "\n",
    "results[\"How many are zoned single family residential, commercial and multifamily?\"]"
   ]
  },
  {
   "cell_type": "code",
   "execution_count": 27,
   "id": "9ecbb9bd-a926-4212-adfc-ecf66ad3baf0",
   "metadata": {},
   "outputs": [],
   "source": [
    "# 4. How many vacant structures are in each council district?\n",
    "\n",
    "# Groups Council District by structure and vacant property\n",
    "\n",
    "# Grouping by 'Council District' and counting occurrences\n",
    "vacant_structure_count = structure_df.groupby('Council District').size()"
   ]
  },
  {
   "cell_type": "code",
   "execution_count": 28,
   "id": "f1cf0e4c-f202-41ea-8b10-7eb7716161d2",
   "metadata": {},
   "outputs": [
    {
     "data": {
      "text/plain": [
       "{'question_number': 4,\n",
       " 'value': Council District\n",
       " District 1      618\n",
       " District 10     326\n",
       " District 11     401\n",
       " District 12     105\n",
       " District 13    1009\n",
       " District 14     766\n",
       " District 2     1259\n",
       " District 3      455\n",
       " District 4     1736\n",
       " District 5      598\n",
       " District 6     1539\n",
       " District 7     1224\n",
       " District 8      896\n",
       " District 9      698\n",
       " dtype: int64}"
      ]
     },
     "execution_count": 28,
     "metadata": {},
     "output_type": "execute_result"
    }
   ],
   "source": [
    "\n",
    "results[\"How many vacant structures are in each council district?\"] = {\n",
    "    'question_number': 4,\n",
    "    'value': vacant_structure_count\n",
    "}\n",
    "\n",
    "results[\"How many vacant structures are in each council district?\"]"
   ]
  },
  {
   "cell_type": "code",
   "execution_count": 29,
   "id": "ba28cd70-5bb8-48f9-8fe2-bdc53dbae63c",
   "metadata": {},
   "outputs": [],
   "source": [
    "#5 How long have the vacant structures in each council district been vacant? (see question 2)\n",
    "vacant_structure_count_days = structure_df.groupby('Council District')['Vacancy Days'].agg(['min','median', 'mean', 'max'])\n",
    "\n",
    "# Rename the columns for clarity\n",
    "vacant_structure_count_days.columns = ['Min Days', 'Median Days', 'Mean Days', 'Max Days']\n"
   ]
  },
  {
   "cell_type": "code",
   "execution_count": 30,
   "id": "51203e53-d0f5-4d2e-9e44-711222f64f73",
   "metadata": {},
   "outputs": [
    {
     "data": {
      "text/plain": [
       "{'question_number': 5,\n",
       " 'value':                   Min Days  Median Days   Mean Days  Max Days\n",
       " Council District                                             \n",
       " District 1            97.0        523.0  457.372168     523.0\n",
       " District 10           97.0        523.0  360.585890     523.0\n",
       " District 11           97.0        523.0  423.563591     523.0\n",
       " District 12           97.0        278.0  321.552381     523.0\n",
       " District 13           97.0        523.0  422.011893     523.0\n",
       " District 14           97.0        523.0  393.233681     523.0\n",
       " District 2            97.0        523.0  422.633042     523.0\n",
       " District 3            97.0        523.0  449.474725     523.0\n",
       " District 4            97.0        523.0  436.455645     523.0\n",
       " District 5            97.0        523.0  460.535117     523.0\n",
       " District 6            97.0        523.0  445.574399     523.0\n",
       " District 7            97.0        523.0  435.069444     523.0\n",
       " District 8            97.0        523.0  474.627232     523.0\n",
       " District 9            97.0        523.0  378.032951     523.0}"
      ]
     },
     "execution_count": 30,
     "metadata": {},
     "output_type": "execute_result"
    }
   ],
   "source": [
    "\n",
    "results[\"How long have the vacant structures in each council district been vacant? (see question 2)\"] = {\n",
    "    'question_number': 5,\n",
    "    'value': vacant_structure_count_days\n",
    "}\n",
    "\n",
    "results[\"How long have the vacant structures in each council district been vacant? (see question 2)\"]"
   ]
  },
  {
   "cell_type": "code",
   "execution_count": 31,
   "id": "9d0600cb-c7b9-41a8-98fe-c245992e90d5",
   "metadata": {},
   "outputs": [],
   "source": [
    "\n",
    "#6 How many vacant structures in each council district are zoned single family residential, commercial and multifamily? (see question 3)\n",
    "\n",
    "zoning_category_counts_structure = structure_df.groupby(['Council District', 'Zoning Category 3']).size().unstack(fill_value=0)\n"
   ]
  },
  {
   "cell_type": "code",
   "execution_count": 32,
   "id": "30adcbe3-2cf3-4ba6-a86f-c9339fd6088b",
   "metadata": {},
   "outputs": [
    {
     "data": {
      "text/plain": [
       "{'question_number': 6,\n",
       " 'value': Zoning Category 3  Commercial  Multifamily  Other  Single Family\n",
       " Council District                                                \n",
       " District 1                  4           31    323            229\n",
       " District 10                 6           19    166             46\n",
       " District 11                 0           32    204            165\n",
       " District 12                 0           20     37             48\n",
       " District 13                 0           43    252            693\n",
       " District 14                 1           90    297             24\n",
       " District 2                 47          167    452             48\n",
       " District 3                  5           15    136            297\n",
       " District 4                 13           75    275           1371\n",
       " District 5                  8           32     93            465\n",
       " District 6                 17           60    559            620\n",
       " District 7                 28          115    101            234\n",
       " District 8                 22           15    166            693\n",
       " District 9                  3           39    128             44}"
      ]
     },
     "execution_count": 32,
     "metadata": {},
     "output_type": "execute_result"
    }
   ],
   "source": [
    "\n",
    "results[\"How many vacant structures in each council district are zoned single family residential, commercial and multifamily? (see question 3)\"] = {\n",
    "    'question_number': 6,\n",
    "    'value': zoning_category_counts_structure\n",
    "}\n",
    "\n",
    "results[\"How many vacant structures in each council district are zoned single family residential, commercial and multifamily? (see question 3)\"] \n"
   ]
  },
  {
   "cell_type": "code",
   "execution_count": 33,
   "id": "6947266c-2298-44b0-8bb1-8c3acc09e34f",
   "metadata": {},
   "outputs": [],
   "source": [
    "#7.How many vacant lots are in each zip code?\n",
    "\n",
    "# Groups the zip code and if property is vacant and produces the count \n",
    "vacant_lots_counts_by_zip = land_df.groupby('Zip Code').size()\n",
    "\n",
    "# Convert index (zip codes) to integers to remove the .0 decimal part\n",
    "vacant_lots_counts_by_zip.index = vacant_lots_counts_by_zip.index.astype(int)"
   ]
  },
  {
   "cell_type": "code",
   "execution_count": 34,
   "id": "131cfafc-4138-4d5e-ada7-503068707ced",
   "metadata": {},
   "outputs": [
    {
     "data": {
      "text/plain": [
       "{'question_number': 7,\n",
       " 'value': Zip Code\n",
       " 75006       5\n",
       " 75019      44\n",
       " 75041       1\n",
       " 75043      10\n",
       " 75050       1\n",
       " 75051       9\n",
       " 75060       1\n",
       " 75062       2\n",
       " 75063       5\n",
       " 75080      10\n",
       " 75081       2\n",
       " 75141       7\n",
       " 75149       9\n",
       " 75150      13\n",
       " 75159       5\n",
       " 75181       4\n",
       " 75182       2\n",
       " 75201     327\n",
       " 75202     125\n",
       " 75203    2079\n",
       " 75204     455\n",
       " 75205      35\n",
       " 75206     231\n",
       " 75207     424\n",
       " 75208     835\n",
       " 75209     117\n",
       " 75210     993\n",
       " 75211     791\n",
       " 75212    2404\n",
       " 75214     142\n",
       " 75215    2724\n",
       " 75216    1897\n",
       " 75217    1790\n",
       " 75218      86\n",
       " 75219     315\n",
       " 75220     389\n",
       " 75223     821\n",
       " 75224     226\n",
       " 75225     102\n",
       " 75226     446\n",
       " 75227     592\n",
       " 75228     186\n",
       " 75229     336\n",
       " 75230     173\n",
       " 75231     154\n",
       " 75232     321\n",
       " 75233     170\n",
       " 75234      19\n",
       " 75235     315\n",
       " 75236     552\n",
       " 75237     275\n",
       " 75238      89\n",
       " 75240      94\n",
       " 75241    1564\n",
       " 75243     254\n",
       " 75244      13\n",
       " 75246     124\n",
       " 75247     271\n",
       " 75248     209\n",
       " 75249      99\n",
       " 75251       7\n",
       " 75252      30\n",
       " 75253     822\n",
       " 75254      49\n",
       " 75270       2\n",
       " 75287       1\n",
       " dtype: int64}"
      ]
     },
     "execution_count": 34,
     "metadata": {},
     "output_type": "execute_result"
    }
   ],
   "source": [
    "\n",
    "results[\"How many vacant lots are in each zip code?\"] = {\n",
    "    'question_number': 7,\n",
    "    'value': vacant_lots_counts_by_zip\n",
    "}\n",
    "\n",
    "results[\"How many vacant lots are in each zip code?\"]"
   ]
  },
  {
   "cell_type": "code",
   "execution_count": 35,
   "id": "20706e3a-5456-4881-b1b7-d9c7e23e15ff",
   "metadata": {},
   "outputs": [],
   "source": [
    "#8 How long have the vacant lots in each zip code been vacant?\n",
    "vacant_zips_count_days = land_df.groupby('Zip Code')['Vacancy Days'].agg(['min','median', 'mean', 'max'])\n",
    "\n",
    "# Convert index (zip codes) to integers to remove the .0 decimal part\n",
    "vacant_zips_count_days.index = vacant_zips_count_days.index.astype(int)\n",
    "\n",
    "# Rename the columns for clarity\n",
    "vacant_zips_count_days.columns = ['Min Days', 'Median Days', 'Mean Days', 'Max Days']"
   ]
  },
  {
   "cell_type": "code",
   "execution_count": 36,
   "id": "ce8c6eed-e3bd-485f-a1b7-2b55425c77cb",
   "metadata": {},
   "outputs": [
    {
     "data": {
      "text/plain": [
       "{'question_number': 8,\n",
       " 'value':           Min Days  Median Days   Mean Days  Max Days\n",
       " Zip Code                                             \n",
       " 75006        523.0        523.0  523.000000     523.0\n",
       " 75019         97.0        523.0  491.886364     523.0\n",
       " 75041        523.0        523.0  523.000000     523.0\n",
       " 75043        523.0        523.0  523.000000     523.0\n",
       " 75050        523.0        523.0  523.000000     523.0\n",
       " 75051        523.0        523.0  523.000000     523.0\n",
       " 75060        523.0        523.0  523.000000     523.0\n",
       " 75062        523.0        523.0  523.000000     523.0\n",
       " 75063        523.0        523.0  523.000000     523.0\n",
       " 75080        523.0        523.0  523.000000     523.0\n",
       " 75081        523.0        523.0  523.000000     523.0\n",
       " 75141        523.0        523.0  523.000000     523.0\n",
       " 75149        242.0        523.0  491.777778     523.0\n",
       " 75150         97.0        523.0  478.461538     523.0\n",
       " 75159        523.0        523.0  523.000000     523.0\n",
       " 75181        523.0        523.0  523.000000     523.0\n",
       " 75182        523.0        523.0  523.000000     523.0\n",
       " 75201         97.0        523.0  511.923547     523.0\n",
       " 75202         97.0        523.0  486.248000     523.0\n",
       " 75203         97.0        523.0  507.844637     523.0\n",
       " 75204         97.0        523.0  507.984615     523.0\n",
       " 75205        189.0        523.0  513.457143     523.0\n",
       " 75206         70.0        523.0  513.004329     523.0\n",
       " 75207         97.0        523.0  512.983491     523.0\n",
       " 75208         97.0        523.0  495.922156     523.0\n",
       " 75209         97.0        523.0  516.196581     523.0\n",
       " 75210         97.0        523.0  519.997986     523.0\n",
       " 75211         97.0        523.0  515.678887     523.0\n",
       " 75212         97.0        523.0  512.551165     523.0\n",
       " 75214         97.0        523.0  513.549296     523.0\n",
       " 75215         97.0        523.0  517.072320     523.0\n",
       " 75216         97.0        523.0  512.947285     523.0\n",
       " 75217         97.0        523.0  517.669274     523.0\n",
       " 75218         97.0        523.0  511.930233     523.0\n",
       " 75219         97.0        523.0  517.673016     523.0\n",
       " 75220         97.0        523.0  511.958869     523.0\n",
       " 75223         97.0        523.0  511.696711     523.0\n",
       " 75224         97.0        523.0  517.345133     523.0\n",
       " 75225         97.0        523.0  518.823529     523.0\n",
       " 75226         97.0        523.0  519.585202     523.0\n",
       " 75227         97.0        523.0  516.815878     523.0\n",
       " 75228         97.0        523.0  504.935484     523.0\n",
       " 75229         97.0        523.0  506.342262     523.0\n",
       " 75230         97.0        523.0  512.624277     523.0\n",
       " 75231         97.0        523.0  511.935065     523.0\n",
       " 75232         97.0        523.0  517.676012     523.0\n",
       " 75233         97.0        523.0  520.494118     523.0\n",
       " 75234         97.0        523.0  478.157895     523.0\n",
       " 75235         97.0        523.0  517.304762     523.0\n",
       " 75236         97.0        523.0  521.453721     523.0\n",
       " 75237         97.0        523.0  519.901818     523.0\n",
       " 75238         97.0        523.0  499.348315     523.0\n",
       " 75240         97.0        523.0  502.627660     523.0\n",
       " 75241         97.0        523.0  516.365090     523.0\n",
       " 75243         97.0        523.0  502.200787     523.0\n",
       " 75244        189.0        523.0  497.307692     523.0\n",
       " 75246         97.0        523.0  511.459677     523.0\n",
       " 75247         97.0        523.0  506.926199     523.0\n",
       " 75248         97.0        523.0  515.540670     523.0\n",
       " 75249        523.0        523.0  523.000000     523.0\n",
       " 75251         97.0        523.0  340.428571     523.0\n",
       " 75252        523.0        523.0  523.000000     523.0\n",
       " 75253         97.0        523.0  514.313869     523.0\n",
       " 75254         97.0        523.0  496.918367     523.0\n",
       " 75270         97.0        310.0  310.000000     523.0\n",
       " 75287        523.0        523.0  523.000000     523.0}"
      ]
     },
     "execution_count": 36,
     "metadata": {},
     "output_type": "execute_result"
    }
   ],
   "source": [
    "\n",
    "results[\"How long have the vacant lots in each zip code been vacant?\"] = {\n",
    "    'question_number': 8,\n",
    "    'value': vacant_zips_count_days\n",
    "}\n",
    "\n",
    "results[\"How long have the vacant lots in each zip code been vacant?\"] "
   ]
  },
  {
   "cell_type": "code",
   "execution_count": 37,
   "id": "bbae9fff-9c6f-457c-be12-964af06e0b40",
   "metadata": {},
   "outputs": [],
   "source": [
    "#9 How many vacant lots in each zip code are zoned single family residential, commercial and multifamily?\n",
    "\n",
    "\n",
    "zoning_category_counts_zip = land_df.groupby(['Zip Code', 'Zoning Category 3']).size().unstack(fill_value=0)\n",
    "\n",
    "# Convert index (zip codes) to integers to remove the .0 decimal part\n",
    "zoning_category_counts_zip.index = zoning_category_counts_zip.index.astype(int)"
   ]
  },
  {
   "cell_type": "code",
   "execution_count": 38,
   "id": "5229a787-4836-43ff-ad77-a3172e291564",
   "metadata": {},
   "outputs": [
    {
     "data": {
      "text/plain": [
       "{'question_number': 9,\n",
       " 'value': Zoning Category 3  Commercial  Multifamily  Other  Single Family\n",
       " Zip Code                                                        \n",
       " 75006                       0            0      4              0\n",
       " 75019                       0            0      9              0\n",
       " 75043                       0            0      6              0\n",
       " 75051                       0            0      3              6\n",
       " 75060                       0            0      1              0\n",
       " 75062                       0            0      2              0\n",
       " 75063                       0            0      1              0\n",
       " 75080                       0            0     10              0\n",
       " 75081                       0            1      1              0\n",
       " 75141                       0            0      7              0\n",
       " 75149                       0            0      9              0\n",
       " 75150                       0            0     10              0\n",
       " 75159                       0            0      3              2\n",
       " 75181                       0            0      4              0\n",
       " 75182                       0            0      2              0\n",
       " 75201                       0            0    238              0\n",
       " 75202                       0            0    116              0\n",
       " 75203                      25          183   1274            593\n",
       " 75204                       0          114    283             10\n",
       " 75205                       0            0      4              0\n",
       " 75206                       1           74    148              4\n",
       " 75207                       1            0    345              0\n",
       " 75208                      10           22    670            116\n",
       " 75209                       2            3     63             28\n",
       " 75210                       1            3     68             34\n",
       " 75211                      23           40    290            411\n",
       " 75212                      77           73   1067           1186\n",
       " 75214                       0           34     35             36\n",
       " 75215                       1            0    702             13\n",
       " 75216                     124           76    421           1276\n",
       " 75217                      27           56    661           1046\n",
       " 75218                       4            4     36              6\n",
       " 75219                       0            0     10              0\n",
       " 75220                      26           21    119             21\n",
       " 75223                     234          247    230            110\n",
       " 75224                       3           37     84            102\n",
       " 75225                       0            0     61             41\n",
       " 75226                      25           21    360              0\n",
       " 75227                       7           91    192            302\n",
       " 75228                       4           35     84             20\n",
       " 75229                       3            2     66             51\n",
       " 75230                       0            6    120             47\n",
       " 75231                       0           59     79              0\n",
       " 75232                       0           40     73            207\n",
       " 75233                       0            9     59            102\n",
       " 75234                       0            2     15              1\n",
       " 75235                       9            7    136             14\n",
       " 75236                       1           49    410             89\n",
       " 75237                       1            9    148            117\n",
       " 75238                      12            8     46              0\n",
       " 75240                       0           11     71             12\n",
       " 75241                      86           50    423            997\n",
       " 75243                       3           40    151             43\n",
       " 75244                       0            2      4              7\n",
       " 75246                       2            0    106             16\n",
       " 75247                       0            0     44              0\n",
       " 75248                       0           24    113             72\n",
       " 75249                       0            1     68              6\n",
       " 75251                       0            0      7              0\n",
       " 75252                       0            6     10             14\n",
       " 75253                     123           17    205            477\n",
       " 75254                       0            4     29             16\n",
       " 75270                       0            0      2              0\n",
       " 75287                       0            0      1              0}"
      ]
     },
     "execution_count": 38,
     "metadata": {},
     "output_type": "execute_result"
    }
   ],
   "source": [
    "\n",
    "results[\"How many vacant lots in each zip code are zoned single family residential, commercial and multifamily?\"] = {\n",
    "    'question_number': 9,\n",
    "    'value': zoning_category_counts_zip\n",
    "}\n",
    "\n",
    "results[\"How many vacant lots in each zip code are zoned single family residential, commercial and multifamily?\"]"
   ]
  },
  {
   "cell_type": "code",
   "execution_count": 39,
   "id": "fc1bca64-5ad5-4dbd-b77c-e0b67b19a97c",
   "metadata": {},
   "outputs": [],
   "source": [
    "#10 How many vacant structures are in each zip code?\n",
    "\n",
    "# Groups the zip code and if property is vacant and produces the count \n",
    "vacant_structure_counts_by_zip = structure_df.groupby('Zip Code').size()\n",
    "\n",
    "# Convert index (zip codes) to integers to remove the .0 decimal part\n",
    "vacant_structure_counts_by_zip.index = vacant_structure_counts_by_zip.index.astype(int)"
   ]
  },
  {
   "cell_type": "code",
   "execution_count": 40,
   "id": "e4ed8647-bed0-4add-9275-b11db710d698",
   "metadata": {},
   "outputs": [
    {
     "data": {
      "text/plain": [
       "{'question_number': 10,\n",
       " 'value': Zip Code\n",
       " 75006       1\n",
       " 75042       1\n",
       " 75063       1\n",
       " 75080       1\n",
       " 75081       1\n",
       " 75115       1\n",
       " 75150       1\n",
       " 75201     145\n",
       " 75202      38\n",
       " 75203     399\n",
       " 75204     211\n",
       " 75205      76\n",
       " 75206     260\n",
       " 75207     187\n",
       " 75208     332\n",
       " 75209     317\n",
       " 75210     242\n",
       " 75211     354\n",
       " 75212     686\n",
       " 75214     278\n",
       " 75215     521\n",
       " 75216    1407\n",
       " 75217     541\n",
       " 75218     336\n",
       " 75219     260\n",
       " 75220     341\n",
       " 75223     179\n",
       " 75224     120\n",
       " 75225     152\n",
       " 75226      68\n",
       " 75227     440\n",
       " 75228     685\n",
       " 75229     478\n",
       " 75230     224\n",
       " 75231     135\n",
       " 75232     193\n",
       " 75233      58\n",
       " 75234      19\n",
       " 75235     193\n",
       " 75236      67\n",
       " 75237      50\n",
       " 75238     110\n",
       " 75240     172\n",
       " 75241     537\n",
       " 75243     181\n",
       " 75244      68\n",
       " 75246      33\n",
       " 75247      88\n",
       " 75248     157\n",
       " 75249      56\n",
       " 75251      11\n",
       " 75252       7\n",
       " 75253     186\n",
       " 75254      24\n",
       " 75270       1\n",
       " dtype: int64}"
      ]
     },
     "execution_count": 40,
     "metadata": {},
     "output_type": "execute_result"
    }
   ],
   "source": [
    "\n",
    "results[\"How many vacant structures are in each zip code?\"] = {\n",
    "    'question_number': 10,\n",
    "    'value': vacant_structure_counts_by_zip\n",
    "}\n",
    "\n",
    "results[\"How many vacant structures are in each zip code?\"]"
   ]
  },
  {
   "cell_type": "code",
   "execution_count": 41,
   "id": "564c83a9-61eb-47a2-8d13-0fea38539967",
   "metadata": {},
   "outputs": [],
   "source": [
    "#11 How long have the vacant structures in each zip code been vacant? (see question 8)\n",
    "vacant_zips_structure_count_days = structure_df.groupby('Zip Code')['Vacancy Days'].agg(['min','median', 'mean', 'max'])\n",
    "\n",
    "# Convert index (zip codes) to integers to remove the .0 decimal part\n",
    "vacant_zips_structure_count_days.index = vacant_zips_structure_count_days.index.astype(int)\n",
    "\n",
    "# Rename the columns for clarity\n",
    "vacant_zips_structure_count_days.columns = ['Min Days', 'Median Days', 'Mean Days', 'Max Days']"
   ]
  },
  {
   "cell_type": "code",
   "execution_count": 42,
   "id": "66e226fb-ad62-434d-8e54-84db58f33b15",
   "metadata": {},
   "outputs": [
    {
     "data": {
      "text/plain": [
       "{'question_number': 11,\n",
       " 'value':           Min Days  Median Days   Mean Days  Max Days\n",
       " Zip Code                                             \n",
       " 75006        523.0        523.0  523.000000     523.0\n",
       " 75042         97.0         97.0   97.000000      97.0\n",
       " 75063        523.0        523.0  523.000000     523.0\n",
       " 75080         97.0         97.0   97.000000      97.0\n",
       " 75081        523.0        523.0  523.000000     523.0\n",
       " 75115        335.0        335.0  335.000000     335.0\n",
       " 75150        370.0        370.0  370.000000     370.0\n",
       " 75201         97.0        242.0  310.586207     523.0\n",
       " 75202         97.0        279.5  311.631579     523.0\n",
       " 75203         97.0        523.0  443.909774     523.0\n",
       " 75204         97.0        523.0  435.947867     523.0\n",
       " 75205         97.0        523.0  446.328947     523.0\n",
       " 75206         97.0        523.0  425.138462     523.0\n",
       " 75207         97.0        523.0  424.171123     523.0\n",
       " 75208         97.0        523.0  449.078313     523.0\n",
       " 75209         97.0        523.0  442.413249     523.0\n",
       " 75210         97.0        523.0  473.066116     523.0\n",
       " 75211         97.0        523.0  476.011299     523.0\n",
       " 75212         97.0        523.0  487.061224     523.0\n",
       " 75214         97.0        523.0  403.482014     523.0\n",
       " 75215         97.0        523.0  457.692898     523.0\n",
       " 75216         97.0        523.0  434.726368     523.0\n",
       " 75217         97.0        523.0  472.933457     523.0\n",
       " 75218         97.0        523.0  400.404762     523.0\n",
       " 75219         97.0        523.0  434.638462     523.0\n",
       " 75220         97.0        523.0  419.812317     523.0\n",
       " 75223         97.0        523.0  458.988827     523.0\n",
       " 75224         97.0        523.0  429.475000     523.0\n",
       " 75225         97.0        523.0  396.592105     523.0\n",
       " 75226         97.0        523.0  454.882353     523.0\n",
       " 75227         97.0        523.0  430.472727     523.0\n",
       " 75228         97.0        370.0  344.327007     523.0\n",
       " 75229         97.0        523.0  393.619247     523.0\n",
       " 75230         97.0        523.0  466.419643     523.0\n",
       " 75231         97.0        523.0  386.155556     523.0\n",
       " 75232         97.0        523.0  412.917098     523.0\n",
       " 75233         97.0        523.0  474.137931     523.0\n",
       " 75234         97.0        523.0  409.315789     523.0\n",
       " 75235         97.0        523.0  458.186528     523.0\n",
       " 75236         97.0        523.0  489.731343     523.0\n",
       " 75237         97.0        523.0  361.000000     523.0\n",
       " 75238         97.0        432.0  352.190909     523.0\n",
       " 75240         97.0        523.0  456.988372     523.0\n",
       " 75241         97.0        523.0  466.718808     523.0\n",
       " 75243         97.0        335.0  343.403315     523.0\n",
       " 75244         97.0        523.0  388.867647     523.0\n",
       " 75246         97.0        523.0  348.696970     523.0\n",
       " 75247         97.0        523.0  430.329545     523.0\n",
       " 75248         97.0        335.0  323.229299     523.0\n",
       " 75249         97.0        523.0  500.178571     523.0\n",
       " 75251         97.0        128.0  176.818182     523.0\n",
       " 75252         97.0        523.0  462.142857     523.0\n",
       " 75253         97.0        523.0  502.634409     523.0\n",
       " 75254         97.0        278.0  322.583333     523.0\n",
       " 75270         97.0         97.0   97.000000      97.0}"
      ]
     },
     "execution_count": 42,
     "metadata": {},
     "output_type": "execute_result"
    }
   ],
   "source": [
    "\n",
    "results[\"How long have the vacant structures in each zip code been vacant? (see question 8)\"] = {\n",
    "    'question_number': 11,\n",
    "    'value': vacant_zips_structure_count_days\n",
    "}\n",
    "\n",
    "results[\"How long have the vacant structures in each zip code been vacant? (see question 8)\"]"
   ]
  },
  {
   "cell_type": "code",
   "execution_count": 43,
   "id": "51207db8-c9aa-4ba4-af47-23e4814932a8",
   "metadata": {},
   "outputs": [],
   "source": [
    "#12 How many vacant structures in each zip code are zoned single family residential, commercial and multifamily? (see question 9)\n",
    "\n",
    "zoning_category_counts_structure_zip = structure_df.groupby(['Zip Code', 'Zoning Category 3']).size().unstack(fill_value=0)\n",
    "\n",
    "# Convert index (zip codes) to integers to remove the .0 decimal part\n",
    "zoning_category_counts_structure_zip.index = zoning_category_counts_structure_zip.index.astype(int)"
   ]
  },
  {
   "cell_type": "code",
   "execution_count": 44,
   "id": "ed4a74e1-f150-4b69-90c3-896f7460c829",
   "metadata": {},
   "outputs": [
    {
     "data": {
      "text/plain": [
       "{'question_number': 12,\n",
       " 'value': Zoning Category 3  Commercial  Multifamily  Other  Single Family\n",
       " Zip Code                                                        \n",
       " 75006                       0            0      1              0\n",
       " 75042                       0            0      1              0\n",
       " 75080                       0            0      0              1\n",
       " 75081                       0            0      1              0\n",
       " 75115                       0            0      1              0\n",
       " 75150                       0            0      1              0\n",
       " 75201                       0            0     95              0\n",
       " 75202                       0            0     38              0\n",
       " 75203                       1           28    210            159\n",
       " 75204                       4           97     90              1\n",
       " 75205                       0            1      2              0\n",
       " 75206                       1           92    120             19\n",
       " 75207                       0            0    138              0\n",
       " 75208                       7           11    217             75\n",
       " 75209                       0            6    190            101\n",
       " 75210                       0            4      7             11\n",
       " 75211                       4           20    104            217\n",
       " 75212                       5           45    189            447\n",
       " 75214                       0           35     34             17\n",
       " 75215                       0            0     75              0\n",
       " 75216                      22           45    138           1202\n",
       " 75217                      11           17     79            434\n",
       " 75218                       3           25     64             25\n",
       " 75219                       0            0      9              0\n",
       " 75220                       7            7     47            222\n",
       " 75223                      34           28     72             45\n",
       " 75224                       0            9     28             82\n",
       " 75225                       0           12     44             96\n",
       " 75226                       7            2     57              0\n",
       " 75227                       0           98     64            278\n",
       " 75228                      15           26     94              6\n",
       " 75229                       1            6    102            282\n",
       " 75230                       0           14     34            176\n",
       " 75231                       0           18    102              3\n",
       " 75232                       0            7     15            171\n",
       " 75233                       0            0     10             48\n",
       " 75234                       0            0      5             14\n",
       " 75235                       5           20     54             18\n",
       " 75236                       1           12     33             21\n",
       " 75237                       0            0     33             17\n",
       " 75238                       5            2     35              0\n",
       " 75240                       0            3    149             20\n",
       " 75241                       5            4     90            438\n",
       " 75243                       1           13    104             43\n",
       " 75244                       0            4     12             52\n",
       " 75246                       0            0     30              3\n",
       " 75247                       1            0     20              0\n",
       " 75248                       0           29     49             79\n",
       " 75249                       0            2     34             18\n",
       " 75251                       0            0     11              0\n",
       " 75252                       0            0      6              1\n",
       " 75253                      14            1     43            128\n",
       " 75254                       0           10      7              7\n",
       " 75270                       0            0      1              0}"
      ]
     },
     "execution_count": 44,
     "metadata": {},
     "output_type": "execute_result"
    }
   ],
   "source": [
    "\n",
    "results[\"How many vacant structures in each zip code are zoned single family residential, commercial and multifamily? (see question 9)\"] = {\n",
    "    'question_number': 12,\n",
    "    'value': zoning_category_counts_structure_zip\n",
    "}\n",
    "\n",
    "results[\"How many vacant structures in each zip code are zoned single family residential, commercial and multifamily? (see question 9)\"]\n"
   ]
  },
  {
   "cell_type": "code",
   "execution_count": 45,
   "id": "0185e0b6-1ee0-4075-bfea-f404306edcf2",
   "metadata": {},
   "outputs": [],
   "source": [
    "#13 What is the total amount of back taxes owed on vacant land in each City Council District?\n",
    "\n",
    "# Grouping and calculating the total amount of back taxes owed on vacant land by City Council District\n",
    "#Remove vacant prop yes filter\n",
    "back_taxes_total_by_district = land_df.groupby('Council District')['Delinquent Taxes'].sum()"
   ]
  },
  {
   "cell_type": "code",
   "execution_count": 46,
   "id": "bc8d5eef-6569-4104-b574-721daa8b45f4",
   "metadata": {},
   "outputs": [
    {
     "data": {
      "text/plain": [
       "{'question_number': 13,\n",
       " 'value': Council District\n",
       " District 1      973.77\n",
       " District 10     153.54\n",
       " District 11      36.67\n",
       " District 12      13.76\n",
       " District 13    3350.19\n",
       " District 14    1166.13\n",
       " District 2     2776.56\n",
       " District 3     1155.22\n",
       " District 4     2589.57\n",
       " District 5      757.51\n",
       " District 6     2774.26\n",
       " District 7     2082.89\n",
       " District 8     2404.97\n",
       " District 9      229.15\n",
       " Name: Delinquent Taxes, dtype: float64}"
      ]
     },
     "execution_count": 46,
     "metadata": {},
     "output_type": "execute_result"
    }
   ],
   "source": [
    "\n",
    "results[\"What is the total amount of back taxes owed on vacant land in each City Council District?\"] = {\n",
    "    'question_number': 13,\n",
    "    'value': back_taxes_total_by_district\n",
    "}\n",
    "\n",
    "results[\"What is the total amount of back taxes owed on vacant land in each City Council District?\"] "
   ]
  },
  {
   "cell_type": "code",
   "execution_count": 47,
   "id": "163430d4-f1e9-45b5-9ac0-dcc47eb24ecb",
   "metadata": {},
   "outputs": [],
   "source": [
    "#14 What is the total amount of back taxes owed on vacant land in each zip code?\n",
    "\n",
    "# Grouping and calculating the total amount of back taxes owed on vacant land by Zip Code\n",
    "back_taxes_total_by_zip = land_df.groupby('Zip Code')['Delinquent Taxes'].sum()\n",
    "\n",
    "# Convert index (zip codes) to integers to remove the .0 decimal part\n",
    "back_taxes_total_by_zip.index = back_taxes_total_by_zip.index.astype(int)\n"
   ]
  },
  {
   "cell_type": "code",
   "execution_count": 48,
   "id": "707c12d0-845b-46a3-8520-986517785859",
   "metadata": {},
   "outputs": [
    {
     "data": {
      "text/plain": [
       "{'question_number': 14,\n",
       " 'value': Zip Code\n",
       " 75006       0.00\n",
       " 75019       0.35\n",
       " 75041       0.00\n",
       " 75043       0.00\n",
       " 75050       0.00\n",
       " 75051       3.82\n",
       " 75060       0.00\n",
       " 75062       0.00\n",
       " 75063       0.06\n",
       " 75080       0.01\n",
       " 75081       0.16\n",
       " 75141       0.00\n",
       " 75149       0.00\n",
       " 75150       0.04\n",
       " 75159       0.00\n",
       " 75181       0.36\n",
       " 75182     194.21\n",
       " 75201     670.36\n",
       " 75202      47.63\n",
       " 75203    1077.28\n",
       " 75204     511.85\n",
       " 75205      12.85\n",
       " 75206     114.97\n",
       " 75207      63.07\n",
       " 75208     770.67\n",
       " 75209     102.16\n",
       " 75210     352.35\n",
       " 75211     638.99\n",
       " 75212    1947.52\n",
       " 75214      71.07\n",
       " 75215    1591.48\n",
       " 75216    1572.15\n",
       " 75217    1012.15\n",
       " 75218       0.57\n",
       " 75219     430.37\n",
       " 75220    3042.38\n",
       " 75223     469.60\n",
       " 75224     151.16\n",
       " 75225      66.36\n",
       " 75226    1114.80\n",
       " 75227     354.76\n",
       " 75228      73.90\n",
       " 75229      44.03\n",
       " 75230       1.55\n",
       " 75231     581.54\n",
       " 75232     353.92\n",
       " 75233     115.23\n",
       " 75234       0.00\n",
       " 75235     200.40\n",
       " 75236     162.80\n",
       " 75237     769.31\n",
       " 75238      17.27\n",
       " 75240      30.24\n",
       " 75241    1134.37\n",
       " 75243      88.23\n",
       " 75244       0.00\n",
       " 75246       2.53\n",
       " 75247      22.20\n",
       " 75248       6.56\n",
       " 75249      17.77\n",
       " 75251       0.00\n",
       " 75252      11.71\n",
       " 75253     444.93\n",
       " 75254       0.55\n",
       " 75270       0.00\n",
       " 75287       0.00\n",
       " Name: Delinquent Taxes, dtype: float64}"
      ]
     },
     "execution_count": 48,
     "metadata": {},
     "output_type": "execute_result"
    }
   ],
   "source": [
    "\n",
    "results[\"What is the total amount of back taxes owed on vacant land in each zip code?\"] = {\n",
    "    'question_number': 14,\n",
    "    'value': back_taxes_total_by_zip\n",
    "}\n",
    "\n",
    "results[\"What is the total amount of back taxes owed on vacant land in each zip code?\"] "
   ]
  },
  {
   "cell_type": "code",
   "execution_count": 49,
   "id": "3f8fe436-2a56-4eeb-8707-60d935f51e9d",
   "metadata": {},
   "outputs": [],
   "source": [
    "#15 What is the total amount of back taxes owed on vacant structures in each City Council District?\n",
    "\n",
    "# Grouping and calculating the total amount of back taxes owed on vacant land by City Council District\n",
    "back_taxes_total_by_district_by_structure = structure_df.groupby('Council District')['Delinquent Taxes'].sum()\n"
   ]
  },
  {
   "cell_type": "code",
   "execution_count": 50,
   "id": "6ee349b0-234f-49a6-9894-7bbb31a17c8a",
   "metadata": {},
   "outputs": [
    {
     "data": {
      "text/plain": [
       "{'question_number': 15,\n",
       " 'value': Council District\n",
       " District 1      595.25\n",
       " District 10     257.17\n",
       " District 11     698.71\n",
       " District 12     105.98\n",
       " District 13    3978.19\n",
       " District 14    2212.51\n",
       " District 2     1110.55\n",
       " District 3      447.95\n",
       " District 4     1815.38\n",
       " District 5      693.23\n",
       " District 6     2305.88\n",
       " District 7      877.80\n",
       " District 8      665.22\n",
       " District 9      866.64\n",
       " Name: Delinquent Taxes, dtype: float64}"
      ]
     },
     "execution_count": 50,
     "metadata": {},
     "output_type": "execute_result"
    }
   ],
   "source": [
    "\n",
    "results[\"What is the total amount of back taxes owed on vacant structures in each City Council District?\"] = {\n",
    "    'question_number': 15,\n",
    "    'value': back_taxes_total_by_district_by_structure\n",
    "}\n",
    "\n",
    "results[\"What is the total amount of back taxes owed on vacant structures in each City Council District?\"]"
   ]
  },
  {
   "cell_type": "code",
   "execution_count": 51,
   "id": "e2faa9aa-22ad-4e5c-9dd9-a53b3bacdcfe",
   "metadata": {},
   "outputs": [],
   "source": [
    "#16 What is the total amount of back taxes owed on vacant structures in each zip code?\n",
    "\n",
    "# Grouping and calculating the total amount of back taxes owed on vacant land by Zip Code\n",
    "back_taxes_total_by_zip_by_structure = structure_df.groupby('Zip Code')['Delinquent Taxes'].sum()\n",
    "\n",
    "# Convert index (zip codes) to integers to remove the .0 decimal part\n",
    "back_taxes_total_by_zip_by_structure.index = back_taxes_total_by_zip_by_structure.index.astype(int)\n"
   ]
  },
  {
   "cell_type": "code",
   "execution_count": 52,
   "id": "11d176ff-b992-4559-9184-61226261fa81",
   "metadata": {},
   "outputs": [
    {
     "data": {
      "text/plain": [
       "{'question_number': 16,\n",
       " 'value': Zip Code\n",
       " 75006       0.00\n",
       " 75042       0.00\n",
       " 75063       0.00\n",
       " 75080       0.00\n",
       " 75081       0.00\n",
       " 75115      48.01\n",
       " 75150       0.01\n",
       " 75201    1042.72\n",
       " 75202       0.00\n",
       " 75203     410.59\n",
       " 75204     299.72\n",
       " 75205     179.92\n",
       " 75206     377.25\n",
       " 75207     206.68\n",
       " 75208     719.34\n",
       " 75209     940.60\n",
       " 75210     199.91\n",
       " 75211     256.09\n",
       " 75212     536.81\n",
       " 75214     456.50\n",
       " 75215     293.40\n",
       " 75216    1406.63\n",
       " 75217     569.45\n",
       " 75218     595.17\n",
       " 75219     238.44\n",
       " 75220    1708.26\n",
       " 75223     468.43\n",
       " 75224      60.67\n",
       " 75225     471.83\n",
       " 75226       5.69\n",
       " 75227     542.68\n",
       " 75228     421.59\n",
       " 75229    1404.10\n",
       " 75230     658.43\n",
       " 75231     495.71\n",
       " 75232     166.81\n",
       " 75233      88.56\n",
       " 75234       0.00\n",
       " 75235      71.04\n",
       " 75236      11.48\n",
       " 75237      56.99\n",
       " 75238     136.23\n",
       " 75240      27.56\n",
       " 75241     421.36\n",
       " 75243     150.21\n",
       " 75244      71.40\n",
       " 75246      81.20\n",
       " 75247       6.56\n",
       " 75248     139.60\n",
       " 75249      15.40\n",
       " 75251       0.00\n",
       " 75252       0.00\n",
       " 75253     116.88\n",
       " 75254      54.55\n",
       " 75270       0.00\n",
       " Name: Delinquent Taxes, dtype: float64}"
      ]
     },
     "execution_count": 52,
     "metadata": {},
     "output_type": "execute_result"
    }
   ],
   "source": [
    "\n",
    "results[\"What is the total amount of back taxes owed on vacant structures in each zip code?\"] = {\n",
    "    'question_number': 16,\n",
    "    'value': back_taxes_total_by_zip_by_structure\n",
    "}\n",
    "\n",
    "results[\"What is the total amount of back taxes owed on vacant structures in each zip code?\"] "
   ]
  },
  {
   "cell_type": "code",
   "execution_count": 53,
   "id": "3442b4b1-f574-4f54-9dcb-95c7e898f694",
   "metadata": {},
   "outputs": [],
   "source": [
    "#17 What is the average age of residential properties in each council district?\n",
    "\n",
    "#avg_age__prop_District=vacant_lots_df.groupby('Council District')['Property Age Years'].mean()\n",
    "# Calculate the average age of residential properties\n",
    "\n",
    "residential_avg_age_prop_District = residential_properties.groupby('Council District')['Property Age Years'].mean()"
   ]
  },
  {
   "cell_type": "code",
   "execution_count": 54,
   "id": "cc42acb2-2ac1-4f36-b854-cd6a63906872",
   "metadata": {},
   "outputs": [
    {
     "data": {
      "text/plain": [
       "{'question_number': 17,\n",
       " 'value': Council District\n",
       " District 1     65.606635\n",
       " District 10    49.925926\n",
       " District 11    37.690323\n",
       " District 12    41.790323\n",
       " District 13    27.689189\n",
       " District 14    21.179487\n",
       " District 2     27.270588\n",
       " District 3     40.400000\n",
       " District 4     54.262584\n",
       " District 5     53.677665\n",
       " District 6     23.369261\n",
       " District 7     38.503268\n",
       " District 8     30.088889\n",
       " District 9     54.450000\n",
       " Name: Property Age Years, dtype: float64}"
      ]
     },
     "execution_count": 54,
     "metadata": {},
     "output_type": "execute_result"
    }
   ],
   "source": [
    "\n",
    "results[\"What is the average age of residential properties in each council district?\"] = {\n",
    "    'question_number': 17,\n",
    "    'value': residential_avg_age_prop_District\n",
    "}\n",
    "\n",
    "results[\"What is the average age of residential properties in each council district?\"]"
   ]
  },
  {
   "cell_type": "code",
   "execution_count": 55,
   "id": "44a50ff7-175a-473b-b614-3c290d04f6fd",
   "metadata": {},
   "outputs": [],
   "source": [
    "#18 What is the average age of residential properties in each zip code?\n",
    "avg_age__prop_zip = residential_properties.groupby('Zip Code')['Property Age Years'].mean()\n",
    "#Fills na values with 0\n",
    "avg_age__prop_zip=avg_age__prop_zip.fillna(0)\n",
    "\n",
    "#converts avg age to int data type to remve decimals\n",
    "avg_age__prop_zip.index=avg_age__prop_zip.index.astype(int)\n"
   ]
  },
  {
   "cell_type": "code",
   "execution_count": 56,
   "id": "2de7746b-87be-4903-8a1a-9859b5c526a0",
   "metadata": {},
   "outputs": [
    {
     "data": {
      "text/plain": [
       "{'question_number': 18,\n",
       " 'value': Zip Code\n",
       " 75051     0.000000\n",
       " 75080     0.000000\n",
       " 75081     0.000000\n",
       " 75159     0.000000\n",
       " 75203    51.602649\n",
       " 75204    13.553846\n",
       " 75205     0.000000\n",
       " 75206    16.200000\n",
       " 75208    60.619048\n",
       " 75209    25.297619\n",
       " 75210    52.181818\n",
       " 75211    58.349206\n",
       " 75212    18.529577\n",
       " 75214    40.348837\n",
       " 75215     0.000000\n",
       " 75216    51.103213\n",
       " 75217    37.615764\n",
       " 75218    64.270270\n",
       " 75220    24.309783\n",
       " 75223    53.152542\n",
       " 75224    66.818182\n",
       " 75225    24.379310\n",
       " 75226     1.285714\n",
       " 75227    50.291908\n",
       " 75228    57.259259\n",
       " 75229    36.127753\n",
       " 75230    19.078014\n",
       " 75231    36.882353\n",
       " 75232    43.809211\n",
       " 75233    25.346667\n",
       " 75234    61.250000\n",
       " 75235    21.952381\n",
       " 75236    22.952381\n",
       " 75237     8.555556\n",
       " 75238    38.500000\n",
       " 75240    51.777778\n",
       " 75241    42.122283\n",
       " 75243    50.595745\n",
       " 75244    37.037037\n",
       " 75246     1.666667\n",
       " 75248    44.362745\n",
       " 75249    42.411765\n",
       " 75252     0.000000\n",
       " 75253    13.785714\n",
       " 75254    49.153846\n",
       " Name: Property Age Years, dtype: float64}"
      ]
     },
     "execution_count": 56,
     "metadata": {},
     "output_type": "execute_result"
    }
   ],
   "source": [
    "\n",
    "results[\"What is the average age of residential properties in each zip code?\"] = {\n",
    "    'question_number': 18,\n",
    "    'value': avg_age__prop_zip\n",
    "}\n",
    "\n",
    "results[\"What is the average age of residential properties in each zip code?\"]"
   ]
  },
  {
   "cell_type": "code",
   "execution_count": 57,
   "id": "28d82526-ac9f-4d66-9d83-0900541c84c9",
   "metadata": {},
   "outputs": [],
   "source": [
    "#19 What is the average size of residential properties in each council district?\n",
    "\n",
    "\n",
    "# Group by council district and calculate the average property size\n",
    "average_size_by_district = residential_properties.groupby('Council District')['Land Size'].mean()"
   ]
  },
  {
   "cell_type": "code",
   "execution_count": 58,
   "id": "5029a779-7fef-4b1f-a48c-d5d9488a2ba8",
   "metadata": {
    "scrolled": true
   },
   "outputs": [
    {
     "data": {
      "text/plain": [
       "{'question_number': 19,\n",
       " 'value': Council District\n",
       " District 1     0.484867\n",
       " District 10    1.719645\n",
       " District 11    1.575737\n",
       " District 12    1.243921\n",
       " District 13    1.059755\n",
       " District 14    0.290075\n",
       " District 2     0.276805\n",
       " District 3     1.474771\n",
       " District 4     0.326351\n",
       " District 5     0.746599\n",
       " District 6     0.221535\n",
       " District 7     1.177131\n",
       " District 8     1.722044\n",
       " District 9     0.546445\n",
       " Name: Land Size, dtype: float64}"
      ]
     },
     "execution_count": 58,
     "metadata": {},
     "output_type": "execute_result"
    }
   ],
   "source": [
    "\n",
    "results[\"What is the average size of residential properties in each council district?\"] = {\n",
    "    'question_number': 19,\n",
    "    'value': average_size_by_district\n",
    "}\n",
    "\n",
    "results[\"What is the average size of residential properties in each council district?\"]"
   ]
  },
  {
   "cell_type": "code",
   "execution_count": 59,
   "id": "c7e9bdbe",
   "metadata": {},
   "outputs": [],
   "source": [
    "#20 What is the average size of residential properties in each zip code?\n",
    "\n",
    "# Group by council district and calculate the average property size\n",
    "average_size_by_zip = residential_properties.groupby('Zip Code')['Land Size'].mean()\n",
    "\n",
    "# Convert index (zip codes) to integers to remove the .0 decimal part\n",
    "average_size_by_zip.index = average_size_by_zip.index.astype(int)\n"
   ]
  },
  {
   "cell_type": "code",
   "execution_count": 60,
   "id": "56492244",
   "metadata": {},
   "outputs": [
    {
     "data": {
      "text/plain": [
       "{'question_number': 20,\n",
       " 'value': Zip Code\n",
       " 75051    10.151089\n",
       " 75080    21.995701\n",
       " 75081     0.107777\n",
       " 75159     0.230563\n",
       " 75203     0.229143\n",
       " 75204     0.181873\n",
       " 75205     0.155813\n",
       " 75206     0.310266\n",
       " 75208     0.276088\n",
       " 75209     0.772134\n",
       " 75210     1.258265\n",
       " 75211     1.065608\n",
       " 75212     0.196358\n",
       " 75214     0.363584\n",
       " 75215    41.979794\n",
       " 75216     0.372572\n",
       " 75217     1.220618\n",
       " 75218     0.474402\n",
       " 75220     0.496342\n",
       " 75223     0.241798\n",
       " 75224     0.628400\n",
       " 75225     0.678888\n",
       " 75226     0.204134\n",
       " 75227     0.892788\n",
       " 75228     1.484102\n",
       " 75229     0.712420\n",
       " 75230     0.587706\n",
       " 75231     5.348340\n",
       " 75232     0.911567\n",
       " 75233     0.798006\n",
       " 75234     0.202157\n",
       " 75235     0.194761\n",
       " 75236     2.962961\n",
       " 75237     1.920668\n",
       " 75238     0.413107\n",
       " 75240     1.280653\n",
       " 75241     1.382709\n",
       " 75243     1.917442\n",
       " 75244     0.452960\n",
       " 75246     0.260339\n",
       " 75248     1.150895\n",
       " 75249     3.911127\n",
       " 75252     0.716077\n",
       " 75253     1.827022\n",
       " 75254     6.402249\n",
       " Name: Land Size, dtype: float64}"
      ]
     },
     "execution_count": 60,
     "metadata": {},
     "output_type": "execute_result"
    }
   ],
   "source": [
    "\n",
    "results[\"What is the average size of residential properties in each zip code?\"] = {\n",
    "    'question_number': 20,\n",
    "    'value': average_size_by_zip\n",
    "}\n",
    "\n",
    "results[\"What is the average size of residential properties in each zip code?\"]"
   ]
  },
  {
   "cell_type": "code",
   "execution_count": 61,
   "id": "8e3b51d6",
   "metadata": {},
   "outputs": [],
   "source": [
    "#21 What is the average age of commercial properties in each council district?\n",
    "\n",
    "# Group by council district and calculate the average property size by commercial prop\n",
    "average_age_by_district_commercial = commercial_properties.groupby('Council District')['Property Age Years'].mean()\n"
   ]
  },
  {
   "cell_type": "code",
   "execution_count": 62,
   "id": "0a7c5b2e",
   "metadata": {},
   "outputs": [
    {
     "data": {
      "text/plain": [
       "{'question_number': 21,\n",
       " 'value': Council District\n",
       " District 1     56.500000\n",
       " District 10    39.800000\n",
       " District 13          NaN\n",
       " District 14    97.000000\n",
       " District 2     59.344828\n",
       " District 3      9.000000\n",
       " District 4     71.375000\n",
       " District 5     37.333333\n",
       " District 6     55.400000\n",
       " District 7     67.450000\n",
       " District 8     43.000000\n",
       " District 9     46.000000\n",
       " Name: Property Age Years, dtype: float64}"
      ]
     },
     "execution_count": 62,
     "metadata": {},
     "output_type": "execute_result"
    }
   ],
   "source": [
    "\n",
    "results[\"What is the average age of commercial properties in each council district?\"] = {\n",
    "    'question_number': 21,\n",
    "    'value': average_age_by_district_commercial\n",
    "}\n",
    "\n",
    "results[\"What is the average age of commercial properties in each council district?\"]"
   ]
  },
  {
   "cell_type": "code",
   "execution_count": 63,
   "id": "50304653-765a-480d-bae0-3f48ef290165",
   "metadata": {},
   "outputs": [],
   "source": [
    "#22 What is the average age of commercial properties in each zip code?\n",
    "\n",
    "average_age_by_zip_commercial = commercial_properties.groupby('Zip Code')['Property Age Years'].mean()\n",
    "\n",
    "# Convert index (zip codes) to integers to remove the .0 decimal part\n",
    "average_age_by_zip_commercial.index = average_age_by_zip_commercial.index.astype(int)"
   ]
  },
  {
   "cell_type": "code",
   "execution_count": 64,
   "id": "163dd26e-9f1a-4a4e-b24e-286665e445e5",
   "metadata": {},
   "outputs": [
    {
     "data": {
      "text/plain": [
       "{'question_number': 22,\n",
       " 'value': Zip Code\n",
       " 75203    88.000000\n",
       " 75204    75.750000\n",
       " 75206    97.000000\n",
       " 75207          NaN\n",
       " 75208    56.000000\n",
       " 75209          NaN\n",
       " 75210          NaN\n",
       " 75211    13.500000\n",
       " 75212    75.000000\n",
       " 75215          NaN\n",
       " 75216    63.470588\n",
       " 75217    38.750000\n",
       " 75218    46.000000\n",
       " 75220    28.000000\n",
       " 75223    60.611111\n",
       " 75224          NaN\n",
       " 75226    74.000000\n",
       " 75227          NaN\n",
       " 75228    61.000000\n",
       " 75229          NaN\n",
       " 75235    68.500000\n",
       " 75236     0.000000\n",
       " 75237          NaN\n",
       " 75238    40.000000\n",
       " 75241          NaN\n",
       " 75243    39.000000\n",
       " 75246          NaN\n",
       " 75247    63.000000\n",
       " 75253          NaN\n",
       " Name: Property Age Years, dtype: float64}"
      ]
     },
     "execution_count": 64,
     "metadata": {},
     "output_type": "execute_result"
    }
   ],
   "source": [
    "results[\"What is the average age of commercial properties in each zip code?\"] = {\n",
    "    'question_number': 22,\n",
    "    'value': average_age_by_zip_commercial\n",
    "}\n",
    "\n",
    "results[\"What is the average age of commercial properties in each zip code?\"]"
   ]
  },
  {
   "cell_type": "code",
   "execution_count": 28,
   "id": "b0812922-b178-48c9-82a2-a6f6ca6cf7bd",
   "metadata": {},
   "outputs": [],
   "source": [
    "#23 What is the total amount of city liens owed on vacant land in each City Council District?\n",
    "\n",
    "# Grouping and calculating the total amount of city liens owed on vacant land by City Council District\n",
    "city_liens_total_by_district = land_df.groupby('Council District')['Code Liens - Amount'].sum()\n"
   ]
  },
  {
   "cell_type": "markdown",
   "id": "1e95b6d2",
   "metadata": {},
   "source": []
  },
  {
   "cell_type": "code",
   "execution_count": 29,
   "id": "539f7b2f",
   "metadata": {},
   "outputs": [
    {
     "data": {
      "text/plain": [
       "Council District\n",
       "District 1      106524.86\n",
       "District 10       6386.99\n",
       "District 11       9983.31\n",
       "District 12          0.00\n",
       "District 13       3929.52\n",
       "District 14      26594.54\n",
       "District 2      276429.35\n",
       "District 3      197133.66\n",
       "District 4     2406152.93\n",
       "District 5      556304.97\n",
       "District 6      525634.76\n",
       "District 7     5437704.88\n",
       "District 8      844284.21\n",
       "District 9       10875.65\n",
       "Name: Code Liens - Amount, dtype: float64"
      ]
     },
     "execution_count": 29,
     "metadata": {},
     "output_type": "execute_result"
    }
   ],
   "source": [
    "city_liens_total_by_district"
   ]
  },
  {
   "cell_type": "code",
   "execution_count": 66,
   "id": "28aec28c-0225-4b2a-b454-f959c73aa223",
   "metadata": {},
   "outputs": [
    {
     "data": {
      "text/plain": [
       "{'question_number': 23,\n",
       " 'value': Council District\n",
       " District 1      106524.86\n",
       " District 10       6386.99\n",
       " District 11       9983.31\n",
       " District 12          0.00\n",
       " District 13       3929.52\n",
       " District 14      26594.54\n",
       " District 2      276429.35\n",
       " District 3      197133.66\n",
       " District 4     2406152.93\n",
       " District 5      556304.97\n",
       " District 6      525634.76\n",
       " District 7     5437704.88\n",
       " District 8      844284.21\n",
       " District 9       10875.65\n",
       " Name: Code Liens - Amount, dtype: float64}"
      ]
     },
     "execution_count": 66,
     "metadata": {},
     "output_type": "execute_result"
    }
   ],
   "source": [
    "\n",
    "results[\"What is the total amount of city liens owed on vacant land in each City Council District?\"] = {\n",
    "    'question_number': 23,\n",
    "    'value': city_liens_total_by_district\n",
    "}\n",
    "\n",
    "results[\"What is the total amount of city liens owed on vacant land in each City Council District?\"]"
   ]
  },
  {
   "cell_type": "code",
   "execution_count": 67,
   "id": "23780cc5-04ff-467b-bcee-3938ce70e530",
   "metadata": {},
   "outputs": [],
   "source": [
    "#24 What is the total amount of city liens owed on vacant land in each zip code?\n",
    "\n",
    "# Grouping and calculating the total amount of city liens owed on vacant land by City Council District\n",
    "city_liens_total_by_zip = land_df.groupby('Zip Code')['Code Liens - Amount'].sum()\n",
    "\n",
    "# Convert index (zip codes) to integers to remove the .0 decimal part\n",
    "city_liens_total_by_zip.index = city_liens_total_by_zip.index.astype(int)\n"
   ]
  },
  {
   "cell_type": "code",
   "execution_count": 68,
   "id": "31e75faf-f555-4d43-a429-25e09bf73438",
   "metadata": {},
   "outputs": [
    {
     "data": {
      "text/plain": [
       "{'question_number': 24,\n",
       " 'value': Zip Code\n",
       " 75006          0.00\n",
       " 75019          0.00\n",
       " 75041          0.00\n",
       " 75043          0.00\n",
       " 75050          0.00\n",
       " 75051       3122.46\n",
       " 75060          0.00\n",
       " 75062          0.00\n",
       " 75063          0.00\n",
       " 75080          0.00\n",
       " 75081          0.00\n",
       " 75141          0.00\n",
       " 75149        171.41\n",
       " 75150          0.00\n",
       " 75159          0.00\n",
       " 75181          0.00\n",
       " 75182          0.00\n",
       " 75201          0.00\n",
       " 75202          0.00\n",
       " 75203     899125.30\n",
       " 75204      65197.82\n",
       " 75205          0.00\n",
       " 75206       6015.15\n",
       " 75207       4283.29\n",
       " 75208      43062.93\n",
       " 75209       6726.82\n",
       " 75210    1443712.44\n",
       " 75211      85952.16\n",
       " 75212     450094.10\n",
       " 75214       7111.97\n",
       " 75215    3459102.96\n",
       " 75216    1671369.41\n",
       " 75217     593955.57\n",
       " 75218       4457.29\n",
       " 75219      11869.36\n",
       " 75220      36165.00\n",
       " 75223     383381.83\n",
       " 75224      74789.23\n",
       " 75225        239.61\n",
       " 75226      70617.00\n",
       " 75227      91518.43\n",
       " 75228      13774.09\n",
       " 75229       3692.99\n",
       " 75230       2692.20\n",
       " 75231          0.00\n",
       " 75232     125247.96\n",
       " 75233      23613.49\n",
       " 75234       4468.10\n",
       " 75235       2825.58\n",
       " 75236      64507.25\n",
       " 75237      25439.44\n",
       " 75238       1086.43\n",
       " 75240       6010.07\n",
       " 75241     628038.89\n",
       " 75243       5300.56\n",
       " 75244          0.00\n",
       " 75246      10864.55\n",
       " 75247       8514.74\n",
       " 75248          0.00\n",
       " 75249       4331.89\n",
       " 75251       1419.52\n",
       " 75252          0.00\n",
       " 75253      64241.75\n",
       " 75254          0.00\n",
       " 75270          0.00\n",
       " 75287          0.00\n",
       " Name: Code Liens - Amount, dtype: float64}"
      ]
     },
     "execution_count": 68,
     "metadata": {},
     "output_type": "execute_result"
    }
   ],
   "source": [
    "\n",
    "results[\"What is the total amount of city liens owed on vacant land in each zip code?\"] = {\n",
    "    'question_number': 24,\n",
    "    'value': city_liens_total_by_zip\n",
    "}\n",
    "\n",
    "results[\"What is the total amount of city liens owed on vacant land in each zip code?\"]"
   ]
  },
  {
   "cell_type": "code",
   "execution_count": 69,
   "id": "bc0ae79b-f28a-4312-852d-6cad0f3455f1",
   "metadata": {},
   "outputs": [],
   "source": [
    "#25 What is the total amount of city liens owed on vacant structures in each City Council District?\n",
    "\n",
    "# Grouping and calculating the total amount of city liens owed on vacant structures by City Council District\n",
    "city_liens_total_by_district_by_structure = structure_df.groupby('Council District')['Code Liens - Amount'].sum()\n"
   ]
  },
  {
   "cell_type": "code",
   "execution_count": 70,
   "id": "29fb7953-a1fe-4237-87d5-2ac203783222",
   "metadata": {},
   "outputs": [
    {
     "data": {
      "text/plain": [
       "{'question_number': 25,\n",
       " 'value': Council District\n",
       " District 1      50196.85\n",
       " District 10      3033.85\n",
       " District 11     32389.45\n",
       " District 12     49869.82\n",
       " District 13      9896.19\n",
       " District 14     15862.81\n",
       " District 2      67722.15\n",
       " District 3      84934.17\n",
       " District 4     826138.18\n",
       " District 5     117714.75\n",
       " District 6     145315.51\n",
       " District 7     487400.39\n",
       " District 8     213703.99\n",
       " District 9      38464.13\n",
       " Name: Code Liens - Amount, dtype: float64}"
      ]
     },
     "execution_count": 70,
     "metadata": {},
     "output_type": "execute_result"
    }
   ],
   "source": [
    "\n",
    "results[\"What is the total amount of city liens owed on vacant structures in each City Council District?\"] = {\n",
    "    'question_number': 25,\n",
    "    'value': city_liens_total_by_district_by_structure\n",
    "}\n",
    "\n",
    "results[\"What is the total amount of city liens owed on vacant structures in each City Council District?\"]"
   ]
  },
  {
   "cell_type": "code",
   "execution_count": 71,
   "id": "bfe20bd2-a3ca-483e-9ad5-f374ca48e160",
   "metadata": {},
   "outputs": [],
   "source": [
    "#26 How many properties are in the name of heirship in the City of Dallas?\n",
    "\n",
    "#Use suspected heir prop col and combine with public owner filter\n",
    "# Filter the DataFrame for properties in the City of Dallas with 'Suspected Heir Property' == 'Yes'\n",
    "#Would get zero combined with City of Dallas filter\n",
    "dallas_heirship_properties = (vacant_lots_df['Suspected Heir Property'] == 'Yes').sum()\n",
    "\n"
   ]
  },
  {
   "cell_type": "code",
   "execution_count": 72,
   "id": "f5b329bc-644c-4b8f-b749-2a91c9a13937",
   "metadata": {},
   "outputs": [
    {
     "data": {
      "text/plain": [
       "{'question_number': 26, 'value': 260}"
      ]
     },
     "execution_count": 72,
     "metadata": {},
     "output_type": "execute_result"
    }
   ],
   "source": [
    "\n",
    "results[\"How many properties are in the name of heirship in the City of Dallas?\"] = {\n",
    "    'question_number': 26,\n",
    "    'value': dallas_heirship_properties\n",
    "}\n",
    "\n",
    "results[\"How many properties are in the name of heirship in the City of Dallas?\"] "
   ]
  },
  {
   "cell_type": "code",
   "execution_count": 73,
   "id": "072041b4-338c-46f4-95ee-813f1f998144",
   "metadata": {},
   "outputs": [],
   "source": [
    "#27 How many properties in the name of heirship in the City of Dallas are vacant in each zip code?\n",
    "\n",
    "#apply Suspected heir to Yes and group by zip code\n",
    "dallas_heirship_zip = vacant_lots_df[vacant_lots_df['Suspected Heir Property'] == 'Yes'].groupby('Zip Code').size()\n",
    "\n",
    "# Convert index (zip codes) to integers to remove the .0 decimal part\n",
    "dallas_heirship_zip.index = dallas_heirship_zip.index.astype(int)\n"
   ]
  },
  {
   "cell_type": "code",
   "execution_count": 74,
   "id": "017b49e5-3104-4044-9365-f1fb7573c051",
   "metadata": {},
   "outputs": [
    {
     "data": {
      "text/plain": [
       "{'question_number': 27,\n",
       " 'value': Zip Code\n",
       " 75201     4\n",
       " 75203    21\n",
       " 75206     3\n",
       " 75207     1\n",
       " 75208     3\n",
       " 75209     1\n",
       " 75210    13\n",
       " 75211     5\n",
       " 75212    21\n",
       " 75214     4\n",
       " 75215    35\n",
       " 75216    49\n",
       " 75217    11\n",
       " 75218     3\n",
       " 75220     2\n",
       " 75223     6\n",
       " 75224     1\n",
       " 75225     3\n",
       " 75226     4\n",
       " 75227     9\n",
       " 75228     9\n",
       " 75230     1\n",
       " 75231     2\n",
       " 75232     4\n",
       " 75233     1\n",
       " 75235     1\n",
       " 75237     4\n",
       " 75238     1\n",
       " 75241    24\n",
       " 75243     1\n",
       " 75246     1\n",
       " 75248     2\n",
       " 75249     2\n",
       " 75253     8\n",
       " dtype: int64}"
      ]
     },
     "execution_count": 74,
     "metadata": {},
     "output_type": "execute_result"
    }
   ],
   "source": [
    "\n",
    "results[\"How many properties in the name of heirship in the City of Dallas are vacant in each zip code?\"] = {\n",
    "    'question_number': 27,\n",
    "    'value': dallas_heirship_zip\n",
    "}\n",
    "\n",
    "results[\"How many properties in the name of heirship in the City of Dallas are vacant in each zip code?\"] "
   ]
  },
  {
   "cell_type": "code",
   "execution_count": 75,
   "id": "e3e4bd84-ec6d-4d8e-89bf-56992451fce6",
   "metadata": {},
   "outputs": [],
   "source": [
    "#28 How many properties in the name of heirship in the City of Dallas are vacant in each council district?\n",
    "\n",
    "#apply Suspected heir to Yes and group by council distrcit\n",
    "dallas_heirship_District = vacant_lots_df[vacant_lots_df['Suspected Heir Property'] == 'Yes'].groupby('Council District').size()\n"
   ]
  },
  {
   "cell_type": "code",
   "execution_count": 76,
   "id": "fe279792-0528-4286-b475-9756b584afe3",
   "metadata": {},
   "outputs": [
    {
     "data": {
      "text/plain": [
       "{'question_number': 28,\n",
       " 'value': Council District\n",
       " District 1      4\n",
       " District 10     4\n",
       " District 11     2\n",
       " District 12     1\n",
       " District 13     4\n",
       " District 14     8\n",
       " District 2     13\n",
       " District 3     12\n",
       " District 4     59\n",
       " District 5     16\n",
       " District 6     26\n",
       " District 7     69\n",
       " District 8     34\n",
       " District 9      8\n",
       " dtype: int64}"
      ]
     },
     "execution_count": 76,
     "metadata": {},
     "output_type": "execute_result"
    }
   ],
   "source": [
    "\n",
    "results[\"How many properties in the name of heirship in the City of Dallas are vacant in each council district?\"] = {\n",
    "    'question_number': 28,\n",
    "    'value': dallas_heirship_District\n",
    "}\n",
    "\n",
    "results[\"How many properties in the name of heirship in the City of Dallas are vacant in each council district?\"] "
   ]
  },
  {
   "cell_type": "code",
   "execution_count": 77,
   "id": "1cb1fffe-1c92-43b0-b81d-9bcb5e41887b",
   "metadata": {},
   "outputs": [],
   "source": [
    "#29 How many private owners have five or more vacant properties in the City of Dallas?\n",
    "owner_vacant_property_counts = vacant_lots_df[\n",
    "    (vacant_lots_df['Owner'] == 'Private Owner') &\n",
    "    (vacant_lots_df['Owner Property Count'] >= 5)\n",
    "]\n",
    "\n",
    "owner_vacant_property_counts_view = owner_vacant_property_counts.shape[0]\n"
   ]
  },
  {
   "cell_type": "code",
   "execution_count": 78,
   "id": "6f5acee6-9f72-4c3b-a1d9-509245508d35",
   "metadata": {},
   "outputs": [
    {
     "data": {
      "text/plain": [
       "{'question_number': 29, 'value': 7348}"
      ]
     },
     "execution_count": 78,
     "metadata": {},
     "output_type": "execute_result"
    }
   ],
   "source": [
    "\n",
    "results[\"How many private owners have five or more vacant properties in the City of Dallas?\"] = {\n",
    "    'question_number': 29,\n",
    "    'value': owner_vacant_property_counts_view\n",
    "}\n",
    "\n",
    "results[\"How many private owners have five or more vacant properties in the City of Dallas?\"] "
   ]
  },
  {
   "cell_type": "code",
   "execution_count": 79,
   "id": "b15eb07f-ceaa-4c9c-ab0e-cdc6ddc95a5b",
   "metadata": {},
   "outputs": [],
   "source": [
    "#30 How many private owners with five or more vacant properties in the City of Dallas are in each zip code?\n",
    "\n",
    "private_5_zip = owner_vacant_property_counts.groupby('Zip Code').size()\n",
    "\n",
    "# Convert index (zip codes) to integers to remove the .0 decimal part\n",
    "private_5_zip.index = private_5_zip.index.astype(int)\n"
   ]
  },
  {
   "cell_type": "code",
   "execution_count": 80,
   "id": "1836dca4-e2af-4bbd-8050-a08467860916",
   "metadata": {},
   "outputs": [
    {
     "data": {
      "text/plain": [
       "{'question_number': 30,\n",
       " 'value': Zip Code\n",
       " 75006      1\n",
       " 75019     26\n",
       " 75043      1\n",
       " 75050      1\n",
       " 75051      1\n",
       " 75063      6\n",
       " 75080      1\n",
       " 75081      1\n",
       " 75149      1\n",
       " 75181      2\n",
       " 75182      1\n",
       " 75201     55\n",
       " 75202     23\n",
       " 75203    570\n",
       " 75204     86\n",
       " 75205     12\n",
       " 75206     73\n",
       " 75207     91\n",
       " 75208    219\n",
       " 75209     65\n",
       " 75210    237\n",
       " 75211    312\n",
       " 75212    910\n",
       " 75214     33\n",
       " 75215    657\n",
       " 75216    672\n",
       " 75217    445\n",
       " 75218     60\n",
       " 75219     64\n",
       " 75220    126\n",
       " 75223    218\n",
       " 75224     64\n",
       " 75225     74\n",
       " 75226    166\n",
       " 75227    193\n",
       " 75228    102\n",
       " 75229    118\n",
       " 75230    112\n",
       " 75231     45\n",
       " 75232    109\n",
       " 75233     55\n",
       " 75234      4\n",
       " 75235    163\n",
       " 75236    193\n",
       " 75237    100\n",
       " 75238     17\n",
       " 75240     16\n",
       " 75241    338\n",
       " 75243    100\n",
       " 75244      9\n",
       " 75246     57\n",
       " 75247     68\n",
       " 75248     39\n",
       " 75249     22\n",
       " 75251      3\n",
       " 75252      9\n",
       " 75253    198\n",
       " 75254      4\n",
       " dtype: int64}"
      ]
     },
     "execution_count": 80,
     "metadata": {},
     "output_type": "execute_result"
    }
   ],
   "source": [
    "\n",
    "results[\"How many private owners with five or more vacant properties in the City of Dallas are in each zip code?\"] = {\n",
    "    'question_number': 30,\n",
    "    'value': private_5_zip\n",
    "}\n",
    "\n",
    "results[\"How many private owners with five or more vacant properties in the City of Dallas are in each zip code?\"]"
   ]
  },
  {
   "cell_type": "code",
   "execution_count": 81,
   "id": "17947467-e49a-4782-9f56-9aa09c6b5f9b",
   "metadata": {},
   "outputs": [],
   "source": [
    "#31 How many private owners with five or more vacant properties in the City of Dallas are in each council district?\n",
    "\n",
    "private_5_district=owner_vacant_property_counts.groupby('Council District').size()"
   ]
  },
  {
   "cell_type": "code",
   "execution_count": 82,
   "id": "feec09fe-7e1e-4f44-9921-4f4f59af3fa4",
   "metadata": {},
   "outputs": [
    {
     "data": {
      "text/plain": [
       "{'question_number': 31,\n",
       " 'value': Council District\n",
       " District 1      421\n",
       " District 10     131\n",
       " District 11     139\n",
       " District 12      39\n",
       " District 13     194\n",
       " District 14     254\n",
       " District 2      635\n",
       " District 3      589\n",
       " District 4     1046\n",
       " District 5      426\n",
       " District 6     1463\n",
       " District 7     1207\n",
       " District 8      695\n",
       " District 9      105\n",
       " dtype: int64}"
      ]
     },
     "execution_count": 82,
     "metadata": {},
     "output_type": "execute_result"
    }
   ],
   "source": [
    "\n",
    "results[\"How many private owners with five or more vacant properties in the City of Dallas are in each council district?\"] = {\n",
    "    'question_number': 31,\n",
    "    'value': private_5_district\n",
    "}\n",
    "\n",
    "results[\"How many private owners with five or more vacant properties in the City of Dallas are in each council district?\"]"
   ]
  },
  {
   "cell_type": "code",
   "execution_count": 83,
   "id": "f12169b9-a02d-4b97-887b-0b732e75d7b7",
   "metadata": {},
   "outputs": [],
   "source": [
    "#32 How many churches own vacant properties in the City of Dallas?\n",
    "\n",
    "church_owners = vacant_lots_df[vacant_lots_df['Owner is Church'] == 'Yes']\n",
    "\n",
    "num_church_properties = church_owners.shape[0]\n",
    "\n"
   ]
  },
  {
   "cell_type": "code",
   "execution_count": 94,
   "id": "d00cab2b",
   "metadata": {},
   "outputs": [
    {
     "data": {
      "text/html": [
       "<div>\n",
       "<style scoped>\n",
       "    .dataframe tbody tr th:only-of-type {\n",
       "        vertical-align: middle;\n",
       "    }\n",
       "\n",
       "    .dataframe tbody tr th {\n",
       "        vertical-align: top;\n",
       "    }\n",
       "\n",
       "    .dataframe thead th {\n",
       "        text-align: right;\n",
       "    }\n",
       "</style>\n",
       "<table border=\"1\" class=\"dataframe\">\n",
       "  <thead>\n",
       "    <tr style=\"text-align: right;\">\n",
       "      <th></th>\n",
       "      <th>Land</th>\n",
       "      <th>Structure</th>\n",
       "      <th>Total</th>\n",
       "    </tr>\n",
       "  </thead>\n",
       "  <tbody>\n",
       "    <tr>\n",
       "      <th>0</th>\n",
       "      <td>1</td>\n",
       "      <td>34</td>\n",
       "      <td>35</td>\n",
       "    </tr>\n",
       "  </tbody>\n",
       "</table>\n",
       "</div>"
      ],
      "text/plain": [
       "   Land  Structure  Total\n",
       "0     1         34     35"
      ]
     },
     "execution_count": 94,
     "metadata": {},
     "output_type": "execute_result"
    }
   ],
   "source": [
    "# Using church_owners, count number of properties grouped by property type\n",
    "church_property_types = church_owners.groupby('Property Type').size()\n",
    "\n",
    "# Convert to dict\n",
    "church_property_types = church_property_types.to_dict()\n",
    "\n",
    "# Insert total number of church-owned properties\n",
    "church_property_types['Total'] = num_church_properties\n",
    "\n",
    "# Convert to a dataframe\n",
    "church_property_types = pd.DataFrame(church_property_types, index=[0])\n",
    "\n",
    "church_property_types"
   ]
  },
  {
   "cell_type": "code",
   "execution_count": 95,
   "id": "0093d188-02da-4088-b1bc-2bf52b37e207",
   "metadata": {},
   "outputs": [
    {
     "data": {
      "text/plain": [
       "{'question_number': 32,\n",
       " 'value':    Land  Structure  Total\n",
       " 0     1         34     35}"
      ]
     },
     "execution_count": 95,
     "metadata": {},
     "output_type": "execute_result"
    }
   ],
   "source": [
    "\n",
    "results[\"How many churches own vacant properties in the City of Dallas?\"] = {\n",
    "    'question_number': 32,\n",
    "    'value': church_property_types\n",
    "}\n",
    "\n",
    "results[\"How many churches own vacant properties in the City of Dallas?\"] "
   ]
  },
  {
   "cell_type": "code",
   "execution_count": 85,
   "id": "3b71d40c-cd86-46fb-83e3-ca0e7ed7dcf8",
   "metadata": {},
   "outputs": [],
   "source": [
    "#33 How many churches owned vacant properties in the City of Dallas are in each zip code?\n",
    "\n",
    "church_prop_zip = vacant_lots_df[vacant_lots_df['Owner is Church'] == 'Yes'].groupby('Zip Code').size()\n",
    "\n",
    "# Convert index (zip codes) to integers to remove the .0 decimal part\n",
    "church_prop_zip.index = church_prop_zip.index.astype(int)\n"
   ]
  },
  {
   "cell_type": "code",
   "execution_count": 86,
   "id": "65893273-0715-43cf-a377-aed3fe2315af",
   "metadata": {},
   "outputs": [
    {
     "data": {
      "text/plain": [
       "{'question_number': 33,\n",
       " 'value': Zip Code\n",
       " 75203    2\n",
       " 75211    2\n",
       " 75212    4\n",
       " 75215    2\n",
       " 75216    6\n",
       " 75217    3\n",
       " 75223    1\n",
       " 75224    2\n",
       " 75226    2\n",
       " 75227    3\n",
       " 75228    1\n",
       " 75238    1\n",
       " 75241    6\n",
       " dtype: int64}"
      ]
     },
     "execution_count": 86,
     "metadata": {},
     "output_type": "execute_result"
    }
   ],
   "source": [
    "\n",
    "results[\"How many churches owned vacant properties in the City of Dallas are in each zip code?\"] = {\n",
    "    'question_number': 33,\n",
    "    'value': church_prop_zip\n",
    "}\n",
    "\n",
    "results[\"How many churches owned vacant properties in the City of Dallas are in each zip code?\"] "
   ]
  },
  {
   "cell_type": "code",
   "execution_count": 87,
   "id": "8ebc3627-efc2-4ec2-9876-4e30c23cb52b",
   "metadata": {},
   "outputs": [],
   "source": [
    "#34 How many are in each council district\n",
    "\n",
    "church_prop_district = vacant_lots_df[vacant_lots_df['Owner is Church'] == 'Yes'].groupby('Council District').size()\n"
   ]
  },
  {
   "cell_type": "code",
   "execution_count": 88,
   "id": "06b00f1f-26f7-40a8-bca0-714e6e0f75a4",
   "metadata": {},
   "outputs": [
    {
     "data": {
      "text/plain": [
       "{'question_number': 34,\n",
       " 'value': Council District\n",
       " District 1     1\n",
       " District 2     1\n",
       " District 3     1\n",
       " District 4     8\n",
       " District 5     2\n",
       " District 6     4\n",
       " District 7    10\n",
       " District 8     7\n",
       " District 9     1\n",
       " dtype: int64}"
      ]
     },
     "execution_count": 88,
     "metadata": {},
     "output_type": "execute_result"
    }
   ],
   "source": [
    "\n",
    "results[\"How many are in each council district\"] = {\n",
    "    'question_number': 34,\n",
    "    'value': church_prop_district\n",
    "}\n",
    "\n",
    "results[\"How many are in each council district\"]"
   ]
  }
 ],
 "metadata": {
  "kernelspec": {
   "display_name": "Python (SDPCDC venv)",
   "language": "python",
   "name": "venv"
  },
  "language_info": {
   "codemirror_mode": {
    "name": "ipython",
    "version": 3
   },
   "file_extension": ".py",
   "mimetype": "text/x-python",
   "name": "python",
   "nbconvert_exporter": "python",
   "pygments_lexer": "ipython3",
   "version": "3.10.11"
  }
 },
 "nbformat": 4,
 "nbformat_minor": 5
}
