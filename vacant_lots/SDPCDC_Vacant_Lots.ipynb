{
 "cells": [
  {
   "cell_type": "code",
   "execution_count": 1,
   "id": "0d29884f-d867-4261-ab09-87f04ee76fe9",
   "metadata": {},
   "outputs": [],
   "source": [
    "#import modules\n",
    "import pandas as pd\n",
    "import numpy as np\n",
    "from datetime import datetime\n",
    "#See max columns in a dataframe\n",
    "pd.set_option('display.max_columns', None)\n",
    "pd.set_option('display.max_rows', None)\n"
   ]
  },
  {
   "cell_type": "code",
   "execution_count": 2,
   "id": "03598c58",
   "metadata": {},
   "outputs": [
    {
     "data": {
      "text/html": [
       "<div>\n",
       "<style scoped>\n",
       "    .dataframe tbody tr th:only-of-type {\n",
       "        vertical-align: middle;\n",
       "    }\n",
       "\n",
       "    .dataframe tbody tr th {\n",
       "        vertical-align: top;\n",
       "    }\n",
       "\n",
       "    .dataframe thead th {\n",
       "        text-align: right;\n",
       "    }\n",
       "</style>\n",
       "<table border=\"1\" class=\"dataframe\">\n",
       "  <thead>\n",
       "    <tr style=\"text-align: right;\">\n",
       "      <th></th>\n",
       "      <th>Parcel ID</th>\n",
       "      <th>Adddress</th>\n",
       "      <th>Owner</th>\n",
       "      <th>Is Vacant Property</th>\n",
       "      <th>Property Type</th>\n",
       "      <th>Current Use</th>\n",
       "      <th>Year Built</th>\n",
       "      <th>Average Year Built By Council District</th>\n",
       "      <th>Owner Location</th>\n",
       "      <th>Owner Property Count</th>\n",
       "      <th>Public Owner</th>\n",
       "      <th>City or County Owned</th>\n",
       "      <th>Owner is Business</th>\n",
       "      <th>Owner Occupied</th>\n",
       "      <th>Suspected Heir Property</th>\n",
       "      <th>Bank Owned Property</th>\n",
       "      <th>Taxes Delinquent Since</th>\n",
       "      <th>Delinquent Taxes</th>\n",
       "      <th>Is Tax Delinquent</th>\n",
       "      <th>Code Liens - Count</th>\n",
       "      <th>Code Liens - Amount</th>\n",
       "      <th>Zip Code</th>\n",
       "      <th>Zoning</th>\n",
       "      <th>Council District</th>\n",
       "      <th>Vacant Since</th>\n",
       "      <th>Land Size</th>\n",
       "      <th>Unnamed: 26</th>\n",
       "      <th>Unnamed: 27</th>\n",
       "    </tr>\n",
       "  </thead>\n",
       "  <tbody>\n",
       "    <tr>\n",
       "      <th>0</th>\n",
       "      <td>100561000000</td>\n",
       "      <td>1109 WOOD ST, DALLAS, TX</td>\n",
       "      <td>BUNTING PARTNERS LP</td>\n",
       "      <td>Yes</td>\n",
       "      <td>Land</td>\n",
       "      <td>C12 - COMMERCIAL - VACANT PLOTTED LOTS/TRACTS ...</td>\n",
       "      <td>0.0</td>\n",
       "      <td>1956.0</td>\n",
       "      <td>In City</td>\n",
       "      <td>20</td>\n",
       "      <td>NaN</td>\n",
       "      <td>No</td>\n",
       "      <td>Yes</td>\n",
       "      <td>No</td>\n",
       "      <td>No</td>\n",
       "      <td>No</td>\n",
       "      <td>NaN</td>\n",
       "      <td>NaN</td>\n",
       "      <td>No</td>\n",
       "      <td>NaN</td>\n",
       "      <td>NaN</td>\n",
       "      <td>75202</td>\n",
       "      <td>Central Area - CA-1(A)-Central Area</td>\n",
       "      <td>District 14</td>\n",
       "      <td>2022-04-01</td>\n",
       "      <td>0.124653</td>\n",
       "      <td>NaN</td>\n",
       "      <td>NaN</td>\n",
       "    </tr>\n",
       "    <tr>\n",
       "      <th>1</th>\n",
       "      <td>101971000000</td>\n",
       "      <td>1908 ELM ST, DALLAS, TX</td>\n",
       "      <td>JARVIS BARNEY W JR TR &amp; MARY LOU TR</td>\n",
       "      <td>Yes</td>\n",
       "      <td>Structure</td>\n",
       "      <td>C12 - COMMERCIAL - VACANT PLOTTED LOTS/TRACTS ...</td>\n",
       "      <td>0.0</td>\n",
       "      <td>1956.0</td>\n",
       "      <td>In City</td>\n",
       "      <td>1</td>\n",
       "      <td>NaN</td>\n",
       "      <td>No</td>\n",
       "      <td>No</td>\n",
       "      <td>Unknown</td>\n",
       "      <td>No</td>\n",
       "      <td>No</td>\n",
       "      <td>NaN</td>\n",
       "      <td>NaN</td>\n",
       "      <td>No</td>\n",
       "      <td>NaN</td>\n",
       "      <td>NaN</td>\n",
       "      <td>75201</td>\n",
       "      <td>Other - PD-619</td>\n",
       "      <td>District 14</td>\n",
       "      <td>2023-06-01</td>\n",
       "      <td>0.122321</td>\n",
       "      <td>NaN</td>\n",
       "      <td>NaN</td>\n",
       "    </tr>\n",
       "  </tbody>\n",
       "</table>\n",
       "</div>"
      ],
      "text/plain": [
       "      Parcel ID                  Adddress  \\\n",
       "0  100561000000  1109 WOOD ST, DALLAS, TX   \n",
       "1  101971000000   1908 ELM ST, DALLAS, TX   \n",
       "\n",
       "                                 Owner Is Vacant Property Property Type  \\\n",
       "0                  BUNTING PARTNERS LP                Yes          Land   \n",
       "1  JARVIS BARNEY W JR TR & MARY LOU TR                Yes     Structure   \n",
       "\n",
       "                                         Current Use  Year Built  \\\n",
       "0  C12 - COMMERCIAL - VACANT PLOTTED LOTS/TRACTS ...         0.0   \n",
       "1  C12 - COMMERCIAL - VACANT PLOTTED LOTS/TRACTS ...         0.0   \n",
       "\n",
       "   Average Year Built By Council District Owner Location  \\\n",
       "0                                  1956.0        In City   \n",
       "1                                  1956.0        In City   \n",
       "\n",
       "   Owner Property Count Public Owner City or County Owned Owner is Business  \\\n",
       "0                    20          NaN                   No               Yes   \n",
       "1                     1          NaN                   No                No   \n",
       "\n",
       "  Owner Occupied Suspected Heir Property Bank Owned Property  \\\n",
       "0             No                      No                  No   \n",
       "1        Unknown                      No                  No   \n",
       "\n",
       "  Taxes Delinquent Since  Delinquent Taxes Is Tax Delinquent  \\\n",
       "0                    NaN               NaN                No   \n",
       "1                    NaN               NaN                No   \n",
       "\n",
       "   Code Liens - Count  Code Liens - Amount  Zip Code  \\\n",
       "0                 NaN                  NaN     75202   \n",
       "1                 NaN                  NaN     75201   \n",
       "\n",
       "                                Zoning Council District Vacant Since  \\\n",
       "0  Central Area - CA-1(A)-Central Area      District 14   2022-04-01   \n",
       "1                       Other - PD-619      District 14   2023-06-01   \n",
       "\n",
       "   Land Size  Unnamed: 26  Unnamed: 27  \n",
       "0   0.124653          NaN          NaN  \n",
       "1   0.122321          NaN          NaN  "
      ]
     },
     "execution_count": 2,
     "metadata": {},
     "output_type": "execute_result"
    }
   ],
   "source": [
    "# Load the old dataset\n",
    "# Read the CSV file with specified data types and skipped first 4 rows\n",
    "old_df = pd.read_csv(\"data/southern_dallas_progress_export_20230906.csv\")\n",
    "old_df.head(2)\n"
   ]
  },
  {
   "cell_type": "code",
   "execution_count": 3,
   "id": "c3c637ee",
   "metadata": {},
   "outputs": [
    {
     "data": {
      "text/html": [
       "<div>\n",
       "<style scoped>\n",
       "    .dataframe tbody tr th:only-of-type {\n",
       "        vertical-align: middle;\n",
       "    }\n",
       "\n",
       "    .dataframe tbody tr th {\n",
       "        vertical-align: top;\n",
       "    }\n",
       "\n",
       "    .dataframe thead th {\n",
       "        text-align: right;\n",
       "    }\n",
       "</style>\n",
       "<table border=\"1\" class=\"dataframe\">\n",
       "  <thead>\n",
       "    <tr style=\"text-align: right;\">\n",
       "      <th></th>\n",
       "      <th>Parcel ID</th>\n",
       "      <th>Address</th>\n",
       "      <th>Owner</th>\n",
       "      <th>Is Vacant Property</th>\n",
       "      <th>Property Type</th>\n",
       "      <th>Current Use</th>\n",
       "      <th>Year Built</th>\n",
       "      <th>Average Year Built By Council District</th>\n",
       "      <th>Owner Is Business</th>\n",
       "      <th>Owner Occupied</th>\n",
       "      <th>Suspected Heir Property</th>\n",
       "      <th>Taxes Delinquent Since</th>\n",
       "      <th>Delinquent Taxes</th>\n",
       "      <th>Is Tax Delinquent</th>\n",
       "      <th>Code Liens - Count</th>\n",
       "      <th>Code Liens - Amount</th>\n",
       "      <th>Zip Code</th>\n",
       "      <th>Zoning</th>\n",
       "      <th>Council Districts</th>\n",
       "      <th>Land Size</th>\n",
       "      <th>USPS Vacant Since</th>\n",
       "      <th>Owner Location</th>\n",
       "      <th>Owner Property Count</th>\n",
       "      <th>Owner Public Name</th>\n",
       "      <th>Owner Is Public</th>\n",
       "      <th>Is Bank Owned</th>\n",
       "    </tr>\n",
       "  </thead>\n",
       "  <tbody>\n",
       "    <tr>\n",
       "      <th>0</th>\n",
       "      <td>00000100051000000</td>\n",
       "      <td>400 MAIN ST, DALLAS, TX</td>\n",
       "      <td>NaN</td>\n",
       "      <td>Yes</td>\n",
       "      <td>Land</td>\n",
       "      <td>C12 - COMMERCIAL - VACANT PLOTTED LOTS/TRACTS ...</td>\n",
       "      <td>0.0</td>\n",
       "      <td>1926.0</td>\n",
       "      <td>Unknown</td>\n",
       "      <td>Unknown</td>\n",
       "      <td>No</td>\n",
       "      <td>NaN</td>\n",
       "      <td>NaN</td>\n",
       "      <td>No</td>\n",
       "      <td>NaN</td>\n",
       "      <td>NaN</td>\n",
       "      <td>75202.0</td>\n",
       "      <td>Central Area - CA-1(A)-Central Area</td>\n",
       "      <td>District 2</td>\n",
       "      <td>0.918490</td>\n",
       "      <td>7/1/22</td>\n",
       "      <td>NaN</td>\n",
       "      <td>NaN</td>\n",
       "      <td>NaN</td>\n",
       "      <td>No</td>\n",
       "      <td>No</td>\n",
       "    </tr>\n",
       "    <tr>\n",
       "      <th>1</th>\n",
       "      <td>00000100561000000</td>\n",
       "      <td>1109 WOOD ST, DALLAS, TX</td>\n",
       "      <td>BUNTING PARTNERS LP</td>\n",
       "      <td>Yes</td>\n",
       "      <td>Land</td>\n",
       "      <td>C12 - COMMERCIAL - VACANT PLOTTED LOTS/TRACTS ...</td>\n",
       "      <td>0.0</td>\n",
       "      <td>1958.0</td>\n",
       "      <td>Yes</td>\n",
       "      <td>No</td>\n",
       "      <td>No</td>\n",
       "      <td>NaN</td>\n",
       "      <td>NaN</td>\n",
       "      <td>No</td>\n",
       "      <td>NaN</td>\n",
       "      <td>NaN</td>\n",
       "      <td>75202.0</td>\n",
       "      <td>Central Area - CA-1(A)-Central Area</td>\n",
       "      <td>District 14</td>\n",
       "      <td>0.124653</td>\n",
       "      <td>NaN</td>\n",
       "      <td>In MSA</td>\n",
       "      <td>20.0</td>\n",
       "      <td>NaN</td>\n",
       "      <td>No</td>\n",
       "      <td>No</td>\n",
       "    </tr>\n",
       "  </tbody>\n",
       "</table>\n",
       "</div>"
      ],
      "text/plain": [
       "           Parcel ID                   Address                Owner  \\\n",
       "0  00000100051000000   400 MAIN ST, DALLAS, TX                  NaN   \n",
       "1  00000100561000000  1109 WOOD ST, DALLAS, TX  BUNTING PARTNERS LP   \n",
       "\n",
       "  Is Vacant Property Property Type  \\\n",
       "0                Yes          Land   \n",
       "1                Yes          Land   \n",
       "\n",
       "                                         Current Use  Year Built  \\\n",
       "0  C12 - COMMERCIAL - VACANT PLOTTED LOTS/TRACTS ...         0.0   \n",
       "1  C12 - COMMERCIAL - VACANT PLOTTED LOTS/TRACTS ...         0.0   \n",
       "\n",
       "   Average Year Built By Council District Owner Is Business Owner Occupied  \\\n",
       "0                                  1926.0           Unknown        Unknown   \n",
       "1                                  1958.0               Yes             No   \n",
       "\n",
       "  Suspected Heir Property Taxes Delinquent Since  Delinquent Taxes  \\\n",
       "0                      No                    NaN               NaN   \n",
       "1                      No                    NaN               NaN   \n",
       "\n",
       "  Is Tax Delinquent  Code Liens - Count  Code Liens - Amount  Zip Code  \\\n",
       "0                No                 NaN                  NaN   75202.0   \n",
       "1                No                 NaN                  NaN   75202.0   \n",
       "\n",
       "                                Zoning Council Districts  Land Size  \\\n",
       "0  Central Area - CA-1(A)-Central Area        District 2   0.918490   \n",
       "1  Central Area - CA-1(A)-Central Area       District 14   0.124653   \n",
       "\n",
       "  USPS Vacant Since Owner Location  Owner Property Count Owner Public Name  \\\n",
       "0            7/1/22            NaN                   NaN               NaN   \n",
       "1               NaN         In MSA                  20.0               NaN   \n",
       "\n",
       "  Owner Is Public Is Bank Owned  \n",
       "0              No            No  \n",
       "1              No            No  "
      ]
     },
     "execution_count": 3,
     "metadata": {},
     "output_type": "execute_result"
    }
   ],
   "source": [
    "# Load the new dataset\n",
    "\n",
    "file_path = 'data/southern_dallas_progress_export_09102024.csv'\n",
    "new_df = pd.read_csv(file_path)\n",
    "new_df.head(2)"
   ]
  },
  {
   "cell_type": "code",
   "execution_count": 4,
   "id": "2c7f33e4",
   "metadata": {},
   "outputs": [
    {
     "name": "stdout",
     "output_type": "stream",
     "text": [
      "['Address', 'Owner Is Business', 'Council Districts', 'USPS Vacant Since', 'Owner Public Name', 'Owner Is Public', 'Is Bank Owned']\n",
      "['Adddress', 'Public Owner', 'City or County Owned', 'Owner is Business', 'Bank Owned Property', 'Council District', 'Vacant Since', 'Unnamed: 26', 'Unnamed: 27']\n"
     ]
    }
   ],
   "source": [
    "# Use list comprehension to check that the columns are the same in both dataframes\n",
    "print([col for col in new_df.columns if col not in old_df.columns])\n",
    "print([col for col in old_df.columns if col not in new_df.columns])"
   ]
  },
  {
   "cell_type": "code",
   "execution_count": 5,
   "id": "edd4ec07",
   "metadata": {},
   "outputs": [
    {
     "name": "stdout",
     "output_type": "stream",
     "text": [
      "Index(['Parcel ID', 'Address', 'Owner', 'Is Vacant Property', 'Property Type',\n",
      "       'Current Use', 'Year Built', 'Average Year Built By Council District',\n",
      "       'Owner Is Business', 'Owner Occupied', 'Suspected Heir Property',\n",
      "       'Taxes Delinquent Since', 'Delinquent Taxes', 'Is Tax Delinquent',\n",
      "       'Code Liens - Count', 'Code Liens - Amount', 'Zip Code', 'Zoning',\n",
      "       'Council Districts', 'Land Size', 'USPS Vacant Since', 'Owner Location',\n",
      "       'Owner Property Count', 'Owner Public Name', 'Owner Is Public',\n",
      "       'Is Bank Owned'],\n",
      "      dtype='object')\n"
     ]
    }
   ],
   "source": [
    "print(new_df.columns)"
   ]
  },
  {
   "cell_type": "code",
   "execution_count": 6,
   "id": "399855ed",
   "metadata": {},
   "outputs": [
    {
     "data": {
      "text/plain": [
       "NaN                            46328\n",
       "City                            2744\n",
       "Railway                          263\n",
       "University                        83\n",
       "County                            33\n",
       "Transportation Department         28\n",
       "City Community Development        25\n",
       "Housing Authority                 24\n",
       "College                           18\n",
       "University Board of Regents       18\n",
       "Other Schools                     16\n",
       "US Postal Service                 12\n",
       "US Government                     12\n",
       "City Parks                         7\n",
       "Turnpike Authority                 5\n",
       "River Authority                    4\n",
       "County Flood Control               4\n",
       "City and County                    4\n",
       "Charter School                     3\n",
       "City Development                   3\n",
       "City Real Estate                   1\n",
       "FHLMC (Freddie Mac)                1\n",
       "FNMA (Fannie Mae)                  1\n",
       "City Finance                       1\n",
       "Name: Owner Public Name, dtype: int64"
      ]
     },
     "execution_count": 6,
     "metadata": {},
     "output_type": "execute_result"
    }
   ],
   "source": [
    "# Value counts in the new_df 'Owner Public Name' field, including NaN\n",
    "new_df['Owner Public Name'].value_counts(dropna=False)"
   ]
  },
  {
   "cell_type": "code",
   "execution_count": 7,
   "id": "240566b8",
   "metadata": {},
   "outputs": [],
   "source": [
    "# In new_df, add a new field called 'City or County Owned' that is False if 'Owner Public Name' is NaN, True otherwise\n",
    "new_df['City or County Owned'] = new_df['Owner Public Name'].notnull()"
   ]
  },
  {
   "cell_type": "markdown",
   "id": "2c991b2c",
   "metadata": {},
   "source": [
    "Missing fields: 'Owner Location', 'Owner Property Count', 'Public Owner', 'City or County Owned', 'Bank Owned Property'\n",
    "\n",
    "Requested new file export from Tolemi"
   ]
  },
  {
   "cell_type": "markdown",
   "id": "c50bcb41",
   "metadata": {},
   "source": []
  },
  {
   "cell_type": "code",
   "execution_count": 8,
   "id": "6d8e21bc",
   "metadata": {},
   "outputs": [
    {
     "data": {
      "text/html": [
       "<div>\n",
       "<style scoped>\n",
       "    .dataframe tbody tr th:only-of-type {\n",
       "        vertical-align: middle;\n",
       "    }\n",
       "\n",
       "    .dataframe tbody tr th {\n",
       "        vertical-align: top;\n",
       "    }\n",
       "\n",
       "    .dataframe thead th {\n",
       "        text-align: right;\n",
       "    }\n",
       "</style>\n",
       "<table border=\"1\" class=\"dataframe\">\n",
       "  <thead>\n",
       "    <tr style=\"text-align: right;\">\n",
       "      <th></th>\n",
       "      <th>Parcel ID</th>\n",
       "      <th>Address</th>\n",
       "      <th>Owner</th>\n",
       "      <th>Is Vacant Property</th>\n",
       "      <th>Property Type</th>\n",
       "      <th>Current Use</th>\n",
       "      <th>Year Built</th>\n",
       "      <th>Average Year Built By Council District</th>\n",
       "      <th>Owner is Business</th>\n",
       "      <th>Owner Occupied</th>\n",
       "      <th>Suspected Heir Property</th>\n",
       "      <th>Taxes Delinquent Since</th>\n",
       "      <th>Delinquent Taxes</th>\n",
       "      <th>Is Tax Delinquent</th>\n",
       "      <th>Code Liens - Count</th>\n",
       "      <th>Code Liens - Amount</th>\n",
       "      <th>Zip Code</th>\n",
       "      <th>Zoning</th>\n",
       "      <th>Council District</th>\n",
       "      <th>Land Size</th>\n",
       "      <th>Vacant Since</th>\n",
       "      <th>Owner Location</th>\n",
       "      <th>Owner Property Count</th>\n",
       "      <th>Owner Public Name</th>\n",
       "      <th>Public Owner</th>\n",
       "      <th>Bank Owned Property</th>\n",
       "      <th>City or County Owned</th>\n",
       "    </tr>\n",
       "  </thead>\n",
       "  <tbody>\n",
       "    <tr>\n",
       "      <th>0</th>\n",
       "      <td>00000100051000000</td>\n",
       "      <td>400 MAIN ST, DALLAS, TX</td>\n",
       "      <td>NaN</td>\n",
       "      <td>Yes</td>\n",
       "      <td>Land</td>\n",
       "      <td>C12 - COMMERCIAL - VACANT PLOTTED LOTS/TRACTS ...</td>\n",
       "      <td>0.0</td>\n",
       "      <td>1926.0</td>\n",
       "      <td>Unknown</td>\n",
       "      <td>Unknown</td>\n",
       "      <td>No</td>\n",
       "      <td>NaN</td>\n",
       "      <td>NaN</td>\n",
       "      <td>No</td>\n",
       "      <td>NaN</td>\n",
       "      <td>NaN</td>\n",
       "      <td>75202.0</td>\n",
       "      <td>Central Area - CA-1(A)-Central Area</td>\n",
       "      <td>District 2</td>\n",
       "      <td>0.918490</td>\n",
       "      <td>7/1/22</td>\n",
       "      <td>NaN</td>\n",
       "      <td>NaN</td>\n",
       "      <td>NaN</td>\n",
       "      <td>No</td>\n",
       "      <td>No</td>\n",
       "      <td>False</td>\n",
       "    </tr>\n",
       "    <tr>\n",
       "      <th>1</th>\n",
       "      <td>00000100561000000</td>\n",
       "      <td>1109 WOOD ST, DALLAS, TX</td>\n",
       "      <td>BUNTING PARTNERS LP</td>\n",
       "      <td>Yes</td>\n",
       "      <td>Land</td>\n",
       "      <td>C12 - COMMERCIAL - VACANT PLOTTED LOTS/TRACTS ...</td>\n",
       "      <td>0.0</td>\n",
       "      <td>1958.0</td>\n",
       "      <td>Yes</td>\n",
       "      <td>No</td>\n",
       "      <td>No</td>\n",
       "      <td>NaN</td>\n",
       "      <td>NaN</td>\n",
       "      <td>No</td>\n",
       "      <td>NaN</td>\n",
       "      <td>NaN</td>\n",
       "      <td>75202.0</td>\n",
       "      <td>Central Area - CA-1(A)-Central Area</td>\n",
       "      <td>District 14</td>\n",
       "      <td>0.124653</td>\n",
       "      <td>NaN</td>\n",
       "      <td>In MSA</td>\n",
       "      <td>20.0</td>\n",
       "      <td>NaN</td>\n",
       "      <td>No</td>\n",
       "      <td>No</td>\n",
       "      <td>False</td>\n",
       "    </tr>\n",
       "  </tbody>\n",
       "</table>\n",
       "</div>"
      ],
      "text/plain": [
       "           Parcel ID                   Address                Owner  \\\n",
       "0  00000100051000000   400 MAIN ST, DALLAS, TX                  NaN   \n",
       "1  00000100561000000  1109 WOOD ST, DALLAS, TX  BUNTING PARTNERS LP   \n",
       "\n",
       "  Is Vacant Property Property Type  \\\n",
       "0                Yes          Land   \n",
       "1                Yes          Land   \n",
       "\n",
       "                                         Current Use  Year Built  \\\n",
       "0  C12 - COMMERCIAL - VACANT PLOTTED LOTS/TRACTS ...         0.0   \n",
       "1  C12 - COMMERCIAL - VACANT PLOTTED LOTS/TRACTS ...         0.0   \n",
       "\n",
       "   Average Year Built By Council District Owner is Business Owner Occupied  \\\n",
       "0                                  1926.0           Unknown        Unknown   \n",
       "1                                  1958.0               Yes             No   \n",
       "\n",
       "  Suspected Heir Property Taxes Delinquent Since  Delinquent Taxes  \\\n",
       "0                      No                    NaN               NaN   \n",
       "1                      No                    NaN               NaN   \n",
       "\n",
       "  Is Tax Delinquent  Code Liens - Count  Code Liens - Amount  Zip Code  \\\n",
       "0                No                 NaN                  NaN   75202.0   \n",
       "1                No                 NaN                  NaN   75202.0   \n",
       "\n",
       "                                Zoning Council District  Land Size  \\\n",
       "0  Central Area - CA-1(A)-Central Area       District 2   0.918490   \n",
       "1  Central Area - CA-1(A)-Central Area      District 14   0.124653   \n",
       "\n",
       "  Vacant Since Owner Location  Owner Property Count Owner Public Name  \\\n",
       "0       7/1/22            NaN                   NaN               NaN   \n",
       "1          NaN         In MSA                  20.0               NaN   \n",
       "\n",
       "  Public Owner Bank Owned Property  City or County Owned  \n",
       "0           No                  No                 False  \n",
       "1           No                  No                 False  "
      ]
     },
     "execution_count": 8,
     "metadata": {},
     "output_type": "execute_result"
    }
   ],
   "source": [
    "# Missing fields: 'Owner Location', 'Owner Property Count', 'Public Owner','City or County Owned' , 'Bank Owned Property'\n",
    "\n",
    "\n",
    "# In df, rename the following: 'Owner Is Business' to 'Owner is Business'; 'Council Districts' to 'Council District'; \n",
    "\n",
    "vacant_lots_df = new_df.rename(columns={'Owner Is Business': 'Owner is Business', \n",
    "                       'Council Districts': 'Council District', \n",
    "                       'Owner Is Public': 'Public Owner',\n",
    "                       'Is Bank Owned': 'Bank Owned Property',\n",
    "                       'USPS Vacant Since': 'Vacant Since'}\n",
    "                       )\n",
    "vacant_lots_df.head(2)"
   ]
  },
  {
   "cell_type": "code",
   "execution_count": 9,
   "id": "f6dd41c6",
   "metadata": {},
   "outputs": [
    {
     "name": "stdout",
     "output_type": "stream",
     "text": [
      "['Address', 'Owner Public Name']\n",
      "['Adddress', 'Unnamed: 26', 'Unnamed: 27']\n"
     ]
    }
   ],
   "source": [
    "# Use list comprehension to check that the columns are the same in both dataframes\n",
    "print([col for col in vacant_lots_df.columns if col not in old_df.columns])\n",
    "print([col for col in old_df.columns if col not in vacant_lots_df.columns])\n",
    "\n"
   ]
  },
  {
   "cell_type": "code",
   "execution_count": 10,
   "id": "c580d5a7-5550-4070-8232-30fd2dd47c83",
   "metadata": {},
   "outputs": [
    {
     "data": {
      "text/plain": [
       "(49638, 27)"
      ]
     },
     "execution_count": 10,
     "metadata": {},
     "output_type": "execute_result"
    }
   ],
   "source": [
    "#To see the rows before dropping duplicates\n",
    "vacant_lots_df.shape"
   ]
  },
  {
   "cell_type": "code",
   "execution_count": 11,
   "id": "10c1b72d-6849-48d5-ac1a-e07c5b19ef7d",
   "metadata": {},
   "outputs": [],
   "source": [
    "# Remove duplicates based on all columns\n",
    "vacant_lots_df = vacant_lots_df.drop_duplicates(subset=['Parcel ID'])"
   ]
  },
  {
   "cell_type": "code",
   "execution_count": 12,
   "id": "41231784",
   "metadata": {},
   "outputs": [
    {
     "data": {
      "text/plain": [
       "District 02    4194\n",
       "District 14    2183\n",
       "District 01    2174\n",
       "District 06    6633\n",
       "District 07    6879\n",
       "District 04    6032\n",
       "District 09    1390\n",
       "District 13    2136\n",
       "District 11    1014\n",
       "District 05    2543\n",
       "District 08    5477\n",
       "District 03    2539\n",
       "District 10    1078\n",
       "District 12     412\n",
       "Name: Council District, dtype: int64"
      ]
     },
     "execution_count": 12,
     "metadata": {},
     "output_type": "execute_result"
    }
   ],
   "source": [
    "# For vacant_lots_df['Council District'], extract the Council District Number. Example: 'District 1' -> 1\n",
    "vacant_lots_df['Council District Number'] = vacant_lots_df['Council District'].str.extract('(\\d+)')\n",
    "\n",
    "# Convert Council District Number so that single digit districts have a leading zero\n",
    "vacant_lots_df['Council District Number'] = vacant_lots_df['Council District Number'].str.zfill(2)\n",
    "\n",
    "# Unique values in 'Council District Number'\n",
    "vacant_lots_df['Council District Number'].unique()\n",
    "\n",
    "# Set Council District to 'District' + 'Council District Number'\n",
    "vacant_lots_df['Council District'] = 'District ' + vacant_lots_df['Council District Number']\n",
    "\n",
    "# Value counts of 'Council District'\n",
    "vacant_lots_df['Council District'].value_counts(sort=False)\n"
   ]
  },
  {
   "cell_type": "code",
   "execution_count": 13,
   "id": "77f0c726-475c-4e35-a0bf-d9863d3d0c3b",
   "metadata": {},
   "outputs": [
    {
     "data": {
      "text/plain": [
       "(44715, 28)"
      ]
     },
     "execution_count": 13,
     "metadata": {},
     "output_type": "execute_result"
    }
   ],
   "source": [
    "#Rows after duplicates have been dropped\n",
    "vacant_lots_df.shape"
   ]
  },
  {
   "cell_type": "code",
   "execution_count": 14,
   "id": "87d7c358-15a3-47f4-a72f-c966dbeb5a1e",
   "metadata": {},
   "outputs": [],
   "source": [
    "# Recode 0 as NA in the \"Year Built\" column\n",
    "vacant_lots_df['Year Built'] = np.where(vacant_lots_df['Year Built'] == 0, np.nan, vacant_lots_df['Year Built'])"
   ]
  },
  {
   "cell_type": "code",
   "execution_count": 15,
   "id": "c77ab579-8630-4f35-b306-1c7143a6be07",
   "metadata": {},
   "outputs": [
    {
     "name": "stdout",
     "output_type": "stream",
     "text": [
      "2024\n"
     ]
    }
   ],
   "source": [
    "#Creates field Property Age Years in df\n",
    "\n",
    "#Assign a variable to the current year\n",
    "current_year = datetime.now().year\n",
    "print(current_year)\n",
    "\n",
    "# Calculate \"Property Age Years\" as the difference between current year and Year Built\n",
    "vacant_lots_df['Property Age Years'] = current_year - vacant_lots_df['Year Built']\n",
    "\n",
    "# Assign the calculated columns to variables for potential future use\n",
    "property_age_years = vacant_lots_df['Property Age Years']\n"
   ]
  },
  {
   "cell_type": "code",
   "execution_count": 16,
   "id": "156c7c13-8854-47f6-9e8f-3d07d7a3fcb8",
   "metadata": {},
   "outputs": [
    {
     "data": {
      "text/plain": [
       "count    7319.000000\n",
       "mean      623.188277\n",
       "std       254.970762\n",
       "min       132.000000\n",
       "25%       372.000000\n",
       "50%       802.000000\n",
       "75%       802.000000\n",
       "max       802.000000\n",
       "Name: Vacancy Days, dtype: float64"
      ]
     },
     "execution_count": 16,
     "metadata": {},
     "output_type": "execute_result"
    }
   ],
   "source": [
    "#Creates field Vacancy Days in df\n",
    "\n",
    "# Convert today's date to a Timestamp object\n",
    "today = pd.Timestamp(datetime.today().date())\n",
    "\n",
    "reference_date = pd.Timestamp('2024-09-10')\n",
    "# reference_date = today\n",
    "\n",
    "# Convert the 'Vacant Since' column to a Datetime column \n",
    "vacant_lots_df['Vacant Since'] = pd.to_datetime(vacant_lots_df['Vacant Since'])\n",
    "\n",
    "# Calculate \"Vacancy Days\" as the difference between reference date and \"Vacant Since\" date\n",
    "vacant_lots_df['Vacancy Days'] = (reference_date - vacant_lots_df['Vacant Since']).dt.days\n",
    "\n",
    "# Assign the calculated columns to variables for potential future use\n",
    "vacancy_days = vacant_lots_df['Vacancy Days']\n",
    "\n",
    "vacancy_days.describe()"
   ]
  },
  {
   "cell_type": "code",
   "execution_count": 17,
   "id": "25c55694",
   "metadata": {},
   "outputs": [],
   "source": [
    "\n",
    "#For ending set of 3 questions use a function to map Single Family,Multi, and Commercial\n",
    "def zoning_triple_category(row):\n",
    "    zoning=row['Zoning']\n",
    "    \n",
    "    if pd.notna(zoning):#check if thed value is not NaN\n",
    "        if \"Single Family\" in zoning or \"Mobile Home\" in zoning:\n",
    "            return \"Single Family\"\n",
    "        elif any(keyword in zoning for keyword in [\"Multifamily\", \"Duplex\", \"Cluster Housing\", \"Townhouse\"]):\n",
    "            return \"Multifamily\"\n",
    "        elif \"Commercial\" in zoning or \"commercial\" in zoning:\n",
    "            return \"Commercial\"\n",
    "        return \"Other\" #Return \"Other\" for NaN or missing values\n",
    "vacant_lots_df['Zoning Category 3'] = vacant_lots_df.apply(zoning_triple_category, axis=1)  "
   ]
  },
  {
   "cell_type": "code",
   "execution_count": 18,
   "id": "d2e47ee8-082d-4bf1-9e6b-6a4fb3b8acac",
   "metadata": {},
   "outputs": [],
   "source": [
    "# Check if \"CHURCH\" is a partial match in the \"Current Use\" column and create the \"Owner is Church\" column\n",
    "vacant_lots_df['Owner is Church']=vacant_lots_df['Current Use'].str.contains('CHURCH', case=False, na=True)\n",
    "\n",
    "# Map the True/False values to 'Yes' and 'No' in the \"Owner is Church\" column\n",
    "vacant_lots_df['Owner is Church'] = vacant_lots_df['Owner is Church'].map({True: 'Yes', False: 'No'})\n",
    "\n",
    "owner_is_church=vacant_lots_df[\"Owner is Church\"]"
   ]
  },
  {
   "cell_type": "code",
   "execution_count": 19,
   "id": "676bc64e",
   "metadata": {},
   "outputs": [],
   "source": [
    "\n",
    "#Checks strings in zoning column and maps them\n",
    "def classify_zoning_category(row):\n",
    "    zoning = row['Zoning']\n",
    "    \n",
    "    if pd.notna(zoning):  # Check if the value is not NaN\n",
    "        if \"Central Area\" in zoning:\n",
    "            return \"Central Area\"\n",
    "        elif \"Retail\" in zoning or \"Neighborhood Service\" in zoning:\n",
    "            return \"Retail\"\n",
    "        elif any(keyword in zoning for keyword in [\"Single Family\", \"Multifamily\", \"Duplex\", \"Cluster Housing\", \"Townhouse\"]):\n",
    "            return \"Residential\"\n",
    "        elif \"Office\" in zoning:\n",
    "            return \"Office\"\n",
    "        elif \"Industrial\" in zoning:\n",
    "            return \"Industrial\"\n",
    "        elif \"Commercial\" in zoning or \"commercial\" in zoning:  # Handle the typo\n",
    "            return \"Commercial\"\n",
    "    return \"Other\"  # Return \"Other\" for NaN or missing values\n",
    "\n",
    "# Apply the function to create the \"Zoning Category\" column\n",
    "vacant_lots_df['Zoning Category'] = vacant_lots_df.apply(classify_zoning_category, axis=1)"
   ]
  },
  {
   "cell_type": "code",
   "execution_count": 20,
   "id": "2a4a21da-ae69-4230-a021-2e0b2b84540e",
   "metadata": {},
   "outputs": [],
   "source": [
    "# Define a function to apply the classification logic\n",
    "def classify_owner(row):\n",
    "    if pd.notna(row['Public Owner']):\n",
    "        return row['Public Owner']\n",
    "    elif row['Public Owner'] == 'City of Dallas':\n",
    "        return 'City of Dallas'\n",
    "    elif row['Public Owner'] == 'City of Dallas Housing Authority':\n",
    "        return 'City of Dallas Housing Authority'\n",
    "    elif row['Public Owner'] == 'County of Dallas':\n",
    "        return 'County of Dallas'  \n",
    "    elif row['Owner is Church'] == 'Yes':\n",
    "        return 'Church'\n",
    "    elif row['Owner is Business'] == 'Yes':\n",
    "        return 'Business'\n",
    "    elif row['Bank Owned Property'] == 'Yes':\n",
    "        return 'Bank'\n",
    "    else:\n",
    "        return 'Private Owner'\n",
    "\n",
    "# Apply the function to create the \"Owner\" column\n",
    "vacant_lots_df['Owner'] = vacant_lots_df.apply(classify_owner, axis=1)\n",
    "   "
   ]
  },
  {
   "cell_type": "code",
   "execution_count": 21,
   "id": "346aacf3-4f1d-4873-a36a-28661bf82124",
   "metadata": {},
   "outputs": [],
   "source": [
    "# Selecting columns of interest and filtering by 'Property Type' == 'Structure'\n",
    "structure_df = vacant_lots_df[vacant_lots_df['Property Type'] == 'Structure']\n",
    "\n",
    "# Selecting columns of interest and filtering by 'Property Type' == 'Land' for land dataframe\n",
    "land_df = vacant_lots_df[vacant_lots_df['Property Type'] == 'Land']\n",
    "\n",
    "# Filter residential properties\n",
    "residential_properties = vacant_lots_df[vacant_lots_df['Zoning Category'] == 'Residential']\n",
    "\n",
    "# Filter commercial properties used Zone Category 3 column for zoned single family residential, commercial and multifamily questions\n",
    "commercial_properties = vacant_lots_df[vacant_lots_df['Zoning Category 3'] == 'Commercial']\n"
   ]
  },
  {
   "cell_type": "code",
   "execution_count": 22,
   "id": "5f526549",
   "metadata": {},
   "outputs": [
    {
     "data": {
      "text/plain": [
       "Property Type\n",
       "Land         28300\n",
       "Structure    16415\n",
       "Name: Property Type, dtype: int64"
      ]
     },
     "execution_count": 22,
     "metadata": {},
     "output_type": "execute_result"
    }
   ],
   "source": [
    "vacant_lots_df.groupby('Property Type')['Property Type'].count()"
   ]
  },
  {
   "cell_type": "code",
   "execution_count": 23,
   "id": "b1a0afd9-cfcb-4b62-9cb9-456b7e680a2a",
   "metadata": {},
   "outputs": [
    {
     "data": {
      "text/plain": [
       "(44715, 33)"
      ]
     },
     "execution_count": 23,
     "metadata": {},
     "output_type": "execute_result"
    }
   ],
   "source": [
    "vacant_lots_df.shape"
   ]
  },
  {
   "cell_type": "code",
   "execution_count": 24,
   "id": "381ee7ab-ac43-4248-b5eb-ee732aa4309e",
   "metadata": {},
   "outputs": [
    {
     "name": "stdout",
     "output_type": "stream",
     "text": [
      "<class 'pandas.core.frame.DataFrame'>\n",
      "Int64Index: 44715 entries, 0 to 49637\n",
      "Data columns (total 33 columns):\n",
      " #   Column                                  Non-Null Count  Dtype         \n",
      "---  ------                                  --------------  -----         \n",
      " 0   Parcel ID                               44715 non-null  object        \n",
      " 1   Address                                 44715 non-null  object        \n",
      " 2   Owner                                   44715 non-null  object        \n",
      " 3   Is Vacant Property                      44715 non-null  object        \n",
      " 4   Property Type                           44715 non-null  object        \n",
      " 5   Current Use                             44715 non-null  object        \n",
      " 6   Year Built                              12711 non-null  float64       \n",
      " 7   Average Year Built By Council District  44684 non-null  float64       \n",
      " 8   Owner is Business                       44715 non-null  object        \n",
      " 9   Owner Occupied                          44715 non-null  object        \n",
      " 10  Suspected Heir Property                 44715 non-null  object        \n",
      " 11  Taxes Delinquent Since                  5376 non-null   object        \n",
      " 12  Delinquent Taxes                        5376 non-null   float64       \n",
      " 13  Is Tax Delinquent                       44715 non-null  object        \n",
      " 14  Code Liens - Count                      6696 non-null   float64       \n",
      " 15  Code Liens - Amount                     6696 non-null   float64       \n",
      " 16  Zip Code                                44711 non-null  float64       \n",
      " 17  Zoning                                  36077 non-null  object        \n",
      " 18  Council District                        44684 non-null  object        \n",
      " 19  Land Size                               44715 non-null  float64       \n",
      " 20  Vacant Since                            7319 non-null   datetime64[ns]\n",
      " 21  Owner Location                          40924 non-null  object        \n",
      " 22  Owner Property Count                    40924 non-null  float64       \n",
      " 23  Owner Public Name                       3198 non-null   object        \n",
      " 24  Public Owner                            44715 non-null  object        \n",
      " 25  Bank Owned Property                     44715 non-null  object        \n",
      " 26  City or County Owned                    44715 non-null  bool          \n",
      " 27  Council District Number                 44684 non-null  object        \n",
      " 28  Property Age Years                      12711 non-null  float64       \n",
      " 29  Vacancy Days                            7319 non-null   float64       \n",
      " 30  Zoning Category 3                       36077 non-null  object        \n",
      " 31  Owner is Church                         44715 non-null  object        \n",
      " 32  Zoning Category                         44715 non-null  object        \n",
      "dtypes: bool(1), datetime64[ns](1), float64(10), object(21)\n",
      "memory usage: 11.3+ MB\n"
     ]
    }
   ],
   "source": [
    "vacant_lots_df.info()"
   ]
  },
  {
   "cell_type": "code",
   "execution_count": 25,
   "id": "f12f07d8-678f-4cfc-98d8-fd3b4a00871f",
   "metadata": {},
   "outputs": [
    {
     "data": {
      "text/plain": [
       "Parcel ID                                     0\n",
       "Address                                       0\n",
       "Owner                                         0\n",
       "Is Vacant Property                            0\n",
       "Property Type                                 0\n",
       "Current Use                                   0\n",
       "Year Built                                32004\n",
       "Average Year Built By Council District       31\n",
       "Owner is Business                             0\n",
       "Owner Occupied                                0\n",
       "Suspected Heir Property                       0\n",
       "Taxes Delinquent Since                    39339\n",
       "Delinquent Taxes                          39339\n",
       "Is Tax Delinquent                             0\n",
       "Code Liens - Count                        38019\n",
       "Code Liens - Amount                       38019\n",
       "Zip Code                                      4\n",
       "Zoning                                     8638\n",
       "Council District                             31\n",
       "Land Size                                     0\n",
       "Vacant Since                              37396\n",
       "Owner Location                             3791\n",
       "Owner Property Count                       3791\n",
       "Owner Public Name                         41517\n",
       "Public Owner                                  0\n",
       "Bank Owned Property                           0\n",
       "City or County Owned                          0\n",
       "Council District Number                      31\n",
       "Property Age Years                        32004\n",
       "Vacancy Days                              37396\n",
       "Zoning Category 3                          8638\n",
       "Owner is Church                               0\n",
       "Zoning Category                               0\n",
       "dtype: int64"
      ]
     },
     "execution_count": 25,
     "metadata": {},
     "output_type": "execute_result"
    }
   ],
   "source": [
    "vacant_lots_df.isnull().sum()"
   ]
  },
  {
   "cell_type": "code",
   "execution_count": 26,
   "id": "197c9cfc-7393-4543-9922-8aca00bce068",
   "metadata": {
    "scrolled": true
   },
   "outputs": [
    {
     "data": {
      "text/plain": [
       "Index(['Parcel ID', 'Address', 'Owner', 'Is Vacant Property', 'Property Type',\n",
       "       'Current Use', 'Year Built', 'Average Year Built By Council District',\n",
       "       'Owner is Business', 'Owner Occupied', 'Suspected Heir Property',\n",
       "       'Taxes Delinquent Since', 'Delinquent Taxes', 'Is Tax Delinquent',\n",
       "       'Code Liens - Count', 'Code Liens - Amount', 'Zip Code', 'Zoning',\n",
       "       'Council District', 'Land Size', 'Vacant Since', 'Owner Location',\n",
       "       'Owner Property Count', 'Owner Public Name', 'Public Owner',\n",
       "       'Bank Owned Property', 'City or County Owned',\n",
       "       'Council District Number', 'Property Age Years', 'Vacancy Days',\n",
       "       'Zoning Category 3', 'Owner is Church', 'Zoning Category'],\n",
       "      dtype='object')"
      ]
     },
     "execution_count": 26,
     "metadata": {},
     "output_type": "execute_result"
    }
   ],
   "source": [
    "vacant_lots_df.columns"
   ]
  },
  {
   "cell_type": "markdown",
   "id": "51e21aa1",
   "metadata": {},
   "source": [
    "# Check vacancy dates"
   ]
  },
  {
   "cell_type": "code",
   "execution_count": 27,
   "id": "96ac4530",
   "metadata": {},
   "outputs": [
    {
     "data": {
      "text/plain": [
       "count    44715.000000\n",
       "mean         1.340455\n",
       "std         27.316516\n",
       "min          0.000000\n",
       "25%          0.134100\n",
       "50%          0.180391\n",
       "75%          0.369136\n",
       "max       5322.378832\n",
       "Name: Land Size, dtype: float64"
      ]
     },
     "execution_count": 27,
     "metadata": {},
     "output_type": "execute_result"
    }
   ],
   "source": [
    "vacant_lots_df['Land Size'].describe()"
   ]
  },
  {
   "cell_type": "code",
   "execution_count": 28,
   "id": "d443fec1",
   "metadata": {},
   "outputs": [
    {
     "data": {
      "text/plain": [
       "array(['2022-07-01T00:00:00.000000000',                           'NaT',\n",
       "       '2023-09-04T00:00:00.000000000', '2023-03-01T00:00:00.000000000',\n",
       "       '2024-03-04T00:00:00.000000000', '2023-12-01T00:00:00.000000000',\n",
       "       '2024-05-01T00:00:00.000000000', '2022-09-01T00:00:00.000000000',\n",
       "       '2022-12-02T00:00:00.000000000', '2023-05-01T00:00:00.000000000'],\n",
       "      dtype='datetime64[ns]')"
      ]
     },
     "execution_count": 28,
     "metadata": {},
     "output_type": "execute_result"
    }
   ],
   "source": [
    "pd.unique(vacant_lots_df['Vacant Since'])"
   ]
  },
  {
   "cell_type": "code",
   "execution_count": 29,
   "id": "9ef560c2",
   "metadata": {},
   "outputs": [
    {
     "data": {
      "text/plain": [
       "2022-07-01     4519\n",
       "2022-09-01      154\n",
       "2022-12-02      204\n",
       "2023-03-01      319\n",
       "2023-05-01       15\n",
       "2023-09-04      534\n",
       "2023-12-01      357\n",
       "2024-03-04      763\n",
       "2024-05-01      454\n",
       "NaT           37396\n",
       "Name: Vacant Since, dtype: int64"
      ]
     },
     "execution_count": 29,
     "metadata": {},
     "output_type": "execute_result"
    }
   ],
   "source": [
    "vacant_lots_df['Vacant Since'].value_counts(dropna=False, sort=False).sort_index()"
   ]
  },
  {
   "cell_type": "markdown",
   "id": "ff11c319",
   "metadata": {},
   "source": [
    "# Analyses"
   ]
  },
  {
   "cell_type": "code",
   "execution_count": 30,
   "id": "e35df33f-c326-41d0-8484-2b2c2cb343e0",
   "metadata": {},
   "outputs": [],
   "source": [
    "#Sets results for dict\n",
    "results = {}"
   ]
  },
  {
   "cell_type": "code",
   "execution_count": 31,
   "id": "d7dc2da6-898a-48fd-a8c3-30062001ae17",
   "metadata": {},
   "outputs": [],
   "source": [
    "#1.How many vacant lots are in each council district?\n",
    "\n",
    "#Groups Council distrcits column and \n",
    "vacant_lots_counts_by_district  = land_df.groupby('Council District').size()\n"
   ]
  },
  {
   "cell_type": "code",
   "execution_count": 32,
   "id": "dbd151ae-57aa-481d-a6af-5cb3a7fc8da1",
   "metadata": {},
   "outputs": [
    {
     "data": {
      "text/plain": [
       "{'question_number': 1,\n",
       " 'value': Council District\n",
       " District 01    1415\n",
       " District 02    2480\n",
       " District 03    1909\n",
       " District 04    3838\n",
       " District 05    1800\n",
       " District 06    4647\n",
       " District 07    4962\n",
       " District 08    3896\n",
       " District 09     310\n",
       " District 10     540\n",
       " District 11     469\n",
       " District 12     244\n",
       " District 13     625\n",
       " District 14    1135\n",
       " dtype: int64}"
      ]
     },
     "execution_count": 32,
     "metadata": {},
     "output_type": "execute_result"
    }
   ],
   "source": [
    "#dictonary that starts the result values\n",
    "results[\"How many vacant lots are in each council district?\"] = {\n",
    "    'question_number': 1,\n",
    "    'value': vacant_lots_counts_by_district\n",
    "}\n",
    "\n",
    "results[\"How many vacant lots are in each council district?\"]\n"
   ]
  },
  {
   "cell_type": "code",
   "execution_count": 33,
   "id": "52264ec8-f5a8-4027-a3c5-bc646de98b51",
   "metadata": {},
   "outputs": [],
   "source": [
    "#2 How long have the vacant lots in each council district been vacant? \n",
    "vacant_lots_stats = land_df.groupby('Council District')['Vacancy Days'].agg(['min','median', 'mean', 'max'])\n",
    "\n",
    "# Rename the columns for clarity\n",
    "vacant_lots_stats.columns = ['Min Days', 'Median Days', 'Mean Days', 'Max Days']\n"
   ]
  },
  {
   "cell_type": "code",
   "execution_count": 34,
   "id": "112868d3-cd7b-42ea-9942-18b298b9eeb8",
   "metadata": {},
   "outputs": [
    {
     "data": {
      "text/plain": [
       "{'question_number': 2,\n",
       " 'value':                   Min Days  Median Days   Mean Days  Max Days\n",
       " Council District                                             \n",
       " District 01          372.0        802.0  771.285714     802.0\n",
       " District 02          132.0        802.0  719.868421     802.0\n",
       " District 03          802.0        802.0  802.000000     802.0\n",
       " District 04          132.0        802.0  750.995261     802.0\n",
       " District 05          284.0        802.0  779.953846     802.0\n",
       " District 06          132.0        802.0  784.612903     802.0\n",
       " District 07          132.0        802.0  704.743191     802.0\n",
       " District 08          132.0        802.0  693.476744     802.0\n",
       " District 09          190.0        802.0  675.230769     802.0\n",
       " District 10          190.0        802.0  696.611111     802.0\n",
       " District 11          190.0        802.0  732.533333     802.0\n",
       " District 12          802.0        802.0  802.000000     802.0\n",
       " District 13          132.0        802.0  693.043478     802.0\n",
       " District 14          190.0        802.0  718.057143     802.0}"
      ]
     },
     "execution_count": 34,
     "metadata": {},
     "output_type": "execute_result"
    }
   ],
   "source": [
    "\n",
    "results[\"How long have the vacant lots in each council district been vacant?\"] = {\n",
    "    'question_number': 2,\n",
    "    'value': vacant_lots_stats\n",
    "}\n",
    "\n",
    "\n",
    "results[\"How long have the vacant lots in each council district been vacant?\"]"
   ]
  },
  {
   "cell_type": "code",
   "execution_count": 35,
   "id": "db4cd3c8-6dd1-4c37-b7e4-8d8302429eea",
   "metadata": {},
   "outputs": [],
   "source": [
    "# 3 How many are zoned single family residential, commercial and multifamily? <-- rows are council District; columns are counts within each of the 3 zoning types\n",
    "\n",
    "# Group by 'Council District' and 'Zoning Category', then count occurrences\n",
    "#zoning_category_counts = vacant_lots_df.groupby(['Council District', 'Zoning Category']).size().unstack(fill_value=0)\n"
   ]
  },
  {
   "cell_type": "code",
   "execution_count": 36,
   "id": "c4c2fdee-5cae-4247-8cec-2d9fbb65b8b8",
   "metadata": {},
   "outputs": [
    {
     "data": {
      "text/plain": [
       "'results[\" How many are zoned single family residential, commercial and multifamily? <-- rows are council District; columns are counts within each of the 3 zoning types\"] = {\\n    \\'question_number\\': 3,\\n    \\'value\\': zoning_category_counts\\n}\\n\\nresults'"
      ]
     },
     "execution_count": 36,
     "metadata": {},
     "output_type": "execute_result"
    }
   ],
   "source": [
    "\n",
    "'''results[\" How many are zoned single family residential, commercial and multifamily? <-- rows are council District; columns are counts within each of the 3 zoning types\"] = {\n",
    "    'question_number': 3,\n",
    "    'value': zoning_category_counts\n",
    "}\n",
    "\n",
    "results'''"
   ]
  },
  {
   "cell_type": "code",
   "execution_count": 37,
   "id": "c9fd405d",
   "metadata": {},
   "outputs": [],
   "source": [
    "#3 How many vacant lots in each council district are zoned single family residential, commercial and multifamily \n",
    "\n",
    "# Group by 'Council District' and 'Zoning Category', then count occurrences\n",
    "zoning_category_counts_3 = land_df.groupby(['Council District', 'Zoning Category 3']).size().unstack(fill_value=0)\n"
   ]
  },
  {
   "cell_type": "code",
   "execution_count": 38,
   "id": "42dfb6e9",
   "metadata": {},
   "outputs": [
    {
     "data": {
      "text/plain": [
       "{'question_number': 3,\n",
       " 'value': Zoning Category 3  Commercial  Multifamily  Other  Single Family\n",
       " Council District                                                \n",
       " District 01                 3           76    995            284\n",
       " District 02               202          281   1471            127\n",
       " District 03                23          124    968            766\n",
       " District 04               107          302   1495           1928\n",
       " District 05                16           49    802            933\n",
       " District 06               124           92   2117           1429\n",
       " District 07               163          277    981            427\n",
       " District 08               243          115   1157           2368\n",
       " District 09                 9           16    118             53\n",
       " District 10                 8           95    298             55\n",
       " District 11                 0           26    332            111\n",
       " District 12                 0           50    105             89\n",
       " District 13                 2           91    313            189\n",
       " District 14                 1          112    700              6}"
      ]
     },
     "execution_count": 38,
     "metadata": {},
     "output_type": "execute_result"
    }
   ],
   "source": [
    "\n",
    "results[\"How many are zoned single family residential, commercial and multifamily?\"] = {\n",
    "    'question_number': 3,\n",
    "    'value': zoning_category_counts_3\n",
    "}\n",
    "\n",
    "\n",
    "results[\"How many are zoned single family residential, commercial and multifamily?\"]"
   ]
  },
  {
   "cell_type": "code",
   "execution_count": 39,
   "id": "9ecbb9bd-a926-4212-adfc-ecf66ad3baf0",
   "metadata": {},
   "outputs": [],
   "source": [
    "# 4. How many vacant structures are in each council district?\n",
    "\n",
    "# Groups Council District by structure and vacant property\n",
    "\n",
    "# Grouping by 'Council District' and counting occurrences\n",
    "vacant_structure_count = structure_df.groupby('Council District').size()"
   ]
  },
  {
   "cell_type": "code",
   "execution_count": 40,
   "id": "f1cf0e4c-f202-41ea-8b10-7eb7716161d2",
   "metadata": {},
   "outputs": [
    {
     "data": {
      "text/plain": [
       "{'question_number': 4,\n",
       " 'value': Council District\n",
       " District 01     759\n",
       " District 02    1714\n",
       " District 03     630\n",
       " District 04    2194\n",
       " District 05     743\n",
       " District 06    1986\n",
       " District 07    1917\n",
       " District 08    1581\n",
       " District 09    1080\n",
       " District 10     538\n",
       " District 11     545\n",
       " District 12     168\n",
       " District 13    1511\n",
       " District 14    1048\n",
       " dtype: int64}"
      ]
     },
     "execution_count": 40,
     "metadata": {},
     "output_type": "execute_result"
    }
   ],
   "source": [
    "\n",
    "results[\"How many vacant structures are in each council district?\"] = {\n",
    "    'question_number': 4,\n",
    "    'value': vacant_structure_count\n",
    "}\n",
    "\n",
    "results[\"How many vacant structures are in each council district?\"]"
   ]
  },
  {
   "cell_type": "code",
   "execution_count": 41,
   "id": "ba28cd70-5bb8-48f9-8fe2-bdc53dbae63c",
   "metadata": {},
   "outputs": [],
   "source": [
    "#5 How long have the vacant structures in each council district been vacant? (see question 2)\n",
    "vacant_structure_count_days = structure_df.groupby('Council District')['Vacancy Days'].agg(['min','median', 'mean', 'max'])\n",
    "\n",
    "# Rename the columns for clarity\n",
    "vacant_structure_count_days.columns = ['Min Days', 'Median Days', 'Mean Days', 'Max Days']\n"
   ]
  },
  {
   "cell_type": "code",
   "execution_count": 42,
   "id": "51203e53-d0f5-4d2e-9e44-711222f64f73",
   "metadata": {},
   "outputs": [
    {
     "data": {
      "text/plain": [
       "{'question_number': 5,\n",
       " 'value':                   Min Days  Median Days   Mean Days  Max Days\n",
       " Council District                                             \n",
       " District 01          132.0        802.0  693.733333     802.0\n",
       " District 02          132.0        559.0  561.737659     802.0\n",
       " District 03          132.0        802.0  622.178423     802.0\n",
       " District 04          132.0        802.0  677.190184     802.0\n",
       " District 05          132.0        802.0  680.896458     802.0\n",
       " District 06          132.0        802.0  662.519766     802.0\n",
       " District 07          132.0        802.0  595.374819     802.0\n",
       " District 08          132.0        802.0  625.880829     802.0\n",
       " District 09          132.0        559.0  503.275789     802.0\n",
       " District 10          132.0        372.0  454.618812     802.0\n",
       " District 11          132.0        740.0  533.723926     802.0\n",
       " District 12          132.0        559.0  566.812500     802.0\n",
       " District 13          132.0        648.0  529.259188     802.0\n",
       " District 14          132.0        559.0  538.014164     802.0}"
      ]
     },
     "execution_count": 42,
     "metadata": {},
     "output_type": "execute_result"
    }
   ],
   "source": [
    "\n",
    "results[\"How long have the vacant structures in each council district been vacant? (see question 2)\"] = {\n",
    "    'question_number': 5,\n",
    "    'value': vacant_structure_count_days\n",
    "}\n",
    "\n",
    "results[\"How long have the vacant structures in each council district been vacant? (see question 2)\"]"
   ]
  },
  {
   "cell_type": "code",
   "execution_count": 43,
   "id": "9d0600cb-c7b9-41a8-98fe-c245992e90d5",
   "metadata": {},
   "outputs": [],
   "source": [
    "\n",
    "#6 How many vacant structures in each council district are zoned single family residential, commercial and multifamily? (see question 3)\n",
    "\n",
    "zoning_category_counts_structure = structure_df.groupby(['Council District', 'Zoning Category 3']).size().unstack(fill_value=0)\n"
   ]
  },
  {
   "cell_type": "code",
   "execution_count": 44,
   "id": "30adcbe3-2cf3-4ba6-a86f-c9339fd6088b",
   "metadata": {},
   "outputs": [
    {
     "data": {
      "text/plain": [
       "{'question_number': 6,\n",
       " 'value': Zoning Category 3  Commercial  Multifamily  Other  Single Family\n",
       " Council District                                                \n",
       " District 01                 4           41    396            283\n",
       " District 02                53          334    607             82\n",
       " District 03                 6           23    164            433\n",
       " District 04                14          100    320           1758\n",
       " District 05                 9           37    103            594\n",
       " District 06                16           94    716            845\n",
       " District 07                31          149    301            290\n",
       " District 08                24           30    407           1119\n",
       " District 09                 4           58    173             76\n",
       " District 10                 6           36    224            102\n",
       " District 11                 0           36    256            253\n",
       " District 12                 0           26     80             62\n",
       " District 13                 0           61    429            994\n",
       " District 14                 1          136    417             36}"
      ]
     },
     "execution_count": 44,
     "metadata": {},
     "output_type": "execute_result"
    }
   ],
   "source": [
    "\n",
    "results[\"How many vacant structures in each council district are zoned single family residential, commercial and multifamily? (see question 3)\"] = {\n",
    "    'question_number': 6,\n",
    "    'value': zoning_category_counts_structure\n",
    "}\n",
    "\n",
    "results[\"How many vacant structures in each council district are zoned single family residential, commercial and multifamily? (see question 3)\"] \n"
   ]
  },
  {
   "cell_type": "code",
   "execution_count": 45,
   "id": "6947266c-2298-44b0-8bb1-8c3acc09e34f",
   "metadata": {},
   "outputs": [],
   "source": [
    "#7.How many vacant lots are in each zip code?\n",
    "\n",
    "# Groups the zip code and if property is vacant and produces the count \n",
    "vacant_lots_counts_by_zip = land_df.groupby('Zip Code').size()\n",
    "\n",
    "# Convert index (zip codes) to integers to remove the .0 decimal part\n",
    "vacant_lots_counts_by_zip.index = vacant_lots_counts_by_zip.index.astype(int)"
   ]
  },
  {
   "cell_type": "code",
   "execution_count": 46,
   "id": "131cfafc-4138-4d5e-ada7-503068707ced",
   "metadata": {},
   "outputs": [
    {
     "data": {
      "text/plain": [
       "{'question_number': 7,\n",
       " 'value': Zip Code\n",
       " 75006       7\n",
       " 75019      66\n",
       " 75041       1\n",
       " 75043      11\n",
       " 75050       1\n",
       " 75051      18\n",
       " 75060       2\n",
       " 75062       3\n",
       " 75063      11\n",
       " 75080      14\n",
       " 75081       2\n",
       " 75104       4\n",
       " 75134       1\n",
       " 75141       8\n",
       " 75149       9\n",
       " 75150      14\n",
       " 75159      10\n",
       " 75181       4\n",
       " 75182       8\n",
       " 75201     362\n",
       " 75202     154\n",
       " 75203    2285\n",
       " 75204     523\n",
       " 75205      42\n",
       " 75206     245\n",
       " 75207     473\n",
       " 75208     966\n",
       " 75209     172\n",
       " 75210    1050\n",
       " 75211     956\n",
       " 75212    2685\n",
       " 75214     195\n",
       " 75215    2935\n",
       " 75216    2122\n",
       " 75217    2084\n",
       " 75218     117\n",
       " 75219     351\n",
       " 75220     457\n",
       " 75223     844\n",
       " 75224     282\n",
       " 75225     114\n",
       " 75226     479\n",
       " 75227     626\n",
       " 75228     283\n",
       " 75229     376\n",
       " 75230     249\n",
       " 75231     224\n",
       " 75232     350\n",
       " 75233     194\n",
       " 75234      25\n",
       " 75235     365\n",
       " 75236     601\n",
       " 75237     324\n",
       " 75238     136\n",
       " 75240     114\n",
       " 75241    2092\n",
       " 75243     370\n",
       " 75244      27\n",
       " 75246     138\n",
       " 75247     311\n",
       " 75248     275\n",
       " 75249     108\n",
       " 75251       7\n",
       " 75252      34\n",
       " 75253     917\n",
       " 75254      60\n",
       " 75270       2\n",
       " 75287       1\n",
       " dtype: int64}"
      ]
     },
     "execution_count": 46,
     "metadata": {},
     "output_type": "execute_result"
    }
   ],
   "source": [
    "\n",
    "results[\"How many vacant lots are in each zip code?\"] = {\n",
    "    'question_number': 7,\n",
    "    'value': vacant_lots_counts_by_zip\n",
    "}\n",
    "\n",
    "results[\"How many vacant lots are in each zip code?\"]"
   ]
  },
  {
   "cell_type": "code",
   "execution_count": 47,
   "id": "20706e3a-5456-4881-b1b7-d9c7e23e15ff",
   "metadata": {},
   "outputs": [],
   "source": [
    "#8 How long have the vacant lots in each zip code been vacant?\n",
    "vacant_zips_count_days = land_df.groupby('Zip Code')['Vacancy Days'].agg(['min','median', 'mean', 'max'])\n",
    "\n",
    "# Convert index (zip codes) to integers to remove the .0 decimal part\n",
    "vacant_zips_count_days.index = vacant_zips_count_days.index.astype(int)\n",
    "\n",
    "# Rename the columns for clarity\n",
    "vacant_zips_count_days.columns = ['Min Days', 'Median Days', 'Mean Days', 'Max Days']"
   ]
  },
  {
   "cell_type": "code",
   "execution_count": 48,
   "id": "ce8c6eed-e3bd-485f-a1b7-2b55425c77cb",
   "metadata": {},
   "outputs": [
    {
     "data": {
      "text/plain": [
       "{'question_number': 8,\n",
       " 'value':           Min Days  Median Days   Mean Days  Max Days\n",
       " Zip Code                                             \n",
       " 75006          NaN          NaN         NaN       NaN\n",
       " 75019          NaN          NaN         NaN       NaN\n",
       " 75041          NaN          NaN         NaN       NaN\n",
       " 75043          NaN          NaN         NaN       NaN\n",
       " 75050          NaN          NaN         NaN       NaN\n",
       " 75051          NaN          NaN         NaN       NaN\n",
       " 75060          NaN          NaN         NaN       NaN\n",
       " 75062          NaN          NaN         NaN       NaN\n",
       " 75063          NaN          NaN         NaN       NaN\n",
       " 75080          NaN          NaN         NaN       NaN\n",
       " 75081          NaN          NaN         NaN       NaN\n",
       " 75104          NaN          NaN         NaN       NaN\n",
       " 75134          NaN          NaN         NaN       NaN\n",
       " 75141          NaN          NaN         NaN       NaN\n",
       " 75149          NaN          NaN         NaN       NaN\n",
       " 75150          NaN          NaN         NaN       NaN\n",
       " 75159          NaN          NaN         NaN       NaN\n",
       " 75181          NaN          NaN         NaN       NaN\n",
       " 75182          NaN          NaN         NaN       NaN\n",
       " 75201        372.0        802.0  740.571429     802.0\n",
       " 75202        802.0        802.0  802.000000     802.0\n",
       " 75203        132.0        802.0  776.523077     802.0\n",
       " 75204        190.0        802.0  628.823529     802.0\n",
       " 75205          NaN          NaN         NaN       NaN\n",
       " 75206        284.0        802.0  744.444444     802.0\n",
       " 75207        740.0        802.0  781.333333     802.0\n",
       " 75208        132.0        802.0  760.648649     802.0\n",
       " 75209        802.0        802.0  802.000000     802.0\n",
       " 75210        802.0        802.0  802.000000     802.0\n",
       " 75211        802.0        802.0  802.000000     802.0\n",
       " 75212        132.0        802.0  789.595238     802.0\n",
       " 75214        284.0        802.0  684.000000     802.0\n",
       " 75215        132.0        802.0  645.948276     802.0\n",
       " 75216        132.0        802.0  698.379310     802.0\n",
       " 75217        190.0        802.0  758.373626     802.0\n",
       " 75218        190.0        802.0  566.571429     802.0\n",
       " 75219        372.0        802.0  765.500000     802.0\n",
       " 75220        802.0        802.0  802.000000     802.0\n",
       " 75223        190.0        802.0  744.051282     802.0\n",
       " 75224        190.0        802.0  557.200000     802.0\n",
       " 75225        802.0        802.0  802.000000     802.0\n",
       " 75226        284.0        802.0  715.666667     802.0\n",
       " 75227        559.0        802.0  782.043478     802.0\n",
       " 75228        802.0        802.0  802.000000     802.0\n",
       " 75229        132.0        802.0  696.269231     802.0\n",
       " 75230        372.0        802.0  754.222222     802.0\n",
       " 75231          NaN          NaN         NaN       NaN\n",
       " 75232        190.0        802.0  751.000000     802.0\n",
       " 75233        802.0        802.0  802.000000     802.0\n",
       " 75234          NaN          NaN         NaN       NaN\n",
       " 75235        132.0        802.0  727.555556     802.0\n",
       " 75236        802.0        802.0  802.000000     802.0\n",
       " 75237        802.0        802.0  802.000000     802.0\n",
       " 75238          NaN          NaN         NaN       NaN\n",
       " 75240        190.0        802.0  679.600000     802.0\n",
       " 75241        132.0        802.0  673.702128     802.0\n",
       " 75243        190.0        802.0  696.611111     802.0\n",
       " 75244          NaN          NaN         NaN       NaN\n",
       " 75246        802.0        802.0  802.000000     802.0\n",
       " 75247        372.0        802.0  730.333333     802.0\n",
       " 75248        802.0        802.0  802.000000     802.0\n",
       " 75249          NaN          NaN         NaN       NaN\n",
       " 75251        802.0        802.0  802.000000     802.0\n",
       " 75252          NaN          NaN         NaN       NaN\n",
       " 75253          NaN          NaN         NaN       NaN\n",
       " 75254          NaN          NaN         NaN       NaN\n",
       " 75270          NaN          NaN         NaN       NaN\n",
       " 75287          NaN          NaN         NaN       NaN}"
      ]
     },
     "execution_count": 48,
     "metadata": {},
     "output_type": "execute_result"
    }
   ],
   "source": [
    "\n",
    "results[\"How long have the vacant lots in each zip code been vacant?\"] = {\n",
    "    'question_number': 8,\n",
    "    'value': vacant_zips_count_days\n",
    "}\n",
    "\n",
    "results[\"How long have the vacant lots in each zip code been vacant?\"] "
   ]
  },
  {
   "cell_type": "code",
   "execution_count": 49,
   "id": "bbae9fff-9c6f-457c-be12-964af06e0b40",
   "metadata": {},
   "outputs": [],
   "source": [
    "#9 How many vacant lots in each zip code are zoned single family residential, commercial and multifamily?\n",
    "\n",
    "\n",
    "zoning_category_counts_zip = land_df.groupby(['Zip Code', 'Zoning Category 3']).size().unstack(fill_value=0)\n",
    "\n",
    "# Convert index (zip codes) to integers to remove the .0 decimal part\n",
    "zoning_category_counts_zip.index = zoning_category_counts_zip.index.astype(int)"
   ]
  },
  {
   "cell_type": "code",
   "execution_count": 50,
   "id": "5229a787-4836-43ff-ad77-a3172e291564",
   "metadata": {},
   "outputs": [
    {
     "data": {
      "text/plain": [
       "{'question_number': 9,\n",
       " 'value': Zoning Category 3  Commercial  Multifamily  Other  Single Family\n",
       " Zip Code                                                        \n",
       " 75006                       0            0      6              0\n",
       " 75019                       0            0     12              0\n",
       " 75043                       0            0      7              0\n",
       " 75051                       1            0     11              6\n",
       " 75060                       0            0      1              0\n",
       " 75062                       0            0      3              0\n",
       " 75063                       0            0      2              0\n",
       " 75080                       0            0     14              0\n",
       " 75081                       0            1      1              0\n",
       " 75104                       0            0      3              1\n",
       " 75134                       0            0      0              1\n",
       " 75141                       0            0      8              0\n",
       " 75149                       0            0      9              0\n",
       " 75150                       0            0      8              0\n",
       " 75159                       0            0      8              2\n",
       " 75181                       0            0      4              0\n",
       " 75182                       0            0      8              0\n",
       " 75201                       0            0    263              0\n",
       " 75202                       0            0    144              0\n",
       " 75203                      25          193   1451            612\n",
       " 75204                       0          135    318             10\n",
       " 75205                       0            0      5              0\n",
       " 75206                       1           75    161              4\n",
       " 75207                       1            0    388              0\n",
       " 75208                      10           31    750            156\n",
       " 75209                       2            7    104             37\n",
       " 75210                       1            3     69             38\n",
       " 75211                      22           41    413            444\n",
       " 75212                      83           72   1208           1321\n",
       " 75214                       0           53     46             44\n",
       " 75215                       1            0    786             22\n",
       " 75216                     139           89    524           1370\n",
       " 75217                      29           61    851           1143\n",
       " 75218                       4            7     40             11\n",
       " 75219                       0            0     16              0\n",
       " 75220                      29           22    129             34\n",
       " 75223                     249          250    235            110\n",
       " 75224                       3           45    104            126\n",
       " 75225                       0            0     68             46\n",
       " 75226                      29           21    388              0\n",
       " 75227                       7           83    208            328\n",
       " 75228                       5           50    149             27\n",
       " 75229                       3            2     79             68\n",
       " 75230                       0            8    187             54\n",
       " 75231                       0           68    121              1\n",
       " 75232                       0           40     88            221\n",
       " 75233                       0           15     57            122\n",
       " 75234                       0            2     19              1\n",
       " 75235                      10           17    164             18\n",
       " 75236                       1           57    439            101\n",
       " 75237                       1           10    180            133\n",
       " 75238                      10           15     75              0\n",
       " 75240                       0           13     87             14\n",
       " 75241                     101           64    551           1364\n",
       " 75243                       3           67    214             54\n",
       " 75244                       0           15      5              7\n",
       " 75246                       2            0    118             18\n",
       " 75247                       0            0     66              0\n",
       " 75248                       0           47    119            109\n",
       " 75249                       0            1     69             13\n",
       " 75251                       0            0      7              0\n",
       " 75252                       0            6     10             18\n",
       " 75253                     130           15    237            535\n",
       " 75254                       0            5     33             22\n",
       " 75270                       0            0      2              0\n",
       " 75287                       0            0      1              0}"
      ]
     },
     "execution_count": 50,
     "metadata": {},
     "output_type": "execute_result"
    }
   ],
   "source": [
    "\n",
    "results[\"How many vacant lots in each zip code are zoned single family residential, commercial and multifamily?\"] = {\n",
    "    'question_number': 9,\n",
    "    'value': zoning_category_counts_zip\n",
    "}\n",
    "\n",
    "results[\"How many vacant lots in each zip code are zoned single family residential, commercial and multifamily?\"]"
   ]
  },
  {
   "cell_type": "code",
   "execution_count": 51,
   "id": "fc1bca64-5ad5-4dbd-b77c-e0b67b19a97c",
   "metadata": {},
   "outputs": [],
   "source": [
    "#10 How many vacant structures are in each zip code?\n",
    "\n",
    "# Groups the zip code and if property is vacant and produces the count \n",
    "vacant_structure_counts_by_zip = structure_df.groupby('Zip Code').size()\n",
    "\n",
    "# Convert index (zip codes) to integers to remove the .0 decimal part\n",
    "vacant_structure_counts_by_zip.index = vacant_structure_counts_by_zip.index.astype(int)"
   ]
  },
  {
   "cell_type": "code",
   "execution_count": 52,
   "id": "e4ed8647-bed0-4add-9275-b11db710d698",
   "metadata": {},
   "outputs": [
    {
     "data": {
      "text/plain": [
       "{'question_number': 10,\n",
       " 'value': Zip Code\n",
       " 75006       1\n",
       " 75019       1\n",
       " 75042       2\n",
       " 75043       1\n",
       " 75051       6\n",
       " 75062       1\n",
       " 75063       1\n",
       " 75080      36\n",
       " 75081       1\n",
       " 75115       1\n",
       " 75150       1\n",
       " 75201     171\n",
       " 75202      42\n",
       " 75203     519\n",
       " 75204     363\n",
       " 75205      98\n",
       " 75206     388\n",
       " 75207     208\n",
       " 75208     396\n",
       " 75209     422\n",
       " 75210     353\n",
       " 75211     421\n",
       " 75212     961\n",
       " 75214     399\n",
       " 75215     821\n",
       " 75216    1722\n",
       " 75217     825\n",
       " 75218     527\n",
       " 75219     300\n",
       " 75220     451\n",
       " 75223     304\n",
       " 75224     210\n",
       " 75225     229\n",
       " 75226      90\n",
       " 75227     508\n",
       " 75228    1055\n",
       " 75229     624\n",
       " 75230     386\n",
       " 75231     282\n",
       " 75232     287\n",
       " 75233     114\n",
       " 75234      24\n",
       " 75235     273\n",
       " 75236      82\n",
       " 75237      70\n",
       " 75238     170\n",
       " 75240     196\n",
       " 75241     700\n",
       " 75243     312\n",
       " 75244      95\n",
       " 75246      42\n",
       " 75247      93\n",
       " 75248     204\n",
       " 75249      67\n",
       " 75251      11\n",
       " 75252       7\n",
       " 75253     509\n",
       " 75254      31\n",
       " 75270       1\n",
       " dtype: int64}"
      ]
     },
     "execution_count": 52,
     "metadata": {},
     "output_type": "execute_result"
    }
   ],
   "source": [
    "\n",
    "results[\"How many vacant structures are in each zip code?\"] = {\n",
    "    'question_number': 10,\n",
    "    'value': vacant_structure_counts_by_zip\n",
    "}\n",
    "\n",
    "results[\"How many vacant structures are in each zip code?\"]"
   ]
  },
  {
   "cell_type": "code",
   "execution_count": 53,
   "id": "564c83a9-61eb-47a2-8d13-0fea38539967",
   "metadata": {},
   "outputs": [],
   "source": [
    "#11 How long have the vacant structures in each zip code been vacant? (see question 8)\n",
    "vacant_zips_structure_count_days = structure_df.groupby('Zip Code')['Vacancy Days'].agg(['min','median', 'mean', 'max'])\n",
    "\n",
    "# Convert index (zip codes) to integers to remove the .0 decimal part\n",
    "vacant_zips_structure_count_days.index = vacant_zips_structure_count_days.index.astype(int)\n",
    "\n",
    "# Rename the columns for clarity\n",
    "vacant_zips_structure_count_days.columns = ['Min Days', 'Median Days', 'Mean Days', 'Max Days']"
   ]
  },
  {
   "cell_type": "code",
   "execution_count": 54,
   "id": "66e226fb-ad62-434d-8e54-84db58f33b15",
   "metadata": {},
   "outputs": [
    {
     "data": {
      "text/plain": [
       "{'question_number': 11,\n",
       " 'value':           Min Days  Median Days   Mean Days  Max Days\n",
       " Zip Code                                             \n",
       " 75006          NaN          NaN         NaN       NaN\n",
       " 75019          NaN          NaN         NaN       NaN\n",
       " 75042        190.0        419.0  419.000000     648.0\n",
       " 75043          NaN          NaN         NaN       NaN\n",
       " 75051          NaN          NaN         NaN       NaN\n",
       " 75062          NaN          NaN         NaN       NaN\n",
       " 75063          NaN          NaN         NaN       NaN\n",
       " 75080          NaN          NaN         NaN       NaN\n",
       " 75081          NaN          NaN         NaN       NaN\n",
       " 75115          NaN          NaN         NaN       NaN\n",
       " 75150          NaN          NaN         NaN       NaN\n",
       " 75201        372.0        740.0  651.687500     802.0\n",
       " 75202        372.0        802.0  730.333333     802.0\n",
       " 75203        132.0        802.0  674.671362     802.0\n",
       " 75204        132.0        372.0  442.604167     802.0\n",
       " 75205        132.0        802.0  641.619048     802.0\n",
       " 75206        132.0        559.0  534.791667     802.0\n",
       " 75207        132.0        802.0  724.144000     802.0\n",
       " 75208        284.0        802.0  766.712329     802.0\n",
       " 75209        132.0        648.0  534.017341     802.0\n",
       " 75210        132.0        802.0  591.333333     802.0\n",
       " 75211        132.0        802.0  736.198895     802.0\n",
       " 75212        132.0        802.0  670.651584     802.0\n",
       " 75214        132.0        648.0  547.917160     802.0\n",
       " 75215        132.0        559.0  501.234848     802.0\n",
       " 75216        132.0        802.0  695.378316     802.0\n",
       " 75217        132.0        802.0  644.015823     802.0\n",
       " 75218        132.0        372.0  507.483412     802.0\n",
       " 75219        132.0        648.0  627.480769     802.0\n",
       " 75220        132.0        802.0  605.358209     802.0\n",
       " 75223        132.0        802.0  523.957143     802.0\n",
       " 75224        132.0        372.0  491.450000     802.0\n",
       " 75225        132.0        190.0  386.227723     802.0\n",
       " 75226        132.0        802.0  569.160000     802.0\n",
       " 75227        132.0        802.0  731.790036     802.0\n",
       " 75228        132.0        559.0  556.232653     802.0\n",
       " 75229        132.0        802.0  620.606164     802.0\n",
       " 75230        132.0        372.0  464.151515     802.0\n",
       " 75231        132.0        190.0  355.640000     802.0\n",
       " 75232        132.0        603.5  504.843284     802.0\n",
       " 75233        132.0        802.0  563.513514     802.0\n",
       " 75234        132.0        802.0  588.571429     802.0\n",
       " 75235        132.0        802.0  638.392857     802.0\n",
       " 75236        372.0        802.0  780.500000     802.0\n",
       " 75237        190.0        802.0  555.444444     802.0\n",
       " 75238        132.0        559.0  547.562500     802.0\n",
       " 75240        132.0        802.0  551.125000     802.0\n",
       " 75241        132.0        802.0  663.370861     802.0\n",
       " 75243        132.0        372.0  457.281481     802.0\n",
       " 75244        132.0        284.0  420.909091     802.0\n",
       " 75246        132.0        372.0  537.100000     802.0\n",
       " 75247        132.0        802.0  701.571429     802.0\n",
       " 75248        132.0        771.0  584.818182     802.0\n",
       " 75249        132.0        802.0  615.727273     802.0\n",
       " 75251          NaN          NaN         NaN       NaN\n",
       " 75252          NaN          NaN         NaN       NaN\n",
       " 75253          NaN          NaN         NaN       NaN\n",
       " 75254        132.0        559.0  472.095238     802.0\n",
       " 75270          NaN          NaN         NaN       NaN}"
      ]
     },
     "execution_count": 54,
     "metadata": {},
     "output_type": "execute_result"
    }
   ],
   "source": [
    "\n",
    "results[\"How long have the vacant structures in each zip code been vacant? (see question 8)\"] = {\n",
    "    'question_number': 11,\n",
    "    'value': vacant_zips_structure_count_days\n",
    "}\n",
    "\n",
    "results[\"How long have the vacant structures in each zip code been vacant? (see question 8)\"]"
   ]
  },
  {
   "cell_type": "code",
   "execution_count": 55,
   "id": "51207db8-c9aa-4ba4-af47-23e4814932a8",
   "metadata": {},
   "outputs": [],
   "source": [
    "#12 How many vacant structures in each zip code are zoned single family residential, commercial and multifamily? (see question 9)\n",
    "\n",
    "zoning_category_counts_structure_zip = structure_df.groupby(['Zip Code', 'Zoning Category 3']).size().unstack(fill_value=0)\n",
    "\n",
    "# Convert index (zip codes) to integers to remove the .0 decimal part\n",
    "zoning_category_counts_structure_zip.index = zoning_category_counts_structure_zip.index.astype(int)"
   ]
  },
  {
   "cell_type": "code",
   "execution_count": 56,
   "id": "ed4a74e1-f150-4b69-90c3-896f7460c829",
   "metadata": {},
   "outputs": [
    {
     "data": {
      "text/plain": [
       "{'question_number': 12,\n",
       " 'value': Zoning Category 3  Commercial  Multifamily  Other  Single Family\n",
       " Zip Code                                                        \n",
       " 75006                       0            0      1              0\n",
       " 75042                       0            0      1              1\n",
       " 75051                       0            0      5              1\n",
       " 75062                       0            0      1              0\n",
       " 75080                       0            0     35              1\n",
       " 75081                       0            0      1              0\n",
       " 75115                       0            0      1              0\n",
       " 75150                       0            0      1              0\n",
       " 75201                       0            0    118              0\n",
       " 75202                       0            0     42              0\n",
       " 75203                       1           34    270            213\n",
       " 75204                       4          196    132              3\n",
       " 75205                       0            1      2              0\n",
       " 75206                       1          140    173             27\n",
       " 75207                       0            0    147              0\n",
       " 75208                       7           12    269             84\n",
       " 75209                       0           11    255            131\n",
       " 75210                       0            4      7             19\n",
       " 75211                       5           28    113            264\n",
       " 75212                       6           73    271            611\n",
       " 75214                       0           45     47             28\n",
       " 75215                       0            0    100              0\n",
       " 75216                      25           60    144           1493\n",
       " 75217                      12           28     89            696\n",
       " 75218                       3           38     93             44\n",
       " 75219                       0            0      9              0\n",
       " 75220                       5            9     63            307\n",
       " 75223                      39           56    130             79\n",
       " 75224                       0           15     36            158\n",
       " 75225                       0           20     51            158\n",
       " 75226                       8            7     73              0\n",
       " 75227                       0          116     78            314\n",
       " 75228                      15           46    282              8\n",
       " 75229                       1            6    144            379\n",
       " 75230                       0           23     76            287\n",
       " 75231                       0           23    212              3\n",
       " 75232                       0           11     17            259\n",
       " 75233                       0            0     15             99\n",
       " 75234                       0            0      7             17\n",
       " 75235                       6           44     84             27\n",
       " 75236                       1           14     41             26\n",
       " 75237                       0            1     42             27\n",
       " 75238                       6            4     51              0\n",
       " 75240                       0            4    160             32\n",
       " 75241                       6            6    101            586\n",
       " 75243                       1           25    142             98\n",
       " 75244                       0            4     16             75\n",
       " 75246                       0            0     38              4\n",
       " 75247                       1            0     21              0\n",
       " 75248                       0           35     61            108\n",
       " 75249                       0            5     36             22\n",
       " 75251                       0            0     11              0\n",
       " 75252                       0            0      6              1\n",
       " 75253                      15            5    264            225\n",
       " 75254                       0           12      7             12\n",
       " 75270                       0            0      1              0}"
      ]
     },
     "execution_count": 56,
     "metadata": {},
     "output_type": "execute_result"
    }
   ],
   "source": [
    "\n",
    "results[\"How many vacant structures in each zip code are zoned single family residential, commercial and multifamily? (see question 9)\"] = {\n",
    "    'question_number': 12,\n",
    "    'value': zoning_category_counts_structure_zip\n",
    "}\n",
    "\n",
    "results[\"How many vacant structures in each zip code are zoned single family residential, commercial and multifamily? (see question 9)\"]\n"
   ]
  },
  {
   "cell_type": "code",
   "execution_count": 57,
   "id": "0185e0b6-1ee0-4075-bfea-f404306edcf2",
   "metadata": {},
   "outputs": [],
   "source": [
    "#13 What is the total amount of back taxes owed on vacant land in each City Council District?\n",
    "\n",
    "# Grouping and calculating the total amount of back taxes owed on vacant land by City Council District\n",
    "#Remove vacant prop yes filter\n",
    "back_taxes_total_by_district = land_df.groupby('Council District')['Delinquent Taxes'].sum()"
   ]
  },
  {
   "cell_type": "code",
   "execution_count": 58,
   "id": "bc8d5eef-6569-4104-b574-721daa8b45f4",
   "metadata": {},
   "outputs": [
    {
     "data": {
      "text/plain": [
       "{'question_number': 13,\n",
       " 'value': Council District\n",
       " District 01     6160.27\n",
       " District 02    11819.58\n",
       " District 03     4750.14\n",
       " District 04    18380.90\n",
       " District 05     4320.63\n",
       " District 06    24181.61\n",
       " District 07    14308.83\n",
       " District 08    20124.42\n",
       " District 09      323.05\n",
       " District 10     4755.90\n",
       " District 11      248.13\n",
       " District 12       43.13\n",
       " District 13     1304.02\n",
       " District 14     3511.00\n",
       " Name: Delinquent Taxes, dtype: float64}"
      ]
     },
     "execution_count": 58,
     "metadata": {},
     "output_type": "execute_result"
    }
   ],
   "source": [
    "\n",
    "results[\"What is the total amount of back taxes owed on vacant land in each City Council District?\"] = {\n",
    "    'question_number': 13,\n",
    "    'value': back_taxes_total_by_district\n",
    "}\n",
    "\n",
    "results[\"What is the total amount of back taxes owed on vacant land in each City Council District?\"] "
   ]
  },
  {
   "cell_type": "code",
   "execution_count": 59,
   "id": "163430d4-f1e9-45b5-9ac0-dcc47eb24ecb",
   "metadata": {},
   "outputs": [],
   "source": [
    "#14 What is the total amount of back taxes owed on vacant land in each zip code?\n",
    "\n",
    "# Grouping and calculating the total amount of back taxes owed on vacant land by Zip Code\n",
    "back_taxes_total_by_zip = land_df.groupby('Zip Code')['Delinquent Taxes'].sum()\n",
    "\n",
    "# Convert index (zip codes) to integers to remove the .0 decimal part\n",
    "back_taxes_total_by_zip.index = back_taxes_total_by_zip.index.astype(int)\n"
   ]
  },
  {
   "cell_type": "code",
   "execution_count": 60,
   "id": "707c12d0-845b-46a3-8520-986517785859",
   "metadata": {},
   "outputs": [
    {
     "data": {
      "text/plain": [
       "{'question_number': 14,\n",
       " 'value': Zip Code\n",
       " 75006        0.00\n",
       " 75019        0.45\n",
       " 75041        0.00\n",
       " 75043        0.00\n",
       " 75050        0.00\n",
       " 75051        5.22\n",
       " 75060        0.00\n",
       " 75062        0.00\n",
       " 75063        0.06\n",
       " 75080        0.02\n",
       " 75081        0.18\n",
       " 75104        0.00\n",
       " 75134        0.00\n",
       " 75141        0.00\n",
       " 75149        0.00\n",
       " 75150        0.04\n",
       " 75159        0.00\n",
       " 75181        0.00\n",
       " 75182      203.39\n",
       " 75201     1402.29\n",
       " 75202      634.58\n",
       " 75203    10415.79\n",
       " 75204     3792.79\n",
       " 75205       14.26\n",
       " 75206       68.61\n",
       " 75207      284.97\n",
       " 75208     4725.41\n",
       " 75209      599.87\n",
       " 75210     3201.71\n",
       " 75211     4278.49\n",
       " 75212    16279.24\n",
       " 75214      152.60\n",
       " 75215     8310.52\n",
       " 75216     9869.90\n",
       " 75217     5985.56\n",
       " 75218        0.01\n",
       " 75219     2589.59\n",
       " 75220     2615.65\n",
       " 75223     3204.18\n",
       " 75224      968.65\n",
       " 75225       50.89\n",
       " 75226     2206.49\n",
       " 75227     2261.92\n",
       " 75228      192.07\n",
       " 75229      281.48\n",
       " 75230        2.47\n",
       " 75231     1213.17\n",
       " 75232     1977.30\n",
       " 75233      920.73\n",
       " 75234      162.27\n",
       " 75235       71.45\n",
       " 75236      545.66\n",
       " 75237     1669.20\n",
       " 75238      546.16\n",
       " 75240      240.11\n",
       " 75241    10194.98\n",
       " 75243     4159.10\n",
       " 75244        0.05\n",
       " 75246      612.66\n",
       " 75247     1591.73\n",
       " 75248       47.94\n",
       " 75249       22.33\n",
       " 75251        0.00\n",
       " 75252        0.19\n",
       " 75253     5657.17\n",
       " 75254        0.57\n",
       " 75270        0.00\n",
       " 75287        0.00\n",
       " Name: Delinquent Taxes, dtype: float64}"
      ]
     },
     "execution_count": 60,
     "metadata": {},
     "output_type": "execute_result"
    }
   ],
   "source": [
    "\n",
    "results[\"What is the total amount of back taxes owed on vacant land in each zip code?\"] = {\n",
    "    'question_number': 14,\n",
    "    'value': back_taxes_total_by_zip\n",
    "}\n",
    "\n",
    "results[\"What is the total amount of back taxes owed on vacant land in each zip code?\"] "
   ]
  },
  {
   "cell_type": "code",
   "execution_count": 61,
   "id": "3f8fe436-2a56-4eeb-8707-60d935f51e9d",
   "metadata": {},
   "outputs": [],
   "source": [
    "#15 What is the total amount of back taxes owed on vacant structures in each City Council District?\n",
    "\n",
    "# Grouping and calculating the total amount of back taxes owed on vacant land by City Council District\n",
    "back_taxes_total_by_district_by_structure = structure_df.groupby('Council District')['Delinquent Taxes'].sum()\n"
   ]
  },
  {
   "cell_type": "code",
   "execution_count": 62,
   "id": "6ee349b0-234f-49a6-9894-7bbb31a17c8a",
   "metadata": {},
   "outputs": [
    {
     "data": {
      "text/plain": [
       "{'question_number': 15,\n",
       " 'value': Council District\n",
       " District 01     3296.95\n",
       " District 02    41146.59\n",
       " District 03     4803.20\n",
       " District 04    18218.75\n",
       " District 05     2558.69\n",
       " District 06    23400.64\n",
       " District 07    10657.86\n",
       " District 08     6932.20\n",
       " District 09    10969.02\n",
       " District 10     8667.99\n",
       " District 11     3462.20\n",
       " District 12     1906.72\n",
       " District 13    20408.81\n",
       " District 14    18883.96\n",
       " Name: Delinquent Taxes, dtype: float64}"
      ]
     },
     "execution_count": 62,
     "metadata": {},
     "output_type": "execute_result"
    }
   ],
   "source": [
    "\n",
    "results[\"What is the total amount of back taxes owed on vacant structures in each City Council District?\"] = {\n",
    "    'question_number': 15,\n",
    "    'value': back_taxes_total_by_district_by_structure\n",
    "}\n",
    "\n",
    "results[\"What is the total amount of back taxes owed on vacant structures in each City Council District?\"]"
   ]
  },
  {
   "cell_type": "code",
   "execution_count": 63,
   "id": "e2faa9aa-22ad-4e5c-9dd9-a53b3bacdcfe",
   "metadata": {},
   "outputs": [],
   "source": [
    "#16 What is the total amount of back taxes owed on vacant structures in each zip code?\n",
    "\n",
    "# Grouping and calculating the total amount of back taxes owed on vacant land by Zip Code\n",
    "back_taxes_total_by_zip_by_structure = structure_df.groupby('Zip Code')['Delinquent Taxes'].sum()\n",
    "\n",
    "# Convert index (zip codes) to integers to remove the .0 decimal part\n",
    "back_taxes_total_by_zip_by_structure.index = back_taxes_total_by_zip_by_structure.index.astype(int)\n"
   ]
  },
  {
   "cell_type": "code",
   "execution_count": 64,
   "id": "11d176ff-b992-4559-9184-61226261fa81",
   "metadata": {},
   "outputs": [
    {
     "data": {
      "text/plain": [
       "{'question_number': 16,\n",
       " 'value': Zip Code\n",
       " 75006        0.00\n",
       " 75019        0.00\n",
       " 75042        0.00\n",
       " 75043        0.00\n",
       " 75051        0.00\n",
       " 75062        0.00\n",
       " 75063        0.00\n",
       " 75080        0.00\n",
       " 75081        0.00\n",
       " 75115        0.00\n",
       " 75150        0.01\n",
       " 75201     8971.84\n",
       " 75202     3600.70\n",
       " 75203     2813.61\n",
       " 75204     7380.81\n",
       " 75205        0.00\n",
       " 75206     3970.48\n",
       " 75207     4181.55\n",
       " 75208     3471.32\n",
       " 75209     8779.79\n",
       " 75210     1292.39\n",
       " 75211     2820.36\n",
       " 75212     8142.31\n",
       " 75214     9185.06\n",
       " 75215     7023.30\n",
       " 75216    14260.40\n",
       " 75217     3824.90\n",
       " 75218     6334.18\n",
       " 75219     3844.48\n",
       " 75220     5347.09\n",
       " 75223     3088.73\n",
       " 75224     1005.65\n",
       " 75225       73.51\n",
       " 75226       18.43\n",
       " 75227     3055.09\n",
       " 75228     5870.56\n",
       " 75229     6810.31\n",
       " 75230     3160.24\n",
       " 75231     5775.98\n",
       " 75232     1188.48\n",
       " 75233      749.48\n",
       " 75234        8.22\n",
       " 75235    16778.79\n",
       " 75236     1127.63\n",
       " 75237     1003.16\n",
       " 75238      556.57\n",
       " 75240      717.78\n",
       " 75241     3892.94\n",
       " 75243     8667.97\n",
       " 75244     1504.31\n",
       " 75246       34.21\n",
       " 75247      357.27\n",
       " 75248     1906.72\n",
       " 75249        7.11\n",
       " 75251        0.00\n",
       " 75252        0.00\n",
       " 75253     1461.57\n",
       " 75254     1248.29\n",
       " 75270        0.00\n",
       " Name: Delinquent Taxes, dtype: float64}"
      ]
     },
     "execution_count": 64,
     "metadata": {},
     "output_type": "execute_result"
    }
   ],
   "source": [
    "\n",
    "results[\"What is the total amount of back taxes owed on vacant structures in each zip code?\"] = {\n",
    "    'question_number': 16,\n",
    "    'value': back_taxes_total_by_zip_by_structure\n",
    "}\n",
    "\n",
    "results[\"What is the total amount of back taxes owed on vacant structures in each zip code?\"] "
   ]
  },
  {
   "cell_type": "code",
   "execution_count": 65,
   "id": "3442b4b1-f574-4f54-9dcb-95c7e898f694",
   "metadata": {},
   "outputs": [],
   "source": [
    "#17 What is the average age of residential properties in each council district?\n",
    "\n",
    "#avg_age__prop_District=vacant_lots_df.groupby('Council District')['Property Age Years'].mean()\n",
    "# Calculate the average age of residential properties\n",
    "\n",
    "residential_avg_age_prop_District = residential_properties.groupby('Council District')['Property Age Years'].mean()"
   ]
  },
  {
   "cell_type": "code",
   "execution_count": 66,
   "id": "cc42acb2-2ac1-4f36-b854-cd6a63906872",
   "metadata": {},
   "outputs": [
    {
     "data": {
      "text/plain": [
       "{'question_number': 17,\n",
       " 'value': Council District\n",
       " District 01    64.513109\n",
       " District 02    25.467797\n",
       " District 03    42.898667\n",
       " District 04    50.881302\n",
       " District 05    49.807767\n",
       " District 06    20.174691\n",
       " District 07    35.020888\n",
       " District 08    27.926554\n",
       " District 09    53.660194\n",
       " District 10    46.239669\n",
       " District 11    38.524590\n",
       " District 12    42.860759\n",
       " District 13    26.819005\n",
       " District 14    17.762712\n",
       " Name: Property Age Years, dtype: float64}"
      ]
     },
     "execution_count": 66,
     "metadata": {},
     "output_type": "execute_result"
    }
   ],
   "source": [
    "\n",
    "results[\"What is the average age of residential properties in each council district?\"] = {\n",
    "    'question_number': 17,\n",
    "    'value': residential_avg_age_prop_District\n",
    "}\n",
    "\n",
    "results[\"What is the average age of residential properties in each council district?\"]"
   ]
  },
  {
   "cell_type": "code",
   "execution_count": 67,
   "id": "44a50ff7-175a-473b-b614-3c290d04f6fd",
   "metadata": {},
   "outputs": [],
   "source": [
    "#18 What is the average age of residential properties in each zip code?\n",
    "avg_age__prop_zip = residential_properties.groupby('Zip Code')['Property Age Years'].mean()\n",
    "#Fills na values with 0\n",
    "avg_age__prop_zip=avg_age__prop_zip.fillna(0)\n",
    "\n",
    "#converts avg age to int data type to remve decimals\n",
    "avg_age__prop_zip.index=avg_age__prop_zip.index.astype(int)\n"
   ]
  },
  {
   "cell_type": "code",
   "execution_count": 68,
   "id": "2de7746b-87be-4903-8a1a-9859b5c526a0",
   "metadata": {},
   "outputs": [
    {
     "data": {
      "text/plain": [
       "{'question_number': 18,\n",
       " 'value': Zip Code\n",
       " 75042    46.000000\n",
       " 75051     0.000000\n",
       " 75080     0.000000\n",
       " 75081     0.000000\n",
       " 75104     0.000000\n",
       " 75134     0.000000\n",
       " 75159     0.000000\n",
       " 75203    45.175610\n",
       " 75204    11.031008\n",
       " 75205     0.000000\n",
       " 75206    14.352000\n",
       " 75208    54.486486\n",
       " 75209    21.779817\n",
       " 75210    64.333333\n",
       " 75211    55.527660\n",
       " 75212    15.943907\n",
       " 75214    36.360000\n",
       " 75215     0.000000\n",
       " 75216    47.456837\n",
       " 75217    37.338156\n",
       " 75218    61.060606\n",
       " 75220    20.106618\n",
       " 75223    47.036697\n",
       " 75224    69.059603\n",
       " 75225    28.222222\n",
       " 75226     2.285714\n",
       " 75227    48.035806\n",
       " 75228    46.644444\n",
       " 75229    33.962617\n",
       " 75230    23.544355\n",
       " 75231    39.454545\n",
       " 75232    46.243478\n",
       " 75233    32.078652\n",
       " 75234    62.375000\n",
       " 75235    25.095238\n",
       " 75236    28.000000\n",
       " 75237    24.650000\n",
       " 75238    39.666667\n",
       " 75240    51.451613\n",
       " 75241    38.231214\n",
       " 75243    46.449541\n",
       " 75244    36.492958\n",
       " 75246     2.250000\n",
       " 75248    45.367647\n",
       " 75249    44.076923\n",
       " 75252     0.000000\n",
       " 75253     5.598214\n",
       " 75254    50.833333\n",
       " Name: Property Age Years, dtype: float64}"
      ]
     },
     "execution_count": 68,
     "metadata": {},
     "output_type": "execute_result"
    }
   ],
   "source": [
    "\n",
    "results[\"What is the average age of residential properties in each zip code?\"] = {\n",
    "    'question_number': 18,\n",
    "    'value': avg_age__prop_zip\n",
    "}\n",
    "\n",
    "results[\"What is the average age of residential properties in each zip code?\"]"
   ]
  },
  {
   "cell_type": "code",
   "execution_count": 69,
   "id": "28d82526-ac9f-4d66-9d83-0900541c84c9",
   "metadata": {},
   "outputs": [],
   "source": [
    "#19 What is the average size of residential properties in each council district?\n",
    "\n",
    "\n",
    "# Group by council district and calculate the average property size\n",
    "average_size_by_district = residential_properties.groupby('Council District')['Land Size'].mean()"
   ]
  },
  {
   "cell_type": "code",
   "execution_count": 70,
   "id": "5029a779-7fef-4b1f-a48c-d5d9488a2ba8",
   "metadata": {
    "scrolled": true
   },
   "outputs": [
    {
     "data": {
      "text/plain": [
       "{'question_number': 19,\n",
       " 'value': Council District\n",
       " District 01    0.685420\n",
       " District 02    0.357161\n",
       " District 03    1.583366\n",
       " District 04    0.347238\n",
       " District 05    0.866688\n",
       " District 06    0.240354\n",
       " District 07    1.493583\n",
       " District 08    1.634822\n",
       " District 09    0.658111\n",
       " District 10    1.198724\n",
       " District 11    1.483045\n",
       " District 12    1.713730\n",
       " District 13    1.024812\n",
       " District 14    0.315840\n",
       " Name: Land Size, dtype: float64}"
      ]
     },
     "execution_count": 70,
     "metadata": {},
     "output_type": "execute_result"
    }
   ],
   "source": [
    "\n",
    "results[\"What is the average size of residential properties in each council district?\"] = {\n",
    "    'question_number': 19,\n",
    "    'value': average_size_by_district\n",
    "}\n",
    "\n",
    "results[\"What is the average size of residential properties in each council district?\"]"
   ]
  },
  {
   "cell_type": "code",
   "execution_count": 71,
   "id": "c7e9bdbe",
   "metadata": {},
   "outputs": [],
   "source": [
    "#20 What is the average size of residential properties in each zip code?\n",
    "\n",
    "# Group by council district and calculate the average property size\n",
    "average_size_by_zip = residential_properties.groupby('Zip Code')['Land Size'].mean()\n",
    "\n",
    "# Convert index (zip codes) to integers to remove the .0 decimal part\n",
    "average_size_by_zip.index = average_size_by_zip.index.astype(int)\n"
   ]
  },
  {
   "cell_type": "code",
   "execution_count": 72,
   "id": "56492244",
   "metadata": {},
   "outputs": [
    {
     "data": {
      "text/plain": [
       "{'question_number': 20,\n",
       " 'value': Zip Code\n",
       " 75042     0.192886\n",
       " 75051     8.861988\n",
       " 75080    21.995701\n",
       " 75081     0.107777\n",
       " 75104     0.272161\n",
       " 75134     0.164271\n",
       " 75159     0.230563\n",
       " 75203     0.229449\n",
       " 75204     0.200162\n",
       " 75205     0.155813\n",
       " 75206     0.297336\n",
       " 75208     0.679906\n",
       " 75209     0.707452\n",
       " 75210     1.206632\n",
       " 75211     1.041779\n",
       " 75212     0.219995\n",
       " 75214     0.447470\n",
       " 75215    41.161512\n",
       " 75216     0.387215\n",
       " 75217     1.295802\n",
       " 75218     0.820805\n",
       " 75220     0.453314\n",
       " 75223     0.277663\n",
       " 75224     0.609624\n",
       " 75225     1.092759\n",
       " 75226     0.204128\n",
       " 75227     1.089873\n",
       " 75228     1.433934\n",
       " 75229     0.785560\n",
       " 75230     0.718089\n",
       " 75231     4.595392\n",
       " 75232     0.892594\n",
       " 75233     0.888135\n",
       " 75234     0.198871\n",
       " 75235     0.343190\n",
       " 75236     3.003959\n",
       " 75237     1.935544\n",
       " 75238     0.281128\n",
       " 75240     1.173141\n",
       " 75241     1.426822\n",
       " 75243     1.328064\n",
       " 75244     0.396240\n",
       " 75246     0.290583\n",
       " 75248     1.489770\n",
       " 75249     3.615266\n",
       " 75252     0.720201\n",
       " 75253     1.586526\n",
       " 75254     5.238179\n",
       " Name: Land Size, dtype: float64}"
      ]
     },
     "execution_count": 72,
     "metadata": {},
     "output_type": "execute_result"
    }
   ],
   "source": [
    "\n",
    "results[\"What is the average size of residential properties in each zip code?\"] = {\n",
    "    'question_number': 20,\n",
    "    'value': average_size_by_zip\n",
    "}\n",
    "\n",
    "results[\"What is the average size of residential properties in each zip code?\"]"
   ]
  },
  {
   "cell_type": "code",
   "execution_count": 73,
   "id": "8e3b51d6",
   "metadata": {},
   "outputs": [],
   "source": [
    "#21 What is the average age of commercial properties in each council district?\n",
    "\n",
    "# Group by council district and calculate the average property size by commercial prop\n",
    "average_age_by_district_commercial = commercial_properties.groupby('Council District')['Property Age Years'].mean()\n"
   ]
  },
  {
   "cell_type": "code",
   "execution_count": 74,
   "id": "0a7c5b2e",
   "metadata": {},
   "outputs": [
    {
     "data": {
      "text/plain": [
       "{'question_number': 21,\n",
       " 'value': Council District\n",
       " District 01    70.500000\n",
       " District 02    62.187500\n",
       " District 03    27.000000\n",
       " District 04    70.333333\n",
       " District 05    41.250000\n",
       " District 06    55.166667\n",
       " District 07    68.650000\n",
       " District 08     1.000000\n",
       " District 09    39.666667\n",
       " District 10    41.000000\n",
       " District 13          NaN\n",
       " District 14    10.000000\n",
       " Name: Property Age Years, dtype: float64}"
      ]
     },
     "execution_count": 74,
     "metadata": {},
     "output_type": "execute_result"
    }
   ],
   "source": [
    "\n",
    "results[\"What is the average age of commercial properties in each council district?\"] = {\n",
    "    'question_number': 21,\n",
    "    'value': average_age_by_district_commercial\n",
    "}\n",
    "\n",
    "results[\"What is the average age of commercial properties in each council district?\"]"
   ]
  },
  {
   "cell_type": "code",
   "execution_count": 75,
   "id": "50304653-765a-480d-bae0-3f48ef290165",
   "metadata": {},
   "outputs": [],
   "source": [
    "#22 What is the average age of commercial properties in each zip code?\n",
    "\n",
    "average_age_by_zip_commercial = commercial_properties.groupby('Zip Code')['Property Age Years'].mean()\n",
    "\n",
    "# Convert index (zip codes) to integers to remove the .0 decimal part\n",
    "average_age_by_zip_commercial.index = average_age_by_zip_commercial.index.astype(int)"
   ]
  },
  {
   "cell_type": "code",
   "execution_count": 76,
   "id": "163dd26e-9f1a-4a4e-b24e-286665e445e5",
   "metadata": {},
   "outputs": [
    {
     "data": {
      "text/plain": [
       "{'question_number': 22,\n",
       " 'value': Zip Code\n",
       " 75051          NaN\n",
       " 75203    89.000000\n",
       " 75204    76.750000\n",
       " 75206    10.000000\n",
       " 75207          NaN\n",
       " 75208    63.500000\n",
       " 75209          NaN\n",
       " 75210          NaN\n",
       " 75211    27.000000\n",
       " 75212    62.500000\n",
       " 75215          NaN\n",
       " 75216    64.444444\n",
       " 75217    41.250000\n",
       " 75218    59.000000\n",
       " 75220    29.000000\n",
       " 75223    65.652174\n",
       " 75224          NaN\n",
       " 75226    51.500000\n",
       " 75227          NaN\n",
       " 75228    61.000000\n",
       " 75229          NaN\n",
       " 75235    69.500000\n",
       " 75236          NaN\n",
       " 75237          NaN\n",
       " 75238    31.250000\n",
       " 75241          NaN\n",
       " 75243    40.000000\n",
       " 75246          NaN\n",
       " 75247    64.000000\n",
       " 75253     1.000000\n",
       " Name: Property Age Years, dtype: float64}"
      ]
     },
     "execution_count": 76,
     "metadata": {},
     "output_type": "execute_result"
    }
   ],
   "source": [
    "results[\"What is the average age of commercial properties in each zip code?\"] = {\n",
    "    'question_number': 22,\n",
    "    'value': average_age_by_zip_commercial\n",
    "}\n",
    "\n",
    "results[\"What is the average age of commercial properties in each zip code?\"]"
   ]
  },
  {
   "cell_type": "code",
   "execution_count": 77,
   "id": "b0812922-b178-48c9-82a2-a6f6ca6cf7bd",
   "metadata": {},
   "outputs": [],
   "source": [
    "#23 What is the total amount of city liens owed on vacant land in each City Council District?\n",
    "\n",
    "# Grouping and calculating the total amount of city liens owed on vacant land by City Council District\n",
    "city_liens_total_by_district = land_df.groupby('Council District')['Code Liens - Amount'].sum()\n"
   ]
  },
  {
   "cell_type": "markdown",
   "id": "1e95b6d2",
   "metadata": {},
   "source": []
  },
  {
   "cell_type": "code",
   "execution_count": 78,
   "id": "539f7b2f",
   "metadata": {},
   "outputs": [
    {
     "data": {
      "text/plain": [
       "Council District\n",
       "District 01     141560.34\n",
       "District 02     301761.51\n",
       "District 03     214713.02\n",
       "District 04    2596592.50\n",
       "District 05     568502.05\n",
       "District 06     598888.25\n",
       "District 07    6154314.74\n",
       "District 08     917787.65\n",
       "District 09      10875.65\n",
       "District 10       8425.69\n",
       "District 11       9983.31\n",
       "District 12          0.00\n",
       "District 13       3592.27\n",
       "District 14      28926.43\n",
       "Name: Code Liens - Amount, dtype: float64"
      ]
     },
     "execution_count": 78,
     "metadata": {},
     "output_type": "execute_result"
    }
   ],
   "source": [
    "city_liens_total_by_district"
   ]
  },
  {
   "cell_type": "code",
   "execution_count": 79,
   "id": "28aec28c-0225-4b2a-b454-f959c73aa223",
   "metadata": {},
   "outputs": [
    {
     "data": {
      "text/plain": [
       "{'question_number': 23,\n",
       " 'value': Council District\n",
       " District 01     141560.34\n",
       " District 02     301761.51\n",
       " District 03     214713.02\n",
       " District 04    2596592.50\n",
       " District 05     568502.05\n",
       " District 06     598888.25\n",
       " District 07    6154314.74\n",
       " District 08     917787.65\n",
       " District 09      10875.65\n",
       " District 10       8425.69\n",
       " District 11       9983.31\n",
       " District 12          0.00\n",
       " District 13       3592.27\n",
       " District 14      28926.43\n",
       " Name: Code Liens - Amount, dtype: float64}"
      ]
     },
     "execution_count": 79,
     "metadata": {},
     "output_type": "execute_result"
    }
   ],
   "source": [
    "\n",
    "results[\"What is the total amount of city liens owed on vacant land in each City Council District?\"] = {\n",
    "    'question_number': 23,\n",
    "    'value': city_liens_total_by_district\n",
    "}\n",
    "\n",
    "results[\"What is the total amount of city liens owed on vacant land in each City Council District?\"]"
   ]
  },
  {
   "cell_type": "code",
   "execution_count": 80,
   "id": "23780cc5-04ff-467b-bcee-3938ce70e530",
   "metadata": {},
   "outputs": [],
   "source": [
    "#24 What is the total amount of city liens owed on vacant land in each zip code?\n",
    "\n",
    "# Grouping and calculating the total amount of city liens owed on vacant land by City Council District\n",
    "city_liens_total_by_zip = land_df.groupby('Zip Code')['Code Liens - Amount'].sum()\n",
    "\n",
    "# Convert index (zip codes) to integers to remove the .0 decimal part\n",
    "city_liens_total_by_zip.index = city_liens_total_by_zip.index.astype(int)\n"
   ]
  },
  {
   "cell_type": "code",
   "execution_count": 81,
   "id": "31e75faf-f555-4d43-a429-25e09bf73438",
   "metadata": {},
   "outputs": [
    {
     "data": {
      "text/plain": [
       "{'question_number': 24,\n",
       " 'value': Zip Code\n",
       " 75006          0.00\n",
       " 75019          0.00\n",
       " 75041          0.00\n",
       " 75043          0.00\n",
       " 75050          0.00\n",
       " 75051       3603.91\n",
       " 75060          0.00\n",
       " 75062          0.00\n",
       " 75063          0.00\n",
       " 75080          0.00\n",
       " 75081          0.00\n",
       " 75104          0.00\n",
       " 75134          0.00\n",
       " 75141          0.00\n",
       " 75149        171.41\n",
       " 75150          0.00\n",
       " 75159          0.00\n",
       " 75181          0.00\n",
       " 75182          0.00\n",
       " 75201          0.00\n",
       " 75202          0.00\n",
       " 75203    1048815.36\n",
       " 75204      67764.97\n",
       " 75205          0.00\n",
       " 75206       6015.15\n",
       " 75207       5301.83\n",
       " 75208      51626.08\n",
       " 75209       6726.82\n",
       " 75210    1908422.49\n",
       " 75211     105539.91\n",
       " 75212     518121.36\n",
       " 75214       9092.80\n",
       " 75215    3688922.43\n",
       " 75216    1749897.67\n",
       " 75217     602389.17\n",
       " 75218       4457.29\n",
       " 75219      11869.36\n",
       " 75220      36165.00\n",
       " 75223     399820.30\n",
       " 75224      79375.76\n",
       " 75225        239.61\n",
       " 75226      75991.57\n",
       " 75227     102223.28\n",
       " 75228      13774.09\n",
       " 75229       3494.22\n",
       " 75230       2553.72\n",
       " 75231          0.00\n",
       " 75232     126316.10\n",
       " 75233      23613.49\n",
       " 75234       6390.27\n",
       " 75235       2825.58\n",
       " 75236      64811.41\n",
       " 75237      25141.17\n",
       " 75238       1086.43\n",
       " 75240       6010.07\n",
       " 75241     667637.98\n",
       " 75243       7339.26\n",
       " 75244          0.00\n",
       " 75246      10864.55\n",
       " 75247       8514.74\n",
       " 75248          0.00\n",
       " 75249       4719.75\n",
       " 75251       1419.52\n",
       " 75252          0.00\n",
       " 75253      97028.94\n",
       " 75254          0.00\n",
       " 75270          0.00\n",
       " 75287          0.00\n",
       " Name: Code Liens - Amount, dtype: float64}"
      ]
     },
     "execution_count": 81,
     "metadata": {},
     "output_type": "execute_result"
    }
   ],
   "source": [
    "\n",
    "results[\"What is the total amount of city liens owed on vacant land in each zip code?\"] = {\n",
    "    'question_number': 24,\n",
    "    'value': city_liens_total_by_zip\n",
    "}\n",
    "\n",
    "results[\"What is the total amount of city liens owed on vacant land in each zip code?\"]"
   ]
  },
  {
   "cell_type": "code",
   "execution_count": 82,
   "id": "bc0ae79b-f28a-4312-852d-6cad0f3455f1",
   "metadata": {},
   "outputs": [],
   "source": [
    "#25 What is the total amount of city liens owed on vacant structures in each City Council District?\n",
    "\n",
    "# Grouping and calculating the total amount of city liens owed on vacant structures by City Council District\n",
    "city_liens_total_by_district_by_structure = structure_df.groupby('Council District')['Code Liens - Amount'].sum()\n"
   ]
  },
  {
   "cell_type": "code",
   "execution_count": 83,
   "id": "29fb7953-a1fe-4237-87d5-2ac203783222",
   "metadata": {},
   "outputs": [
    {
     "data": {
      "text/plain": [
       "{'question_number': 25,\n",
       " 'value': Council District\n",
       " District 01      60956.36\n",
       " District 02      96414.16\n",
       " District 03      96242.48\n",
       " District 04    1182617.26\n",
       " District 05     222558.07\n",
       " District 06     217224.27\n",
       " District 07    1056353.08\n",
       " District 08     308517.40\n",
       " District 09      70502.58\n",
       " District 10       4796.08\n",
       " District 11      34294.92\n",
       " District 12      49869.82\n",
       " District 13      12647.82\n",
       " District 14      18767.31\n",
       " Name: Code Liens - Amount, dtype: float64}"
      ]
     },
     "execution_count": 83,
     "metadata": {},
     "output_type": "execute_result"
    }
   ],
   "source": [
    "\n",
    "results[\"What is the total amount of city liens owed on vacant structures in each City Council District?\"] = {\n",
    "    'question_number': 25,\n",
    "    'value': city_liens_total_by_district_by_structure\n",
    "}\n",
    "\n",
    "results[\"What is the total amount of city liens owed on vacant structures in each City Council District?\"]"
   ]
  },
  {
   "cell_type": "code",
   "execution_count": 84,
   "id": "bfe20bd2-a3ca-483e-9ad5-f374ca48e160",
   "metadata": {},
   "outputs": [],
   "source": [
    "#26 How many properties are in the name of heirship in the City of Dallas?\n",
    "\n",
    "#Use suspected heir prop col and combine with public owner filter\n",
    "# Filter the DataFrame for properties in the City of Dallas with 'Suspected Heir Property' == 'Yes'\n",
    "#Would get zero combined with City of Dallas filter\n",
    "dallas_heirship_properties = (vacant_lots_df['Suspected Heir Property'] == 'Yes').sum()\n",
    "\n"
   ]
  },
  {
   "cell_type": "code",
   "execution_count": 85,
   "id": "f5b329bc-644c-4b8f-b749-2a91c9a13937",
   "metadata": {},
   "outputs": [
    {
     "data": {
      "text/plain": [
       "{'question_number': 26, 'value': 292}"
      ]
     },
     "execution_count": 85,
     "metadata": {},
     "output_type": "execute_result"
    }
   ],
   "source": [
    "\n",
    "results[\"How many properties are in the name of heirship in the City of Dallas?\"] = {\n",
    "    'question_number': 26,\n",
    "    'value': dallas_heirship_properties\n",
    "}\n",
    "\n",
    "results[\"How many properties are in the name of heirship in the City of Dallas?\"] "
   ]
  },
  {
   "cell_type": "code",
   "execution_count": 86,
   "id": "072041b4-338c-46f4-95ee-813f1f998144",
   "metadata": {},
   "outputs": [],
   "source": [
    "#27 How many properties in the name of heirship in the City of Dallas are vacant in each zip code?\n",
    "\n",
    "#apply Suspected heir to Yes and group by zip code\n",
    "dallas_heirship_zip = vacant_lots_df[vacant_lots_df['Suspected Heir Property'] == 'Yes'].groupby('Zip Code').size()\n",
    "\n",
    "# Convert index (zip codes) to integers to remove the .0 decimal part\n",
    "dallas_heirship_zip.index = dallas_heirship_zip.index.astype(int)\n"
   ]
  },
  {
   "cell_type": "code",
   "execution_count": 87,
   "id": "017b49e5-3104-4044-9365-f1fb7573c051",
   "metadata": {},
   "outputs": [
    {
     "data": {
      "text/plain": [
       "{'question_number': 27,\n",
       " 'value': Zip Code\n",
       " 75201     4\n",
       " 75203    24\n",
       " 75206     2\n",
       " 75207     1\n",
       " 75208     6\n",
       " 75209     1\n",
       " 75210    16\n",
       " 75211     6\n",
       " 75212    28\n",
       " 75214     4\n",
       " 75215    35\n",
       " 75216    55\n",
       " 75217     9\n",
       " 75218     6\n",
       " 75220     1\n",
       " 75223     9\n",
       " 75224     4\n",
       " 75225     4\n",
       " 75226     5\n",
       " 75227     7\n",
       " 75228    13\n",
       " 75229     2\n",
       " 75230     3\n",
       " 75231     2\n",
       " 75232     4\n",
       " 75233     3\n",
       " 75235     1\n",
       " 75237     2\n",
       " 75238     1\n",
       " 75241    19\n",
       " 75243     4\n",
       " 75246     1\n",
       " 75249     2\n",
       " 75253     8\n",
       " dtype: int64}"
      ]
     },
     "execution_count": 87,
     "metadata": {},
     "output_type": "execute_result"
    }
   ],
   "source": [
    "\n",
    "results[\"How many properties in the name of heirship in the City of Dallas are vacant in each zip code?\"] = {\n",
    "    'question_number': 27,\n",
    "    'value': dallas_heirship_zip\n",
    "}\n",
    "\n",
    "results[\"How many properties in the name of heirship in the City of Dallas are vacant in each zip code?\"] "
   ]
  },
  {
   "cell_type": "code",
   "execution_count": 88,
   "id": "e3e4bd84-ec6d-4d8e-89bf-56992451fce6",
   "metadata": {},
   "outputs": [],
   "source": [
    "#28 How many properties in the name of heirship in the City of Dallas are vacant in each council district?\n",
    "\n",
    "#apply Suspected heir to Yes and group by council distrcit\n",
    "dallas_heirship_District = vacant_lots_df[vacant_lots_df['Suspected Heir Property'] == 'Yes'].groupby('Council District').size()\n"
   ]
  },
  {
   "cell_type": "code",
   "execution_count": 89,
   "id": "fe279792-0528-4286-b475-9756b584afe3",
   "metadata": {},
   "outputs": [
    {
     "data": {
      "text/plain": [
       "{'question_number': 28,\n",
       " 'value': Council District\n",
       " District 01     9\n",
       " District 02    18\n",
       " District 03    13\n",
       " District 04    65\n",
       " District 05    13\n",
       " District 06    33\n",
       " District 07    75\n",
       " District 08    29\n",
       " District 09    12\n",
       " District 10     7\n",
       " District 11     2\n",
       " District 13     7\n",
       " District 14     9\n",
       " dtype: int64}"
      ]
     },
     "execution_count": 89,
     "metadata": {},
     "output_type": "execute_result"
    }
   ],
   "source": [
    "\n",
    "results[\"How many properties in the name of heirship in the City of Dallas are vacant in each council district?\"] = {\n",
    "    'question_number': 28,\n",
    "    'value': dallas_heirship_District\n",
    "}\n",
    "\n",
    "results[\"How many properties in the name of heirship in the City of Dallas are vacant in each council district?\"] "
   ]
  },
  {
   "cell_type": "code",
   "execution_count": 90,
   "id": "1cb1fffe-1c92-43b0-b81d-9bcb5e41887b",
   "metadata": {},
   "outputs": [],
   "source": [
    "#29 How many private owners have five or more vacant properties in the City of Dallas?\n",
    "owner_vacant_property_counts = vacant_lots_df[\n",
    "    (vacant_lots_df['Owner'] == 'Private Owner') &\n",
    "    (vacant_lots_df['Owner Property Count'] >= 5)\n",
    "]\n",
    "\n",
    "owner_vacant_property_counts_view = owner_vacant_property_counts.shape[0]\n"
   ]
  },
  {
   "cell_type": "code",
   "execution_count": 91,
   "id": "6f5acee6-9f72-4c3b-a1d9-509245508d35",
   "metadata": {},
   "outputs": [
    {
     "data": {
      "text/plain": [
       "{'question_number': 29, 'value': 0}"
      ]
     },
     "execution_count": 91,
     "metadata": {},
     "output_type": "execute_result"
    }
   ],
   "source": [
    "\n",
    "results[\"How many private owners have five or more vacant properties in the City of Dallas?\"] = {\n",
    "    'question_number': 29,\n",
    "    'value': owner_vacant_property_counts_view\n",
    "}\n",
    "\n",
    "results[\"How many private owners have five or more vacant properties in the City of Dallas?\"] "
   ]
  },
  {
   "cell_type": "code",
   "execution_count": 92,
   "id": "b15eb07f-ceaa-4c9c-ab0e-cdc6ddc95a5b",
   "metadata": {},
   "outputs": [],
   "source": [
    "#30 How many private owners with five or more vacant properties in the City of Dallas are in each zip code?\n",
    "\n",
    "private_5_zip = owner_vacant_property_counts.groupby('Zip Code').size()\n",
    "\n",
    "# Convert index (zip codes) to integers to remove the .0 decimal part\n",
    "private_5_zip.index = private_5_zip.index.astype(int)\n"
   ]
  },
  {
   "cell_type": "code",
   "execution_count": 93,
   "id": "1836dca4-e2af-4bbd-8050-a08467860916",
   "metadata": {},
   "outputs": [
    {
     "data": {
      "text/plain": [
       "{'question_number': 30, 'value': Series([], dtype: int64)}"
      ]
     },
     "execution_count": 93,
     "metadata": {},
     "output_type": "execute_result"
    }
   ],
   "source": [
    "\n",
    "results[\"How many private owners with five or more vacant properties in the City of Dallas are in each zip code?\"] = {\n",
    "    'question_number': 30,\n",
    "    'value': private_5_zip\n",
    "}\n",
    "\n",
    "results[\"How many private owners with five or more vacant properties in the City of Dallas are in each zip code?\"]"
   ]
  },
  {
   "cell_type": "code",
   "execution_count": 94,
   "id": "17947467-e49a-4782-9f56-9aa09c6b5f9b",
   "metadata": {},
   "outputs": [],
   "source": [
    "#31 How many private owners with five or more vacant properties in the City of Dallas are in each council district?\n",
    "\n",
    "private_5_district=owner_vacant_property_counts.groupby('Council District').size()"
   ]
  },
  {
   "cell_type": "code",
   "execution_count": 95,
   "id": "feec09fe-7e1e-4f44-9921-4f4f59af3fa4",
   "metadata": {},
   "outputs": [
    {
     "data": {
      "text/plain": [
       "{'question_number': 31, 'value': Series([], dtype: int64)}"
      ]
     },
     "execution_count": 95,
     "metadata": {},
     "output_type": "execute_result"
    }
   ],
   "source": [
    "\n",
    "results[\"How many private owners with five or more vacant properties in the City of Dallas are in each council district?\"] = {\n",
    "    'question_number': 31,\n",
    "    'value': private_5_district\n",
    "}\n",
    "\n",
    "results[\"How many private owners with five or more vacant properties in the City of Dallas are in each council district?\"]"
   ]
  },
  {
   "cell_type": "code",
   "execution_count": 96,
   "id": "f12169b9-a02d-4b97-887b-0b732e75d7b7",
   "metadata": {},
   "outputs": [],
   "source": [
    "#32 How many churches own vacant properties in the City of Dallas?\n",
    "\n",
    "church_owners = vacant_lots_df[vacant_lots_df['Owner is Church'] == 'Yes']\n",
    "\n",
    "num_church_properties = church_owners.shape[0]\n",
    "\n"
   ]
  },
  {
   "cell_type": "code",
   "execution_count": 97,
   "id": "d00cab2b",
   "metadata": {},
   "outputs": [
    {
     "data": {
      "text/html": [
       "<div>\n",
       "<style scoped>\n",
       "    .dataframe tbody tr th:only-of-type {\n",
       "        vertical-align: middle;\n",
       "    }\n",
       "\n",
       "    .dataframe tbody tr th {\n",
       "        vertical-align: top;\n",
       "    }\n",
       "\n",
       "    .dataframe thead th {\n",
       "        text-align: right;\n",
       "    }\n",
       "</style>\n",
       "<table border=\"1\" class=\"dataframe\">\n",
       "  <thead>\n",
       "    <tr style=\"text-align: right;\">\n",
       "      <th></th>\n",
       "      <th>Land</th>\n",
       "      <th>Structure</th>\n",
       "      <th>Total</th>\n",
       "    </tr>\n",
       "  </thead>\n",
       "  <tbody>\n",
       "    <tr>\n",
       "      <th>0</th>\n",
       "      <td>2</td>\n",
       "      <td>49</td>\n",
       "      <td>51</td>\n",
       "    </tr>\n",
       "  </tbody>\n",
       "</table>\n",
       "</div>"
      ],
      "text/plain": [
       "   Land  Structure  Total\n",
       "0     2         49     51"
      ]
     },
     "execution_count": 97,
     "metadata": {},
     "output_type": "execute_result"
    }
   ],
   "source": [
    "# Using church_owners, count number of properties grouped by property type\n",
    "church_property_types = church_owners.groupby('Property Type').size()\n",
    "\n",
    "# Convert to dict\n",
    "church_property_types = church_property_types.to_dict()\n",
    "\n",
    "# Insert total number of church-owned properties\n",
    "church_property_types['Total'] = num_church_properties\n",
    "\n",
    "# Convert to a dataframe\n",
    "church_property_types = pd.DataFrame(church_property_types, index=[0])\n",
    "\n",
    "church_property_types"
   ]
  },
  {
   "cell_type": "code",
   "execution_count": 98,
   "id": "0093d188-02da-4088-b1bc-2bf52b37e207",
   "metadata": {},
   "outputs": [
    {
     "data": {
      "text/plain": [
       "{'question_number': 32,\n",
       " 'value':    Land  Structure  Total\n",
       " 0     2         49     51}"
      ]
     },
     "execution_count": 98,
     "metadata": {},
     "output_type": "execute_result"
    }
   ],
   "source": [
    "\n",
    "results[\"How many churches own vacant properties in the City of Dallas?\"] = {\n",
    "    'question_number': 32,\n",
    "    'value': church_property_types\n",
    "}\n",
    "\n",
    "results[\"How many churches own vacant properties in the City of Dallas?\"] "
   ]
  },
  {
   "cell_type": "code",
   "execution_count": 99,
   "id": "3b71d40c-cd86-46fb-83e3-ca0e7ed7dcf8",
   "metadata": {},
   "outputs": [],
   "source": [
    "#33 How many churches owned vacant properties in the City of Dallas are in each zip code?\n",
    "\n",
    "church_prop_zip = vacant_lots_df[vacant_lots_df['Owner is Church'] == 'Yes'].groupby('Zip Code').size()\n",
    "\n",
    "# Convert index (zip codes) to integers to remove the .0 decimal part\n",
    "church_prop_zip.index = church_prop_zip.index.astype(int)\n"
   ]
  },
  {
   "cell_type": "code",
   "execution_count": 100,
   "id": "65893273-0715-43cf-a377-aed3fe2315af",
   "metadata": {},
   "outputs": [
    {
     "data": {
      "text/plain": [
       "{'question_number': 33,\n",
       " 'value': Zip Code\n",
       " 75203     2\n",
       " 75211     2\n",
       " 75212     5\n",
       " 75215     4\n",
       " 75216     7\n",
       " 75217     4\n",
       " 75223     1\n",
       " 75224     2\n",
       " 75226     2\n",
       " 75227     3\n",
       " 75228     1\n",
       " 75232     2\n",
       " 75233     2\n",
       " 75237     1\n",
       " 75238     1\n",
       " 75241    10\n",
       " 75243     1\n",
       " 75254     1\n",
       " dtype: int64}"
      ]
     },
     "execution_count": 100,
     "metadata": {},
     "output_type": "execute_result"
    }
   ],
   "source": [
    "\n",
    "results[\"How many churches owned vacant properties in the City of Dallas are in each zip code?\"] = {\n",
    "    'question_number': 33,\n",
    "    'value': church_prop_zip\n",
    "}\n",
    "\n",
    "results[\"How many churches owned vacant properties in the City of Dallas are in each zip code?\"] "
   ]
  },
  {
   "cell_type": "code",
   "execution_count": 101,
   "id": "8ebc3627-efc2-4ec2-9876-4e30c23cb52b",
   "metadata": {},
   "outputs": [],
   "source": [
    "#34 How many are in each council district\n",
    "\n",
    "church_prop_district = vacant_lots_df[vacant_lots_df['Owner is Church'] == 'Yes'].groupby('Council District').size()\n"
   ]
  },
  {
   "cell_type": "code",
   "execution_count": 102,
   "id": "06b00f1f-26f7-40a8-bca0-714e6e0f75a4",
   "metadata": {},
   "outputs": [
    {
     "data": {
      "text/plain": [
       "{'question_number': 34,\n",
       " 'value': Council District\n",
       " District 01     2\n",
       " District 02     3\n",
       " District 03     4\n",
       " District 04     9\n",
       " District 05     3\n",
       " District 06     5\n",
       " District 07    10\n",
       " District 08    12\n",
       " District 09     1\n",
       " District 10     1\n",
       " District 11     1\n",
       " dtype: int64}"
      ]
     },
     "execution_count": 102,
     "metadata": {},
     "output_type": "execute_result"
    }
   ],
   "source": [
    "\n",
    "results[\"How many are in each council district\"] = {\n",
    "    'question_number': 34,\n",
    "    'value': church_prop_district\n",
    "}\n",
    "\n",
    "results[\"How many are in each council district\"]"
   ]
  },
  {
   "cell_type": "code",
   "execution_count": null,
   "id": "20b1141f",
   "metadata": {},
   "outputs": [],
   "source": []
  }
 ],
 "metadata": {
  "kernelspec": {
   "display_name": "Python (SDPCDC venv)",
   "language": "python",
   "name": "venv"
  },
  "language_info": {
   "codemirror_mode": {
    "name": "ipython",
    "version": 3
   },
   "file_extension": ".py",
   "mimetype": "text/x-python",
   "name": "python",
   "nbconvert_exporter": "python",
   "pygments_lexer": "ipython3",
   "version": "3.10.11"
  }
 },
 "nbformat": 4,
 "nbformat_minor": 5
}
