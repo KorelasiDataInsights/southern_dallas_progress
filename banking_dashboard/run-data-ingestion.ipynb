{
 "cells": [
  {
   "cell_type": "code",
   "execution_count": null,
   "id": "327a3815-7c14-4757-8939-a33d9a57b94b",
   "metadata": {},
   "outputs": [],
   "source": [
    "# \"%04d.1f\" % (1000,)"
   ]
  },
  {
   "cell_type": "markdown",
   "id": "17c6cd6e-0120-4268-b7ec-b737b4d5b1a9",
   "metadata": {
    "jp-MarkdownHeadingCollapsed": true
   },
   "source": [
    "## Setup"
   ]
  },
  {
   "cell_type": "code",
   "execution_count": null,
   "id": "a93b6a85-493a-4dc6-9711-44204e835db1",
   "metadata": {},
   "outputs": [],
   "source": [
    "from helper_fcns import *\n",
    "import os\n",
    "pd.options.display.max_rows = 25\n",
    "pd.options.display.max_columns = 999"
   ]
  },
  {
   "cell_type": "code",
   "execution_count": null,
   "id": "3f0d9114-699e-4420-bcf4-e8a06ea15cf6",
   "metadata": {},
   "outputs": [],
   "source": [
    "if os.path.exists('data') is False:\n",
    "    os.mkdir('data')"
   ]
  },
  {
   "cell_type": "markdown",
   "id": "77d24d0d-5bdc-4410-ba72-d898ca03736c",
   "metadata": {},
   "source": [
    "# Run each data ingestion pipeline"
   ]
  },
  {
   "cell_type": "markdown",
   "id": "4f0dbabb-f74a-4ff6-a573-997978414669",
   "metadata": {},
   "source": [
    "## Census data"
   ]
  },
  {
   "cell_type": "code",
   "execution_count": null,
   "id": "72ebfc7d-8917-40eb-b73f-84b273854c6d",
   "metadata": {},
   "outputs": [],
   "source": [
    "# Ingest census tract data. User will need one of the csv files from the following urls downloaded in the same directory as this function to run it:\n",
    "# Dallas -> https://data.census.gov/table/DECENNIALPL2020.P4?g=050XX00US48113$1400000&y=2020&d=DEC+Redistricting+Data+(PL+94-171)\n",
    "# Collin -> https://data.census.gov/table/DECENNIALPL2020.P4?g=050XX00US48085$1400000&y=2020&d=DEC+Redistricting+Data+(PL+94-171)\n",
    "# Tarrant -> https://data.census.gov/table/DECENNIALPL2020.P4?g=050XX00US48439$1400000&y=2020&d=DEC+Redistricting+Data+(PL+94-171)\n",
    "census_df = census_data_ingester('data/DECENNIALPL2020.P4-2023-10-18T000916.csv')\n",
    "\n",
    "census_df"
   ]
  },
  {
   "cell_type": "markdown",
   "id": "753f9589-6148-4491-b56e-88b3b26b15e9",
   "metadata": {},
   "source": [
    "## FFIEC Census Data"
   ]
  },
  {
   "cell_type": "code",
   "execution_count": null,
   "id": "bac98273-77de-4ee9-89ae-24e62852d090",
   "metadata": {},
   "outputs": [],
   "source": [
    "# Ingest ffiec census data. User will need to have the files at the following urls downloaded in the same directory as this function to run it(THESE URLS WILL DOWNLOAD THE FILE WHEN PASTED IN BROWSER):\n",
    "# 2022 Flat File -> https://www.ffiec.gov/Census/Census_Flat_Files/CensusFlatFile2022.zip\n",
    "# FileDefinitions -> https://www.ffiec.gov/Census/Census_Flat_Files/FFIEC_Census_File_Definitions_26AUG22.xlsx\n",
    "ffiec_data = ffiec_flat_file_extractor('data/CensusFlatFile2022.csv','data/FFIEC_Census_File_Definitions_26AUG22.xlsx')\n",
    "\n",
    "ffiec_data"
   ]
  },
  {
   "cell_type": "markdown",
   "id": "5092e27f-494a-434f-b717-f3f49c4d3ad7",
   "metadata": {},
   "source": [
    "## HMDA Data"
   ]
  },
  {
   "cell_type": "code",
   "execution_count": null,
   "id": "449cb6c0-ec12-46a7-aee4-4d8d3d3694ff",
   "metadata": {},
   "outputs": [],
   "source": [
    "# Ingest files from HMDA website. User will need to have files at the following urls downloaded in the same directory as these functions to run them(THESE URLS WILL DOWNLOAD THE FILE WHEN PASTED IN BROWSER):\n",
    "# LAR -> https://s3.amazonaws.com/cfpb-hmda-public/prod/snapshot-data/2022/2022_public_lar_csv.zip\n",
    "# TS -> https://s3.amazonaws.com/cfpb-hmda-public/prod/snapshot-data/2022/2022_public_ts_csv.zip\n",
    "# Panel -> https://s3.amazonaws.com/cfpb-hmda-public/prod/snapshot-data/2022/2022_public_panel_csv.zip\n",
    "# MSA/MD Description - > https://s3.amazonaws.com/cfpb-hmda-public/prod/snapshot-data/2022/2022_public_msamd_csv.zip\n",
    "hmda_dict = hmda_data_ingester('a') # can be any string currently \n",
    "\n",
    "print(hmda_dict['lar_df'].aus_1.value_counts())\n",
    "\n",
    "hmda_dict['lar_df'].head(10)"
   ]
  },
  {
   "cell_type": "code",
   "execution_count": null,
   "id": "80bbe3aa-b591-48c3-9f3a-4e4d7b47b7b6",
   "metadata": {},
   "outputs": [],
   "source": [
    "hmda_dict['panel_df']"
   ]
  },
  {
   "cell_type": "markdown",
   "id": "00bed5b5-ab57-4176-a72c-62c328bb3329",
   "metadata": {},
   "source": [
    "## CRA Data"
   ]
  },
  {
   "cell_type": "code",
   "execution_count": null,
   "id": "f1b7eee0-25b0-47f1-ba34-2da2ad24d236",
   "metadata": {},
   "outputs": [],
   "source": [
    "# Ingest cra data. User will need to have zip files at the following urls downloaded in in the same directory as these functions to run them(THESE URLS WILL DOWNLOAD THE FILE WHEN PASTED IN BROWSER):\n",
    "# 2021 Agg Data -> https://www.ffiec.gov/cra/xls/21exp_aggr.zip\n",
    "# 2021 Discl Data -> https://www.ffiec.gov/cra/xls/21exp_discl.zip\n",
    "cra_dict = cra_data_ingester('t') # can be any string currently \n",
    "cra_dict_no_fips = cra_mapping_function(cra_dict)\n",
    "fcc_fips_url = 'https://transition.fcc.gov/oet/info/maps/census/fips/fips.txt'\n",
    "fcc_fips = fcc_fips_mappings_getter(fcc_fips_url)\n",
    "cra_dict_mapped_fips = state_county_fips_mapper(cra_dict_no_fips, fcc_fips)\n",
    "final_cra_dict = thousands_adder(cra_dict_mapped_fips)\n",
    "\n",
    "# Small business loans by County level\n",
    "final_cra_dict['cra2021_Discl_D11.dat']"
   ]
  },
  {
   "cell_type": "code",
   "execution_count": null,
   "id": "b8702ea6-a15e-421a-950c-eb0e9e1c42ff",
   "metadata": {},
   "outputs": [],
   "source": [
    "# \n",
    "final_cra_dict['cra2021_Discl_D6.dat']"
   ]
  },
  {
   "cell_type": "code",
   "execution_count": null,
   "id": "ad68ee91-ce7f-4f50-a7a1-88f45abeb6d6",
   "metadata": {},
   "outputs": [],
   "source": [
    "d11 = final_cra_dict['cra2021_Discl_D11.dat']\n",
    "d11 = d11[d11[\"Agency Code\"] == \"FDIC\"]\n",
    "d11 = d11[d11[\"State\"] == \"TEXAS\"]\n",
    "d11"
   ]
  },
  {
   "cell_type": "code",
   "execution_count": null,
   "id": "17301ca4-161b-494e-ac5e-924ecac59cf1",
   "metadata": {},
   "outputs": [],
   "source": [
    "d11.groupby('Agency Code').size()"
   ]
  },
  {
   "cell_type": "code",
   "execution_count": null,
   "id": "f7fa3172-5f43-4812-bac5-5d855aa0886a",
   "metadata": {},
   "outputs": [],
   "source": [
    "d11.groupby('Loan Type').size()"
   ]
  },
  {
   "cell_type": "code",
   "execution_count": null,
   "id": "d843a5a5-ad66-406e-8108-9d5df1047e78",
   "metadata": {},
   "outputs": [],
   "source": [
    "d11.groupby('Action Taken Type').size() "
   ]
  },
  {
   "cell_type": "code",
   "execution_count": null,
   "id": "b8f1fbe9-8848-4e3f-9a3a-155538df1894",
   "metadata": {},
   "outputs": [],
   "source": [
    "d11.columns"
   ]
  },
  {
   "cell_type": "code",
   "execution_count": null,
   "id": "73310d82-ce60-4727-9af5-fac6c84e0e34",
   "metadata": {},
   "outputs": [],
   "source": [
    "# list(final_cra_dict.keys())"
   ]
  },
  {
   "cell_type": "markdown",
   "id": "55ab0d87-43f5-446f-b394-85a7c2853a17",
   "metadata": {},
   "source": [
    "## FDIC Institutions"
   ]
  },
  {
   "cell_type": "code",
   "execution_count": null,
   "id": "c1563eee-3130-46f0-9e03-52db4e43eda5",
   "metadata": {},
   "outputs": [],
   "source": [
    "# Ingest fdic institutions and locations data. User will need to have files from the following urls downloaded in the same directory as these functions to run them (THESE URLS WILL DOWNLOAD THE FILE WHEN PASTED IN BROWSER):\n",
    "# Institutions -> https://s3-us-gov-west-1.amazonaws.com/cg-2e5c99a6-e282-42bf-9844-35f5430338a5/downloads/institutions.csv\n",
    "# Institution defs -> https://banks.data.fdic.gov/docs/institutions_definitions.csv\n",
    "replace_map_columns = changec_label_adder('data/institutions_definitions.csv')\n",
    "fdic_institutions_df = fdic_institutions_ingester('data/institutions.csv', replace_map_columns)\n",
    "fdic_institutions_df"
   ]
  },
  {
   "cell_type": "markdown",
   "id": "9a49f4e2-5e6b-4a9d-9326-60b07e914f94",
   "metadata": {},
   "source": [
    "## FDIC Locations"
   ]
  },
  {
   "cell_type": "code",
   "execution_count": null,
   "id": "dbe79300-52ff-4657-8eb1-459687b1fb28",
   "metadata": {},
   "outputs": [],
   "source": [
    "# locations -> https://s3-us-gov-west-1.amazonaws.com/cg-2e5c99a6-e282-42bf-9844-35f5430338a5/downloads/locations.csv\n",
    "# location defs -> https://banks.data.fdic.gov/docs/locations_definitions.csv\n",
    "fdic_locations_df = fdic_locations_mapper('data/locations_definitions.csv','data/locations.csv')\n",
    "fdic_locations_df"
   ]
  },
  {
   "cell_type": "markdown",
   "id": "159849a8-1c23-4231-9aaf-7762b73b6753",
   "metadata": {},
   "source": [
    "## SBA"
   ]
  },
  {
   "cell_type": "code",
   "execution_count": null,
   "id": "a483b1a5-80a1-4c5c-98a8-34a5f1e5d636",
   "metadata": {},
   "outputs": [],
   "source": [
    "# Ingest foia 7a data from 2020 to present. User will need url of foia 7a data from 2020 to present to run this function.\n",
    "# foia 7a data from 2020 to present url :'https://data.sba.gov/dataset/0ff8e8e9-b967-4f4e-987c-6ac78c575087/resource/c71ba6cf-b4e0-4e60-98f0-48aeaf4c6460/download/foia-7afy2020-present-asof-230630.csv'\n",
    "url = 'https://data.sba.gov/dataset/0ff8e8e9-b967-4f4e-987c-6ac78c575087/resource/c71ba6cf-b4e0-4e60-98f0-48aeaf4c6460/download/foia-7afy2020-present-asof-230630.csv'\n",
    "sba_data = sba_data_ingester(url)\n",
    "sba_data.head()"
   ]
  },
  {
   "cell_type": "code",
   "execution_count": null,
   "id": "2a92c83a-b0e1-44f5-8d2e-daaea0a54e1a",
   "metadata": {},
   "outputs": [],
   "source": [
    "if False:\n",
    "    [\n",
    "     # borrower details\n",
    "     'Borrower name', 'Borrower street address', 'Borrower city', 'Borrower state', 'Borrower zip code', 'ProjectCounty', 'ProjectState',  'BusinessType', 'BusinessAge', 'JobsSupported', 'SBADistrictOffice','CongressionalDistrict',\n",
    "     \n",
    "     # Bank details\n",
    "     'BankName','BankFDICNumber', 'BankNCUANumber', 'BankStreet', 'BankCity', 'BankState', 'BankZip', \n",
    "    \n",
    "     # Loan characteristics\n",
    "     'Program', 'Total loan amount', 'SBAGuaranteedApproval', 'ApprovalDate', 'ApprovalFiscalYear', 'FirstDisbursementDate','DeliveryMethod', 'Subprogram description', 'InitialInterestRate', 'TermInMonths', 'NaicsCode', 'NaicsDescription', 'FranchiseCode', 'FranchiseName',  'LoanStatus', 'PaidInFullDate', 'ChargeOffDate', 'GrossChargeOffAmount', 'RevolverStatus',  'SOLDSECMRTIND'\n",
    "    ]"
   ]
  },
  {
   "cell_type": "code",
   "execution_count": null,
   "id": "ef2f00ef-99ba-4ff6-8e1d-24ecdf68e38a",
   "metadata": {},
   "outputs": [],
   "source": [
    "# fdic_institutions_df[fdic_institutions_df[\"FDIC's unique number\"] == 90297]"
   ]
  },
  {
   "cell_type": "code",
   "execution_count": null,
   "id": "263c778b-41b8-4de7-aefe-e0f2a1233cb8",
   "metadata": {},
   "outputs": [],
   "source": [
    "if False:\n",
    "    fdic_num = fdic_institutions_df[\"FDIC's unique number\"].copy().unique()\n",
    "    fdic_num.sort()\n",
    "    fdic_num"
   ]
  },
  {
   "cell_type": "code",
   "execution_count": null,
   "id": "d286b740-7ac3-4e22-b440-77539f329004",
   "metadata": {},
   "outputs": [],
   "source": []
  },
  {
   "cell_type": "markdown",
   "id": "418454d6-a95c-40cf-a559-0377c27f614b",
   "metadata": {},
   "source": [
    "# Minimal Data Analysis Subset"
   ]
  },
  {
   "cell_type": "code",
   "execution_count": null,
   "id": "4afbaf4a-4a34-480c-81cd-a2c43fa9ccfc",
   "metadata": {},
   "outputs": [],
   "source": []
  },
  {
   "cell_type": "code",
   "execution_count": null,
   "id": "fa8844d6-e683-4d82-89ae-e52c4c15342d",
   "metadata": {},
   "outputs": [],
   "source": []
  },
  {
   "cell_type": "code",
   "execution_count": null,
   "id": "470bfc20-d261-45a7-8366-282d617dc748",
   "metadata": {},
   "outputs": [],
   "source": []
  }
 ],
 "metadata": {
  "kernelspec": {
   "display_name": "Python 3 (ipykernel)",
   "language": "python",
   "name": "python3"
  },
  "language_info": {
   "codemirror_mode": {
    "name": "ipython",
    "version": 3
   },
   "file_extension": ".py",
   "mimetype": "text/x-python",
   "name": "python",
   "nbconvert_exporter": "python",
   "pygments_lexer": "ipython3",
   "version": "3.10.11"
  }
 },
 "nbformat": 4,
 "nbformat_minor": 5
}
